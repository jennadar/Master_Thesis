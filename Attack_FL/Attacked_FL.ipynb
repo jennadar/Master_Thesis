{
 "cells": [
  {
   "cell_type": "code",
   "execution_count": 1,
   "metadata": {},
   "outputs": [
    {
     "name": "stdout",
     "output_type": "stream",
     "text": [
      "--- Round 1 ---\n",
      "Training on device 1...\n"
     ]
    },
    {
     "name": "stderr",
     "output_type": "stream",
     "text": [
      "d:\\jenny\\Documents\\FAUS_Study\\Thesis\\Working_Directory\\env\\Lib\\site-packages\\keras\\src\\layers\\core\\dense.py:87: UserWarning: Do not pass an `input_shape`/`input_dim` argument to a layer. When using Sequential models, prefer using an `Input(shape)` object as the first layer in the model instead.\n",
      "  super().__init__(activity_regularizer=activity_regularizer, **kwargs)\n"
     ]
    },
    {
     "name": "stdout",
     "output_type": "stream",
     "text": [
      "Training on device 2...\n"
     ]
    },
    {
     "name": "stderr",
     "output_type": "stream",
     "text": [
      "d:\\jenny\\Documents\\FAUS_Study\\Thesis\\Working_Directory\\env\\Lib\\site-packages\\keras\\src\\layers\\core\\dense.py:87: UserWarning: Do not pass an `input_shape`/`input_dim` argument to a layer. When using Sequential models, prefer using an `Input(shape)` object as the first layer in the model instead.\n",
      "  super().__init__(activity_regularizer=activity_regularizer, **kwargs)\n"
     ]
    },
    {
     "name": "stdout",
     "output_type": "stream",
     "text": [
      "Training on device 3...\n"
     ]
    },
    {
     "name": "stderr",
     "output_type": "stream",
     "text": [
      "d:\\jenny\\Documents\\FAUS_Study\\Thesis\\Working_Directory\\env\\Lib\\site-packages\\keras\\src\\layers\\core\\dense.py:87: UserWarning: Do not pass an `input_shape`/`input_dim` argument to a layer. When using Sequential models, prefer using an `Input(shape)` object as the first layer in the model instead.\n",
      "  super().__init__(activity_regularizer=activity_regularizer, **kwargs)\n"
     ]
    },
    {
     "name": "stdout",
     "output_type": "stream",
     "text": [
      "Training on device 4...\n"
     ]
    },
    {
     "name": "stderr",
     "output_type": "stream",
     "text": [
      "d:\\jenny\\Documents\\FAUS_Study\\Thesis\\Working_Directory\\env\\Lib\\site-packages\\keras\\src\\layers\\core\\dense.py:87: UserWarning: Do not pass an `input_shape`/`input_dim` argument to a layer. When using Sequential models, prefer using an `Input(shape)` object as the first layer in the model instead.\n",
      "  super().__init__(activity_regularizer=activity_regularizer, **kwargs)\n"
     ]
    },
    {
     "name": "stdout",
     "output_type": "stream",
     "text": [
      "Training on device 5...\n"
     ]
    },
    {
     "name": "stderr",
     "output_type": "stream",
     "text": [
      "d:\\jenny\\Documents\\FAUS_Study\\Thesis\\Working_Directory\\env\\Lib\\site-packages\\keras\\src\\layers\\core\\dense.py:87: UserWarning: Do not pass an `input_shape`/`input_dim` argument to a layer. When using Sequential models, prefer using an `Input(shape)` object as the first layer in the model instead.\n",
      "  super().__init__(activity_regularizer=activity_regularizer, **kwargs)\n"
     ]
    },
    {
     "name": "stdout",
     "output_type": "stream",
     "text": [
      "Training on device 6...\n"
     ]
    },
    {
     "name": "stderr",
     "output_type": "stream",
     "text": [
      "d:\\jenny\\Documents\\FAUS_Study\\Thesis\\Working_Directory\\env\\Lib\\site-packages\\keras\\src\\layers\\core\\dense.py:87: UserWarning: Do not pass an `input_shape`/`input_dim` argument to a layer. When using Sequential models, prefer using an `Input(shape)` object as the first layer in the model instead.\n",
      "  super().__init__(activity_regularizer=activity_regularizer, **kwargs)\n"
     ]
    },
    {
     "name": "stdout",
     "output_type": "stream",
     "text": [
      "Training on device 7...\n"
     ]
    },
    {
     "name": "stderr",
     "output_type": "stream",
     "text": [
      "d:\\jenny\\Documents\\FAUS_Study\\Thesis\\Working_Directory\\env\\Lib\\site-packages\\keras\\src\\layers\\core\\dense.py:87: UserWarning: Do not pass an `input_shape`/`input_dim` argument to a layer. When using Sequential models, prefer using an `Input(shape)` object as the first layer in the model instead.\n",
      "  super().__init__(activity_regularizer=activity_regularizer, **kwargs)\n"
     ]
    },
    {
     "name": "stdout",
     "output_type": "stream",
     "text": [
      "Training on device 8...\n"
     ]
    },
    {
     "name": "stderr",
     "output_type": "stream",
     "text": [
      "d:\\jenny\\Documents\\FAUS_Study\\Thesis\\Working_Directory\\env\\Lib\\site-packages\\keras\\src\\layers\\core\\dense.py:87: UserWarning: Do not pass an `input_shape`/`input_dim` argument to a layer. When using Sequential models, prefer using an `Input(shape)` object as the first layer in the model instead.\n",
      "  super().__init__(activity_regularizer=activity_regularizer, **kwargs)\n"
     ]
    },
    {
     "name": "stdout",
     "output_type": "stream",
     "text": [
      "Training on device 9...\n"
     ]
    },
    {
     "name": "stderr",
     "output_type": "stream",
     "text": [
      "d:\\jenny\\Documents\\FAUS_Study\\Thesis\\Working_Directory\\env\\Lib\\site-packages\\keras\\src\\layers\\core\\dense.py:87: UserWarning: Do not pass an `input_shape`/`input_dim` argument to a layer. When using Sequential models, prefer using an `Input(shape)` object as the first layer in the model instead.\n",
      "  super().__init__(activity_regularizer=activity_regularizer, **kwargs)\n"
     ]
    },
    {
     "name": "stdout",
     "output_type": "stream",
     "text": [
      "Training on device 10...\n"
     ]
    },
    {
     "name": "stderr",
     "output_type": "stream",
     "text": [
      "d:\\jenny\\Documents\\FAUS_Study\\Thesis\\Working_Directory\\env\\Lib\\site-packages\\keras\\src\\layers\\core\\dense.py:87: UserWarning: Do not pass an `input_shape`/`input_dim` argument to a layer. When using Sequential models, prefer using an `Input(shape)` object as the first layer in the model instead.\n",
      "  super().__init__(activity_regularizer=activity_regularizer, **kwargs)\n"
     ]
    },
    {
     "name": "stdout",
     "output_type": "stream",
     "text": [
      "Training on device 11...\n",
      "Error during train-test split for D:/jenny/Documents/FAUS_Study/Thesis/My_dataset/Train_data/Nor80_back20/Device_data/device_11_data.csv: The least populated class in y has only 1 member, which is too few. The minimum number of groups for any class cannot be less than 2.\n",
      "Training on device 12...\n"
     ]
    },
    {
     "name": "stderr",
     "output_type": "stream",
     "text": [
      "d:\\jenny\\Documents\\FAUS_Study\\Thesis\\Working_Directory\\env\\Lib\\site-packages\\keras\\src\\layers\\core\\dense.py:87: UserWarning: Do not pass an `input_shape`/`input_dim` argument to a layer. When using Sequential models, prefer using an `Input(shape)` object as the first layer in the model instead.\n",
      "  super().__init__(activity_regularizer=activity_regularizer, **kwargs)\n"
     ]
    },
    {
     "name": "stdout",
     "output_type": "stream",
     "text": [
      "Training on device 13...\n"
     ]
    },
    {
     "name": "stderr",
     "output_type": "stream",
     "text": [
      "d:\\jenny\\Documents\\FAUS_Study\\Thesis\\Working_Directory\\env\\Lib\\site-packages\\keras\\src\\layers\\core\\dense.py:87: UserWarning: Do not pass an `input_shape`/`input_dim` argument to a layer. When using Sequential models, prefer using an `Input(shape)` object as the first layer in the model instead.\n",
      "  super().__init__(activity_regularizer=activity_regularizer, **kwargs)\n"
     ]
    },
    {
     "name": "stdout",
     "output_type": "stream",
     "text": [
      "Training on device 14...\n"
     ]
    },
    {
     "name": "stderr",
     "output_type": "stream",
     "text": [
      "d:\\jenny\\Documents\\FAUS_Study\\Thesis\\Working_Directory\\env\\Lib\\site-packages\\keras\\src\\layers\\core\\dense.py:87: UserWarning: Do not pass an `input_shape`/`input_dim` argument to a layer. When using Sequential models, prefer using an `Input(shape)` object as the first layer in the model instead.\n",
      "  super().__init__(activity_regularizer=activity_regularizer, **kwargs)\n"
     ]
    },
    {
     "name": "stdout",
     "output_type": "stream",
     "text": [
      "Training on device 15...\n",
      "Error during train-test split for D:/jenny/Documents/FAUS_Study/Thesis/My_dataset/Train_data/Nor80_back20/Device_data/device_15_data.csv: The test_size = 1 should be greater or equal to the number of classes = 2\n",
      "Training on device 16...\n"
     ]
    },
    {
     "name": "stderr",
     "output_type": "stream",
     "text": [
      "d:\\jenny\\Documents\\FAUS_Study\\Thesis\\Working_Directory\\env\\Lib\\site-packages\\keras\\src\\layers\\core\\dense.py:87: UserWarning: Do not pass an `input_shape`/`input_dim` argument to a layer. When using Sequential models, prefer using an `Input(shape)` object as the first layer in the model instead.\n",
      "  super().__init__(activity_regularizer=activity_regularizer, **kwargs)\n"
     ]
    },
    {
     "name": "stdout",
     "output_type": "stream",
     "text": [
      "Training on device 17...\n"
     ]
    },
    {
     "name": "stderr",
     "output_type": "stream",
     "text": [
      "d:\\jenny\\Documents\\FAUS_Study\\Thesis\\Working_Directory\\env\\Lib\\site-packages\\keras\\src\\layers\\core\\dense.py:87: UserWarning: Do not pass an `input_shape`/`input_dim` argument to a layer. When using Sequential models, prefer using an `Input(shape)` object as the first layer in the model instead.\n",
      "  super().__init__(activity_regularizer=activity_regularizer, **kwargs)\n"
     ]
    },
    {
     "name": "stdout",
     "output_type": "stream",
     "text": [
      "Training on device 18...\n"
     ]
    },
    {
     "name": "stderr",
     "output_type": "stream",
     "text": [
      "d:\\jenny\\Documents\\FAUS_Study\\Thesis\\Working_Directory\\env\\Lib\\site-packages\\keras\\src\\layers\\core\\dense.py:87: UserWarning: Do not pass an `input_shape`/`input_dim` argument to a layer. When using Sequential models, prefer using an `Input(shape)` object as the first layer in the model instead.\n",
      "  super().__init__(activity_regularizer=activity_regularizer, **kwargs)\n"
     ]
    },
    {
     "name": "stdout",
     "output_type": "stream",
     "text": [
      "Training on device 19...\n",
      "Warning: Insufficient data in D:/jenny/Documents/FAUS_Study/Thesis/My_dataset/Train_data/Nor80_back20/Device_data/device_19_data.csv. Skipping this device.\n",
      "Training on device 20...\n"
     ]
    },
    {
     "name": "stderr",
     "output_type": "stream",
     "text": [
      "d:\\jenny\\Documents\\FAUS_Study\\Thesis\\Working_Directory\\env\\Lib\\site-packages\\keras\\src\\layers\\core\\dense.py:87: UserWarning: Do not pass an `input_shape`/`input_dim` argument to a layer. When using Sequential models, prefer using an `Input(shape)` object as the first layer in the model instead.\n",
      "  super().__init__(activity_regularizer=activity_regularizer, **kwargs)\n"
     ]
    },
    {
     "name": "stdout",
     "output_type": "stream",
     "text": [
      "Training on device 21...\n",
      "Warning: Insufficient data in D:/jenny/Documents/FAUS_Study/Thesis/My_dataset/Train_data/Nor80_back20/Device_data/device_21_data.csv. Skipping this device.\n",
      "Aggregating updates...\n",
      "Federated Learning Round Complete!\n"
     ]
    }
   ],
   "source": [
    "'''\n",
    "Federated learning algorithm\n",
    "\n",
    "'''\n",
    "\n",
    "import pandas as pd\n",
    "import numpy as np\n",
    "from sklearn.model_selection import train_test_split\n",
    "from sklearn.preprocessing import MinMaxScaler\n",
    "from tensorflow.keras.models import Sequential\n",
    "from tensorflow.keras.layers import Dense\n",
    "from tensorflow.keras.optimizers import SGD\n",
    "\n",
    "# Load segregated device data paths\n",
    "device_paths = [f\"D:/jenny/Documents/FAUS_Study/Thesis/My_dataset/Train_data/Nor80_back20/Device_data/device_{i}_data.csv\" for i in range(1, 22)]  # Example paths for 41 devices\n",
    "\n",
    "# Helper function to load and preprocess data\n",
    "def load_and_preprocess_data(file_path):\n",
    "    data = pd.read_csv(file_path)\n",
    "    \n",
    "    # Define required features\n",
    "    features = [\n",
    "        \"dur\", \"sbytes\", \"dbytes\", \"Sload\", \"Dload\", \"Spkts\", \"Dpkts\", \n",
    "        \"smeansz\", \"dmeansz\", \"sloss\", \"dloss\", \"Sintpkt\", \"Dintpkt\", \n",
    "        \"swin\", \"dwin\", \"tcprtt\", \"synack\", \"ackdat\", \n",
    "        \"ct_srv_src\", \"ct_srv_dst\", \"ct_dst_ltm\", \"ct_src_ ltm\",\"Label\"\n",
    "    ]\n",
    "    data.columns = data.columns.str.strip()  # Remove spaces from column names\n",
    "    # Ensure the dataset contains all required features\n",
    "    missing_features = [f for f in features if f not in data.columns]\n",
    "    if missing_features:\n",
    "        print(f\"Warning: Missing features {missing_features} in {file_path}. Skipping this device.\")\n",
    "        return None, None, None, None\n",
    "    \n",
    "    X = data[features]\n",
    "    y = data.get(\"Label\", None)  # Ensure \"Label\" column exists\n",
    "    if y is None:\n",
    "        print(f\"Warning: 'Label' column is missing in {file_path}. Skipping this device.\")\n",
    "        return None, None, None, None\n",
    "    \n",
    "    # Handle small datasets by enforcing a minimum number of samples\n",
    "    if len(X) < 2:  # Arbitrary threshold for minimum samples\n",
    "        print(f\"Warning: Insufficient data in {file_path}. Skipping this device.\")\n",
    "        return None, None, None, None\n",
    "    \n",
    "    # Scale features\n",
    "    scaler = MinMaxScaler()\n",
    "    X_scaled = scaler.fit_transform(X)\n",
    "    \n",
    "    # Split into training and testing datasets\n",
    "    try:\n",
    "        X_train, X_test, y_train, y_test = train_test_split(\n",
    "            X_scaled, y, test_size=0.2, random_state=42, stratify=y\n",
    "        )\n",
    "    except ValueError as e:\n",
    "        print(f\"Error during train-test split for {file_path}: {e}\")\n",
    "        return None, None, None, None\n",
    "    \n",
    "    return X_train, X_test, y_train, y_test\n",
    "\n",
    "# Define the neural network model\n",
    "def create_model(input_dim):\n",
    "    model = Sequential([\n",
    "        Dense(64, activation='relu', input_dim=input_dim),\n",
    "        Dense(32, activation='relu'),\n",
    "        Dense(1, activation='sigmoid')  # Binary classification\n",
    "    ])\n",
    "    model.compile(optimizer=SGD(learning_rate=0.01), loss='binary_crossentropy', metrics=['accuracy'])\n",
    "    return model\n",
    "\n",
    "# Federated Learning Simulation\n",
    "global_weights = None\n",
    "n_rounds = 1  # One round for this step\n",
    "device_models = []\n",
    "aggregated_weights = None\n",
    "\n",
    "for round_num in range(n_rounds):\n",
    "    print(f\"--- Round {round_num + 1} ---\")\n",
    "    client_updates = []\n",
    "    \n",
    "    for device_idx, device_path in enumerate(device_paths):\n",
    "        print(f\"Training on device {device_idx + 1}...\")\n",
    "        \n",
    "        # Load and preprocess device data\n",
    "        X_train, X_test, y_train, y_test = load_and_preprocess_data(device_path)\n",
    "        if X_train is None:  # Skip if data loading failed\n",
    "            continue\n",
    "        \n",
    "        # Create and train the model\n",
    "        input_dim = X_train.shape[1]\n",
    "        model = create_model(input_dim)\n",
    "        \n",
    "        if global_weights is not None:\n",
    "            model.set_weights(global_weights)  # Load global weights\n",
    "        \n",
    "        model.fit(X_train, y_train, epochs=5, batch_size=32, verbose=0)\n",
    "        client_updates.append(model.get_weights())\n",
    "        device_models.append(model)\n",
    "    \n",
    "    # Skip aggregation if no clients contributed\n",
    "    if not client_updates:\n",
    "        print(\"No clients contributed in this round. Exiting.\")\n",
    "        break\n",
    "    \n",
    "    # Federated Averaging: Aggregate weights\n",
    "    print(\"Aggregating updates...\")\n",
    "    aggregated_weights = [np.mean([client_weights[layer] for client_weights in client_updates], axis=0)\n",
    "                          for layer in range(len(client_updates[0]))]\n",
    "    global_weights = aggregated_weights  # Set new global weights\n",
    "    \n",
    "    # Update device models with the new global weights\n",
    "    for model in device_models:\n",
    "        model.set_weights(global_weights)\n",
    "\n",
    "print(\"Federated Learning Round Complete!\")\n"
   ]
  },
  {
   "cell_type": "code",
   "execution_count": 3,
   "metadata": {},
   "outputs": [
    {
     "name": "stdout",
     "output_type": "stream",
     "text": [
      "\n",
      "Evaluating model for device 1...\n",
      "Device 1 model performance:\n",
      "\u001b[1m1/1\u001b[0m \u001b[32m━━━━━━━━━━━━━━━━━━━━\u001b[0m\u001b[37m\u001b[0m \u001b[1m0s\u001b[0m 61ms/step\n",
      "Accuracy: 1.0\n",
      "Precision: 0.0\n",
      "recall: 0.0\n",
      "F1: 0.0\n",
      "Confusion Matrix:\n",
      "[[7]]\n",
      "Classification Report:\n",
      "              precision    recall  f1-score   support\n",
      "\n",
      "           0       1.00      1.00      1.00         7\n",
      "\n",
      "    accuracy                           1.00         7\n",
      "   macro avg       1.00      1.00      1.00         7\n",
      "weighted avg       1.00      1.00      1.00         7\n",
      "\n",
      "\n",
      "Evaluating model for device 2...\n",
      "Device 2 model performance:\n",
      "\u001b[1m1/1\u001b[0m \u001b[32m━━━━━━━━━━━━━━━━━━━━\u001b[0m\u001b[37m\u001b[0m \u001b[1m0s\u001b[0m 67ms/step\n",
      "Accuracy: 1.0\n",
      "Precision: 0.0\n",
      "recall: 0.0\n",
      "F1: 0.0\n",
      "Confusion Matrix:\n",
      "[[10]]\n",
      "Classification Report:\n",
      "              precision    recall  f1-score   support\n",
      "\n",
      "           0       1.00      1.00      1.00        10\n",
      "\n",
      "    accuracy                           1.00        10\n",
      "   macro avg       1.00      1.00      1.00        10\n",
      "weighted avg       1.00      1.00      1.00        10\n",
      "\n",
      "\n",
      "Evaluating model for device 3...\n",
      "Device 3 model performance:\n"
     ]
    },
    {
     "name": "stderr",
     "output_type": "stream",
     "text": [
      "d:\\jenny\\Documents\\FAUS_Study\\Thesis\\Working_Directory\\env\\Lib\\site-packages\\sklearn\\metrics\\_classification.py:407: UserWarning: A single label was found in 'y_true' and 'y_pred'. For the confusion matrix to have the correct shape, use the 'labels' parameter to pass all known labels.\n",
      "  warnings.warn(\n",
      "d:\\jenny\\Documents\\FAUS_Study\\Thesis\\Working_Directory\\env\\Lib\\site-packages\\sklearn\\metrics\\_classification.py:407: UserWarning: A single label was found in 'y_true' and 'y_pred'. For the confusion matrix to have the correct shape, use the 'labels' parameter to pass all known labels.\n",
      "  warnings.warn(\n"
     ]
    },
    {
     "name": "stdout",
     "output_type": "stream",
     "text": [
      "\u001b[1m1/1\u001b[0m \u001b[32m━━━━━━━━━━━━━━━━━━━━\u001b[0m\u001b[37m\u001b[0m \u001b[1m0s\u001b[0m 44ms/step\n",
      "Accuracy: 1.0\n",
      "Precision: 0.0\n",
      "recall: 0.0\n",
      "F1: 0.0\n",
      "Confusion Matrix:\n",
      "[[6]]\n",
      "Classification Report:\n",
      "              precision    recall  f1-score   support\n",
      "\n",
      "           0       1.00      1.00      1.00         6\n",
      "\n",
      "    accuracy                           1.00         6\n",
      "   macro avg       1.00      1.00      1.00         6\n",
      "weighted avg       1.00      1.00      1.00         6\n",
      "\n",
      "\n",
      "Evaluating model for device 4...\n",
      "Device 4 model performance:\n",
      "\u001b[1m1/1\u001b[0m \u001b[32m━━━━━━━━━━━━━━━━━━━━\u001b[0m\u001b[37m\u001b[0m \u001b[1m0s\u001b[0m 50ms/step\n",
      "Accuracy: 1.0\n",
      "Precision: 0.0\n",
      "recall: 0.0\n",
      "F1: 0.0\n",
      "Confusion Matrix:\n",
      "[[12]]\n",
      "Classification Report:\n",
      "              precision    recall  f1-score   support\n",
      "\n",
      "           0       1.00      1.00      1.00        12\n",
      "\n",
      "    accuracy                           1.00        12\n",
      "   macro avg       1.00      1.00      1.00        12\n",
      "weighted avg       1.00      1.00      1.00        12\n",
      "\n",
      "\n",
      "Evaluating model for device 5...\n",
      "Device 5 model performance:\n"
     ]
    },
    {
     "name": "stderr",
     "output_type": "stream",
     "text": [
      "d:\\jenny\\Documents\\FAUS_Study\\Thesis\\Working_Directory\\env\\Lib\\site-packages\\sklearn\\metrics\\_classification.py:407: UserWarning: A single label was found in 'y_true' and 'y_pred'. For the confusion matrix to have the correct shape, use the 'labels' parameter to pass all known labels.\n",
      "  warnings.warn(\n",
      "d:\\jenny\\Documents\\FAUS_Study\\Thesis\\Working_Directory\\env\\Lib\\site-packages\\sklearn\\metrics\\_classification.py:407: UserWarning: A single label was found in 'y_true' and 'y_pred'. For the confusion matrix to have the correct shape, use the 'labels' parameter to pass all known labels.\n",
      "  warnings.warn(\n"
     ]
    },
    {
     "name": "stdout",
     "output_type": "stream",
     "text": [
      "\u001b[1m1/1\u001b[0m \u001b[32m━━━━━━━━━━━━━━━━━━━━\u001b[0m\u001b[37m\u001b[0m \u001b[1m0s\u001b[0m 93ms/step\n",
      "Accuracy: 1.0\n",
      "Precision: 0.0\n",
      "recall: 0.0\n",
      "F1: 0.0\n",
      "Confusion Matrix:\n",
      "[[15]]\n",
      "Classification Report:\n",
      "              precision    recall  f1-score   support\n",
      "\n",
      "           0       1.00      1.00      1.00        15\n",
      "\n",
      "    accuracy                           1.00        15\n",
      "   macro avg       1.00      1.00      1.00        15\n",
      "weighted avg       1.00      1.00      1.00        15\n",
      "\n",
      "\n",
      "Evaluating model for device 6...\n",
      "Device 6 model performance:\n",
      "\u001b[1m1/1\u001b[0m \u001b[32m━━━━━━━━━━━━━━━━━━━━\u001b[0m\u001b[37m\u001b[0m \u001b[1m0s\u001b[0m 39ms/step"
     ]
    },
    {
     "name": "stderr",
     "output_type": "stream",
     "text": [
      "d:\\jenny\\Documents\\FAUS_Study\\Thesis\\Working_Directory\\env\\Lib\\site-packages\\sklearn\\metrics\\_classification.py:407: UserWarning: A single label was found in 'y_true' and 'y_pred'. For the confusion matrix to have the correct shape, use the 'labels' parameter to pass all known labels.\n",
      "  warnings.warn(\n"
     ]
    },
    {
     "name": "stdout",
     "output_type": "stream",
     "text": [
      "\u001b[1m1/1\u001b[0m \u001b[32m━━━━━━━━━━━━━━━━━━━━\u001b[0m\u001b[37m\u001b[0m \u001b[1m0s\u001b[0m 84ms/step\n",
      "Accuracy: 1.0\n",
      "Precision: 0.0\n",
      "recall: 0.0\n",
      "F1: 0.0\n",
      "Confusion Matrix:\n",
      "[[13]]\n",
      "Classification Report:\n",
      "              precision    recall  f1-score   support\n",
      "\n",
      "           0       1.00      1.00      1.00        13\n",
      "\n",
      "    accuracy                           1.00        13\n",
      "   macro avg       1.00      1.00      1.00        13\n",
      "weighted avg       1.00      1.00      1.00        13\n",
      "\n",
      "\n",
      "Evaluating model for device 7...\n",
      "Device 7 model performance:\n",
      "\u001b[1m1/1\u001b[0m \u001b[32m━━━━━━━━━━━━━━━━━━━━\u001b[0m\u001b[37m\u001b[0m \u001b[1m0s\u001b[0m 58ms/step\n"
     ]
    },
    {
     "name": "stderr",
     "output_type": "stream",
     "text": [
      "d:\\jenny\\Documents\\FAUS_Study\\Thesis\\Working_Directory\\env\\Lib\\site-packages\\sklearn\\metrics\\_classification.py:407: UserWarning: A single label was found in 'y_true' and 'y_pred'. For the confusion matrix to have the correct shape, use the 'labels' parameter to pass all known labels.\n",
      "  warnings.warn(\n"
     ]
    },
    {
     "name": "stdout",
     "output_type": "stream",
     "text": [
      "Accuracy: 1.0\n",
      "Precision: 0.0\n",
      "recall: 0.0\n",
      "F1: 0.0\n",
      "Confusion Matrix:\n",
      "[[12]]\n",
      "Classification Report:\n",
      "              precision    recall  f1-score   support\n",
      "\n",
      "           0       1.00      1.00      1.00        12\n",
      "\n",
      "    accuracy                           1.00        12\n",
      "   macro avg       1.00      1.00      1.00        12\n",
      "weighted avg       1.00      1.00      1.00        12\n",
      "\n",
      "\n",
      "Evaluating model for device 8...\n",
      "Device 8 model performance:\n",
      "\u001b[1m1/2\u001b[0m \u001b[32m━━━━━━━━━━\u001b[0m\u001b[37m━━━━━━━━━━\u001b[0m \u001b[1m0s\u001b[0m 46ms/step"
     ]
    },
    {
     "name": "stderr",
     "output_type": "stream",
     "text": [
      "d:\\jenny\\Documents\\FAUS_Study\\Thesis\\Working_Directory\\env\\Lib\\site-packages\\sklearn\\metrics\\_classification.py:407: UserWarning: A single label was found in 'y_true' and 'y_pred'. For the confusion matrix to have the correct shape, use the 'labels' parameter to pass all known labels.\n",
      "  warnings.warn(\n"
     ]
    },
    {
     "name": "stdout",
     "output_type": "stream",
     "text": [
      "\u001b[1m2/2\u001b[0m \u001b[32m━━━━━━━━━━━━━━━━━━━━\u001b[0m\u001b[37m\u001b[0m \u001b[1m0s\u001b[0m 51ms/step\n",
      "Accuracy: 0.02702702702702703\n",
      "Precision: 0.0\n",
      "recall: 0.0\n",
      "F1: 0.0\n",
      "Confusion Matrix:\n",
      "[[ 1  0]\n",
      " [36  0]]\n",
      "Classification Report:\n",
      "              precision    recall  f1-score   support\n",
      "\n",
      "           0       0.03      1.00      0.05         1\n",
      "           1       0.00      0.00      0.00        36\n",
      "\n",
      "    accuracy                           0.03        37\n",
      "   macro avg       0.01      0.50      0.03        37\n",
      "weighted avg       0.00      0.03      0.00        37\n",
      "\n",
      "\n",
      "Evaluating model for device 9...\n",
      "Device 9 model performance:\n",
      "\u001b[1m1/1\u001b[0m \u001b[32m━━━━━━━━━━━━━━━━━━━━\u001b[0m\u001b[37m\u001b[0m \u001b[1m0s\u001b[0m 88ms/step\n"
     ]
    },
    {
     "name": "stderr",
     "output_type": "stream",
     "text": [
      "d:\\jenny\\Documents\\FAUS_Study\\Thesis\\Working_Directory\\env\\Lib\\site-packages\\sklearn\\metrics\\_classification.py:1565: UndefinedMetricWarning: Precision is ill-defined and being set to 0.0 in labels with no predicted samples. Use `zero_division` parameter to control this behavior.\n",
      "  _warn_prf(average, modifier, f\"{metric.capitalize()} is\", len(result))\n",
      "d:\\jenny\\Documents\\FAUS_Study\\Thesis\\Working_Directory\\env\\Lib\\site-packages\\sklearn\\metrics\\_classification.py:1565: UndefinedMetricWarning: Precision is ill-defined and being set to 0.0 in labels with no predicted samples. Use `zero_division` parameter to control this behavior.\n",
      "  _warn_prf(average, modifier, f\"{metric.capitalize()} is\", len(result))\n",
      "d:\\jenny\\Documents\\FAUS_Study\\Thesis\\Working_Directory\\env\\Lib\\site-packages\\sklearn\\metrics\\_classification.py:1565: UndefinedMetricWarning: Precision is ill-defined and being set to 0.0 in labels with no predicted samples. Use `zero_division` parameter to control this behavior.\n",
      "  _warn_prf(average, modifier, f\"{metric.capitalize()} is\", len(result))\n"
     ]
    },
    {
     "name": "stdout",
     "output_type": "stream",
     "text": [
      "Accuracy: 1.0\n",
      "Precision: 0.0\n",
      "recall: 0.0\n",
      "F1: 0.0\n",
      "Confusion Matrix:\n",
      "[[13]]\n",
      "Classification Report:\n",
      "              precision    recall  f1-score   support\n",
      "\n",
      "           0       1.00      1.00      1.00        13\n",
      "\n",
      "    accuracy                           1.00        13\n",
      "   macro avg       1.00      1.00      1.00        13\n",
      "weighted avg       1.00      1.00      1.00        13\n",
      "\n",
      "\n",
      "Evaluating model for device 10...\n",
      "Device 10 model performance:\n",
      "\u001b[1m1/1\u001b[0m \u001b[32m━━━━━━━━━━━━━━━━━━━━\u001b[0m\u001b[37m\u001b[0m \u001b[1m0s\u001b[0m 77ms/step\n"
     ]
    },
    {
     "name": "stderr",
     "output_type": "stream",
     "text": [
      "d:\\jenny\\Documents\\FAUS_Study\\Thesis\\Working_Directory\\env\\Lib\\site-packages\\sklearn\\metrics\\_classification.py:407: UserWarning: A single label was found in 'y_true' and 'y_pred'. For the confusion matrix to have the correct shape, use the 'labels' parameter to pass all known labels.\n",
      "  warnings.warn(\n"
     ]
    },
    {
     "name": "stdout",
     "output_type": "stream",
     "text": [
      "Accuracy: 0.25\n",
      "Precision: 0.0\n",
      "recall: 0.0\n",
      "F1: 0.0\n",
      "Confusion Matrix:\n",
      "[[1 0]\n",
      " [3 0]]\n",
      "Classification Report:\n",
      "              precision    recall  f1-score   support\n",
      "\n",
      "           0       0.25      1.00      0.40         1\n",
      "           1       0.00      0.00      0.00         3\n",
      "\n",
      "    accuracy                           0.25         4\n",
      "   macro avg       0.12      0.50      0.20         4\n",
      "weighted avg       0.06      0.25      0.10         4\n",
      "\n",
      "\n",
      "Evaluating model for device 11...\n",
      "Device 11 model performance:\n"
     ]
    },
    {
     "name": "stderr",
     "output_type": "stream",
     "text": [
      "d:\\jenny\\Documents\\FAUS_Study\\Thesis\\Working_Directory\\env\\Lib\\site-packages\\sklearn\\metrics\\_classification.py:1565: UndefinedMetricWarning: Precision is ill-defined and being set to 0.0 in labels with no predicted samples. Use `zero_division` parameter to control this behavior.\n",
      "  _warn_prf(average, modifier, f\"{metric.capitalize()} is\", len(result))\n",
      "d:\\jenny\\Documents\\FAUS_Study\\Thesis\\Working_Directory\\env\\Lib\\site-packages\\sklearn\\metrics\\_classification.py:1565: UndefinedMetricWarning: Precision is ill-defined and being set to 0.0 in labels with no predicted samples. Use `zero_division` parameter to control this behavior.\n",
      "  _warn_prf(average, modifier, f\"{metric.capitalize()} is\", len(result))\n",
      "d:\\jenny\\Documents\\FAUS_Study\\Thesis\\Working_Directory\\env\\Lib\\site-packages\\sklearn\\metrics\\_classification.py:1565: UndefinedMetricWarning: Precision is ill-defined and being set to 0.0 in labels with no predicted samples. Use `zero_division` parameter to control this behavior.\n",
      "  _warn_prf(average, modifier, f\"{metric.capitalize()} is\", len(result))\n"
     ]
    },
    {
     "name": "stdout",
     "output_type": "stream",
     "text": [
      "\u001b[1m1/1\u001b[0m \u001b[32m━━━━━━━━━━━━━━━━━━━━\u001b[0m\u001b[37m\u001b[0m \u001b[1m0s\u001b[0m 129ms/step\n",
      "Accuracy: 1.0\n",
      "Precision: 0.0\n",
      "recall: 0.0\n",
      "F1: 0.0\n",
      "Confusion Matrix:\n",
      "[[12]]\n",
      "Classification Report:\n",
      "              precision    recall  f1-score   support\n",
      "\n",
      "           0       1.00      1.00      1.00        12\n",
      "\n",
      "    accuracy                           1.00        12\n",
      "   macro avg       1.00      1.00      1.00        12\n",
      "weighted avg       1.00      1.00      1.00        12\n",
      "\n",
      "\n",
      "Evaluating model for device 12...\n",
      "Device 12 model performance:\n",
      "\u001b[1m1/1\u001b[0m \u001b[32m━━━━━━━━━━━━━━━━━━━━\u001b[0m\u001b[37m\u001b[0m \u001b[1m0s\u001b[0m 33ms/step\n",
      "Accuracy: 1.0\n",
      "Precision: 0.0\n",
      "recall: 0.0\n",
      "F1: 0.0\n",
      "Confusion Matrix:\n",
      "[[11]]\n",
      "Classification Report:\n",
      "              precision    recall  f1-score   support\n",
      "\n",
      "           0       1.00      1.00      1.00        11\n",
      "\n",
      "    accuracy                           1.00        11\n",
      "   macro avg       1.00      1.00      1.00        11\n",
      "weighted avg       1.00      1.00      1.00        11\n",
      "\n",
      "\n",
      "Evaluating model for device 13...\n",
      "Device 13 model performance:\n"
     ]
    },
    {
     "name": "stderr",
     "output_type": "stream",
     "text": [
      "d:\\jenny\\Documents\\FAUS_Study\\Thesis\\Working_Directory\\env\\Lib\\site-packages\\sklearn\\metrics\\_classification.py:407: UserWarning: A single label was found in 'y_true' and 'y_pred'. For the confusion matrix to have the correct shape, use the 'labels' parameter to pass all known labels.\n",
      "  warnings.warn(\n",
      "d:\\jenny\\Documents\\FAUS_Study\\Thesis\\Working_Directory\\env\\Lib\\site-packages\\sklearn\\metrics\\_classification.py:407: UserWarning: A single label was found in 'y_true' and 'y_pred'. For the confusion matrix to have the correct shape, use the 'labels' parameter to pass all known labels.\n",
      "  warnings.warn(\n"
     ]
    },
    {
     "name": "stdout",
     "output_type": "stream",
     "text": [
      "\u001b[1m1/1\u001b[0m \u001b[32m━━━━━━━━━━━━━━━━━━━━\u001b[0m\u001b[37m\u001b[0m \u001b[1m0s\u001b[0m 67ms/step\n",
      "Accuracy: 0.5\n",
      "Precision: 0.0\n",
      "recall: 0.0\n",
      "F1: 0.0\n",
      "Confusion Matrix:\n",
      "[[2 0]\n",
      " [2 0]]\n",
      "Classification Report:\n",
      "              precision    recall  f1-score   support\n",
      "\n",
      "           0       0.50      1.00      0.67         2\n",
      "           1       0.00      0.00      0.00         2\n",
      "\n",
      "    accuracy                           0.50         4\n",
      "   macro avg       0.25      0.50      0.33         4\n",
      "weighted avg       0.25      0.50      0.33         4\n",
      "\n",
      "\n",
      "Evaluating model for device 14...\n",
      "Device 14 model performance:\n",
      "\u001b[1m1/1\u001b[0m \u001b[32m━━━━━━━━━━━━━━━━━━━━\u001b[0m\u001b[37m\u001b[0m \u001b[1m0s\u001b[0m 56ms/step\n",
      "Accuracy: 1.0\n",
      "Precision: 0.0\n",
      "recall: 0.0\n",
      "F1: 0.0\n",
      "Confusion Matrix:\n",
      "[[13]]\n",
      "Classification Report:\n",
      "              precision    recall  f1-score   support\n",
      "\n",
      "           0       1.00      1.00      1.00        13\n",
      "\n",
      "    accuracy                           1.00        13\n",
      "   macro avg       1.00      1.00      1.00        13\n",
      "weighted avg       1.00      1.00      1.00        13\n",
      "\n",
      "\n",
      "Evaluating model for device 15...\n",
      "Device 15 model performance:\n"
     ]
    },
    {
     "name": "stderr",
     "output_type": "stream",
     "text": [
      "d:\\jenny\\Documents\\FAUS_Study\\Thesis\\Working_Directory\\env\\Lib\\site-packages\\sklearn\\metrics\\_classification.py:1565: UndefinedMetricWarning: Precision is ill-defined and being set to 0.0 in labels with no predicted samples. Use `zero_division` parameter to control this behavior.\n",
      "  _warn_prf(average, modifier, f\"{metric.capitalize()} is\", len(result))\n",
      "d:\\jenny\\Documents\\FAUS_Study\\Thesis\\Working_Directory\\env\\Lib\\site-packages\\sklearn\\metrics\\_classification.py:1565: UndefinedMetricWarning: Precision is ill-defined and being set to 0.0 in labels with no predicted samples. Use `zero_division` parameter to control this behavior.\n",
      "  _warn_prf(average, modifier, f\"{metric.capitalize()} is\", len(result))\n",
      "d:\\jenny\\Documents\\FAUS_Study\\Thesis\\Working_Directory\\env\\Lib\\site-packages\\sklearn\\metrics\\_classification.py:1565: UndefinedMetricWarning: Precision is ill-defined and being set to 0.0 in labels with no predicted samples. Use `zero_division` parameter to control this behavior.\n",
      "  _warn_prf(average, modifier, f\"{metric.capitalize()} is\", len(result))\n",
      "d:\\jenny\\Documents\\FAUS_Study\\Thesis\\Working_Directory\\env\\Lib\\site-packages\\sklearn\\metrics\\_classification.py:407: UserWarning: A single label was found in 'y_true' and 'y_pred'. For the confusion matrix to have the correct shape, use the 'labels' parameter to pass all known labels.\n",
      "  warnings.warn(\n"
     ]
    },
    {
     "name": "stdout",
     "output_type": "stream",
     "text": [
      "\u001b[1m1/1\u001b[0m \u001b[32m━━━━━━━━━━━━━━━━━━━━\u001b[0m\u001b[37m\u001b[0m \u001b[1m0s\u001b[0m 62ms/step\n",
      "Accuracy: 1.0\n",
      "Precision: 0.0\n",
      "recall: 0.0\n",
      "F1: 0.0\n",
      "Confusion Matrix:\n",
      "[[8]]\n",
      "Classification Report:\n",
      "              precision    recall  f1-score   support\n",
      "\n",
      "           0       1.00      1.00      1.00         8\n",
      "\n",
      "    accuracy                           1.00         8\n",
      "   macro avg       1.00      1.00      1.00         8\n",
      "weighted avg       1.00      1.00      1.00         8\n",
      "\n",
      "\n",
      "Evaluating model for device 16...\n",
      "Device 16 model performance:\n",
      "\u001b[1m1/1\u001b[0m \u001b[32m━━━━━━━━━━━━━━━━━━━━\u001b[0m\u001b[37m\u001b[0m \u001b[1m0s\u001b[0m 76ms/step\n",
      "Accuracy: 1.0\n",
      "Precision: 0.0\n",
      "recall: 0.0\n",
      "F1: 0.0\n",
      "Confusion Matrix:\n",
      "[[12]]\n",
      "Classification Report:\n",
      "              precision    recall  f1-score   support\n",
      "\n",
      "           0       1.00      1.00      1.00        12\n",
      "\n",
      "    accuracy                           1.00        12\n",
      "   macro avg       1.00      1.00      1.00        12\n",
      "weighted avg       1.00      1.00      1.00        12\n",
      "\n",
      "\n",
      "Evaluating model for device 17...\n",
      "Device 17 model performance:\n"
     ]
    },
    {
     "name": "stderr",
     "output_type": "stream",
     "text": [
      "d:\\jenny\\Documents\\FAUS_Study\\Thesis\\Working_Directory\\env\\Lib\\site-packages\\sklearn\\metrics\\_classification.py:407: UserWarning: A single label was found in 'y_true' and 'y_pred'. For the confusion matrix to have the correct shape, use the 'labels' parameter to pass all known labels.\n",
      "  warnings.warn(\n",
      "d:\\jenny\\Documents\\FAUS_Study\\Thesis\\Working_Directory\\env\\Lib\\site-packages\\sklearn\\metrics\\_classification.py:407: UserWarning: A single label was found in 'y_true' and 'y_pred'. For the confusion matrix to have the correct shape, use the 'labels' parameter to pass all known labels.\n",
      "  warnings.warn(\n"
     ]
    },
    {
     "name": "stdout",
     "output_type": "stream",
     "text": [
      "\u001b[1m1/1\u001b[0m \u001b[32m━━━━━━━━━━━━━━━━━━━━\u001b[0m\u001b[37m\u001b[0m \u001b[1m0s\u001b[0m 66ms/step\n",
      "Accuracy: 1.0\n",
      "Precision: 0.0\n",
      "recall: 0.0\n",
      "F1: 0.0\n",
      "Confusion Matrix:\n",
      "[[14]]\n",
      "Classification Report:\n",
      "              precision    recall  f1-score   support\n",
      "\n",
      "           0       1.00      1.00      1.00        14\n",
      "\n",
      "    accuracy                           1.00        14\n",
      "   macro avg       1.00      1.00      1.00        14\n",
      "weighted avg       1.00      1.00      1.00        14\n",
      "\n",
      "\n",
      "Evaluating model for device 18...\n",
      "Error loading data for device 18: list index out of range\n",
      "\n",
      "Evaluating model for device 19...\n",
      "Error loading data for device 19: list index out of range\n",
      "\n",
      "Evaluating model for device 20...\n",
      "Warning: Insufficient data in D:/jenny/Documents/FAUS_Study/Thesis/My_dataset/Test_data/Nor80_back20/Device_data/device_20_data.csv. Skipping this device.\n",
      "Skipping device 20 due to insufficient or invalid data.\n",
      "\n",
      "Evaluating model for device 21...\n",
      "Warning: Insufficient data in D:/jenny/Documents/FAUS_Study/Thesis/My_dataset/Test_data/Nor80_back20/Device_data/device_21_data.csv. Skipping this device.\n",
      "Skipping device 21 due to insufficient or invalid data.\n",
      "\n",
      "Evaluating model for device 22...\n",
      "Warning: Insufficient data in D:/jenny/Documents/FAUS_Study/Thesis/My_dataset/Test_data/Nor80_back20/Device_data/device_22_data.csv. Skipping this device.\n",
      "Skipping device 22 due to insufficient or invalid data.\n",
      "\n",
      "Evaluating model for device 23...\n",
      "Warning: Insufficient data in D:/jenny/Documents/FAUS_Study/Thesis/My_dataset/Test_data/Nor80_back20/Device_data/device_23_data.csv. Skipping this device.\n",
      "Skipping device 23 due to insufficient or invalid data.\n",
      "\n",
      "Evaluating model for device 24...\n",
      "Warning: Insufficient data in D:/jenny/Documents/FAUS_Study/Thesis/My_dataset/Test_data/Nor80_back20/Device_data/device_24_data.csv. Skipping this device.\n",
      "Skipping device 24 due to insufficient or invalid data.\n",
      "\n",
      "Evaluating model for device 25...\n",
      "Error loading data for device 25: [Errno 2] No such file or directory: 'D:/jenny/Documents/FAUS_Study/Thesis/My_dataset/Test_data/Nor80_back20/Device_data/device_25_data.csv'\n",
      "\n",
      "Evaluating model for device 26...\n",
      "Error loading data for device 26: [Errno 2] No such file or directory: 'D:/jenny/Documents/FAUS_Study/Thesis/My_dataset/Test_data/Nor80_back20/Device_data/device_26_data.csv'\n",
      "\n",
      "Evaluating model for device 27...\n",
      "Error loading data for device 27: [Errno 2] No such file or directory: 'D:/jenny/Documents/FAUS_Study/Thesis/My_dataset/Test_data/Nor80_back20/Device_data/device_27_data.csv'\n",
      "\n",
      "Evaluating model for device 28...\n",
      "Error loading data for device 28: [Errno 2] No such file or directory: 'D:/jenny/Documents/FAUS_Study/Thesis/My_dataset/Test_data/Nor80_back20/Device_data/device_28_data.csv'\n",
      "\n",
      "Evaluating model for device 29...\n",
      "Error loading data for device 29: [Errno 2] No such file or directory: 'D:/jenny/Documents/FAUS_Study/Thesis/My_dataset/Test_data/Nor80_back20/Device_data/device_29_data.csv'\n",
      "\n",
      "Evaluating model for device 30...\n",
      "Error loading data for device 30: [Errno 2] No such file or directory: 'D:/jenny/Documents/FAUS_Study/Thesis/My_dataset/Test_data/Nor80_back20/Device_data/device_30_data.csv'\n",
      "\n",
      "Evaluating model for device 31...\n",
      "Error loading data for device 31: [Errno 2] No such file or directory: 'D:/jenny/Documents/FAUS_Study/Thesis/My_dataset/Test_data/Nor80_back20/Device_data/device_31_data.csv'\n",
      "\n",
      "Evaluating model for device 32...\n",
      "Error loading data for device 32: [Errno 2] No such file or directory: 'D:/jenny/Documents/FAUS_Study/Thesis/My_dataset/Test_data/Nor80_back20/Device_data/device_32_data.csv'\n",
      "\n",
      "Evaluating model for device 33...\n",
      "Error loading data for device 33: [Errno 2] No such file or directory: 'D:/jenny/Documents/FAUS_Study/Thesis/My_dataset/Test_data/Nor80_back20/Device_data/device_33_data.csv'\n",
      "\n",
      "Evaluating model for device 34...\n",
      "Error loading data for device 34: [Errno 2] No such file or directory: 'D:/jenny/Documents/FAUS_Study/Thesis/My_dataset/Test_data/Nor80_back20/Device_data/device_34_data.csv'\n",
      "\n",
      "Evaluating model for device 35...\n",
      "Error loading data for device 35: [Errno 2] No such file or directory: 'D:/jenny/Documents/FAUS_Study/Thesis/My_dataset/Test_data/Nor80_back20/Device_data/device_35_data.csv'\n",
      "\n",
      "Evaluating model for device 36...\n",
      "Error loading data for device 36: [Errno 2] No such file or directory: 'D:/jenny/Documents/FAUS_Study/Thesis/My_dataset/Test_data/Nor80_back20/Device_data/device_36_data.csv'\n",
      "\n",
      "Evaluating model for device 37...\n",
      "Error loading data for device 37: [Errno 2] No such file or directory: 'D:/jenny/Documents/FAUS_Study/Thesis/My_dataset/Test_data/Nor80_back20/Device_data/device_37_data.csv'\n",
      "\n",
      "Evaluating model for device 38...\n",
      "Error loading data for device 38: [Errno 2] No such file or directory: 'D:/jenny/Documents/FAUS_Study/Thesis/My_dataset/Test_data/Nor80_back20/Device_data/device_38_data.csv'\n",
      "\n",
      "Evaluating model for device 39...\n",
      "Error loading data for device 39: [Errno 2] No such file or directory: 'D:/jenny/Documents/FAUS_Study/Thesis/My_dataset/Test_data/Nor80_back20/Device_data/device_39_data.csv'\n",
      "\n",
      "Evaluating model for device 40...\n",
      "Error loading data for device 40: [Errno 2] No such file or directory: 'D:/jenny/Documents/FAUS_Study/Thesis/My_dataset/Test_data/Nor80_back20/Device_data/device_40_data.csv'\n",
      "\n",
      "Evaluating model for device 41...\n",
      "Error loading data for device 41: [Errno 2] No such file or directory: 'D:/jenny/Documents/FAUS_Study/Thesis/My_dataset/Test_data/Nor80_back20/Device_data/device_41_data.csv'\n",
      "\n",
      "Evaluating global model on aggregated test data...\n",
      "Global model performance:\n",
      "\u001b[1m1/1\u001b[0m \u001b[32m━━━━━━━━━━━━━━━━━━━━\u001b[0m\u001b[37m\u001b[0m \u001b[1m0s\u001b[0m 74ms/step"
     ]
    },
    {
     "name": "stderr",
     "output_type": "stream",
     "text": [
      "d:\\jenny\\Documents\\FAUS_Study\\Thesis\\Working_Directory\\env\\Lib\\site-packages\\sklearn\\metrics\\_classification.py:407: UserWarning: A single label was found in 'y_true' and 'y_pred'. For the confusion matrix to have the correct shape, use the 'labels' parameter to pass all known labels.\n",
      "  warnings.warn(\n",
      "d:\\jenny\\Documents\\FAUS_Study\\Thesis\\Working_Directory\\env\\Lib\\site-packages\\keras\\src\\layers\\core\\dense.py:87: UserWarning: Do not pass an `input_shape`/`input_dim` argument to a layer. When using Sequential models, prefer using an `Input(shape)` object as the first layer in the model instead.\n",
      "  super().__init__(activity_regularizer=activity_regularizer, **kwargs)\n"
     ]
    },
    {
     "name": "stdout",
     "output_type": "stream",
     "text": [
      "\u001b[1m1/1\u001b[0m \u001b[32m━━━━━━━━━━━━━━━━━━━━\u001b[0m\u001b[37m\u001b[0m \u001b[1m0s\u001b[0m 108ms/step\n",
      "Accuracy: 1.0\n",
      "Precision: 0.0\n",
      "recall: 0.0\n",
      "F1: 0.0\n",
      "Confusion Matrix:\n",
      "[[7]]\n",
      "Classification Report:\n",
      "              precision    recall  f1-score   support\n",
      "\n",
      "           0       1.00      1.00      1.00         7\n",
      "\n",
      "    accuracy                           1.00         7\n",
      "   macro avg       1.00      1.00      1.00         7\n",
      "weighted avg       1.00      1.00      1.00         7\n",
      "\n",
      "\n",
      "Evaluation completed!\n"
     ]
    },
    {
     "name": "stderr",
     "output_type": "stream",
     "text": [
      "d:\\jenny\\Documents\\FAUS_Study\\Thesis\\Working_Directory\\env\\Lib\\site-packages\\sklearn\\metrics\\_classification.py:407: UserWarning: A single label was found in 'y_true' and 'y_pred'. For the confusion matrix to have the correct shape, use the 'labels' parameter to pass all known labels.\n",
      "  warnings.warn(\n"
     ]
    }
   ],
   "source": [
    "\"\"\"\"************************************************************************************************************\n",
    "Evalation Script for each device in the network.\n",
    "\n",
    "***************************************************************************************************************\n",
    "\"\"\"\n",
    "\n",
    "from sklearn.metrics import accuracy_score, confusion_matrix, classification_report,f1_score,precision_score,recall_score\n",
    "\n",
    "# Helper function for model evaluation\n",
    "def evaluate_model(model, X_test, y_test):\n",
    "    y_pred = model.predict(X_test)\n",
    "    y_pred = (y_pred > 0.5).astype(\"int32\")  # Threshold for binary classification\n",
    "    accuracy = accuracy_score(y_test, y_pred)\n",
    "    precision = precision_score(y_test, y_pred, average=\"binary\", zero_division=0)\n",
    "    recall = recall_score(y_test, y_pred, average=\"binary\", zero_division=0)\n",
    "    f1 = f1_score(y_test, y_pred, average=\"binary\", zero_division=0)\n",
    "    print(f\"Accuracy: {accuracy}\")\n",
    "    print(f\"Precision: {precision}\")\n",
    "    print(f\"recall: {recall}\")\n",
    "    print(f\"F1: {f1}\")\n",
    "    print(\"Confusion Matrix:\")\n",
    "    print(confusion_matrix(y_test, y_pred))\n",
    "    print(\"Classification Report:\")\n",
    "    print(classification_report(y_test, y_pred))\n",
    "\n",
    "# Ensure that device_paths and device_models are available\n",
    "device_paths = [f\"D:/jenny/Documents/FAUS_Study/Thesis/My_dataset/Test_data/Nor80_back20/Device_data/device_{i}_data.csv\" for i in range(1, 42)]  # Example paths for 41 devices\n",
    "\n",
    "# Check if device models are available from the federated learning process\n",
    "if 'device_models' not in globals():\n",
    "    print(\"Device models not found. Please run the federated learning first.\")\n",
    "else:\n",
    "    # Evaluate device models\n",
    "    for device_idx, device_path in enumerate(device_paths):\n",
    "        print(f\"\\nEvaluating model for device {device_idx + 1}...\")\n",
    "        \n",
    "        # Load and preprocess the data for this device (same as federated learning)\n",
    "        try:\n",
    "            X_train, X_test, y_train, y_test = load_and_preprocess_data(device_path)\n",
    "            \n",
    "            # Check if the test data is valid (not None and not empty)\n",
    "            if X_test is not None and len(X_test) > 0:\n",
    "                device_model = device_models[device_idx]\n",
    "                print(f\"Device {device_idx + 1} model performance:\")\n",
    "                evaluate_model(device_model, X_test, y_test)  # Evaluate using test data\n",
    "            else:\n",
    "                print(f\"Skipping device {device_idx + 1} due to insufficient or invalid data.\")\n",
    "        except Exception as e:\n",
    "            print(f\"Error loading data for device {device_idx + 1}: {str(e)}\")\n",
    "\n",
    "    # Evaluate global model (if applicable)\n",
    "    if global_weights is not None:\n",
    "        print(\"\\nEvaluating global model on aggregated test data...\")\n",
    "        \n",
    "        # Use test data from the first device (or you can aggregate test data from all devices)\n",
    "        try:\n",
    "            X_train, X_test, y_train, y_test = load_and_preprocess_data(device_paths[0])  # Use the first device's test data\n",
    "            \n",
    "            # Check if the global test data is valid (not None and not empty)\n",
    "            if X_test is not None and len(X_test) > 0:\n",
    "                global_model = create_model(X_test.shape[1])\n",
    "                global_model.set_weights(global_weights)\n",
    "                print(\"Global model performance:\")\n",
    "                evaluate_model(global_model, X_test, y_test)  # Evaluate using aggregated global model\n",
    "            else:\n",
    "                print(\"Skipping global model evaluation due to insufficient or invalid test data.\")\n",
    "        except Exception as e:\n",
    "            print(f\"Error loading data for global model evaluation: {str(e)}\")\n",
    "\n",
    "print(\"\\nEvaluation completed!\")"
   ]
  }
 ],
 "metadata": {
  "kernelspec": {
   "display_name": "env",
   "language": "python",
   "name": "python3"
  },
  "language_info": {
   "codemirror_mode": {
    "name": "ipython",
    "version": 3
   },
   "file_extension": ".py",
   "mimetype": "text/x-python",
   "name": "python",
   "nbconvert_exporter": "python",
   "pygments_lexer": "ipython3",
   "version": "3.11.2"
  }
 },
 "nbformat": 4,
 "nbformat_minor": 2
}

{
 "cells": [
  {
   "cell_type": "code",
   "execution_count": 4,
   "metadata": {},
   "outputs": [
    {
     "name": "stderr",
     "output_type": "stream",
     "text": [
      "C:\\Users\\jenny\\AppData\\Local\\Temp\\ipykernel_10176\\1374038314.py:29: DtypeWarning: Columns (1,3,47) have mixed types. Specify dtype option on import or set low_memory=False.\n",
      "  data = pd.read_csv(input_file, header=None)\n"
     ]
    },
    {
     "name": "stdout",
     "output_type": "stream",
     "text": [
      "Processed and saved: D:/jenny/Documents/FAUS_Study/Thesis/My_dataset/Raw_data/UNSW-NB15_1.csv\n"
     ]
    },
    {
     "name": "stderr",
     "output_type": "stream",
     "text": [
      "C:\\Users\\jenny\\AppData\\Local\\Temp\\ipykernel_10176\\1374038314.py:29: DtypeWarning: Columns (3,39,47) have mixed types. Specify dtype option on import or set low_memory=False.\n",
      "  data = pd.read_csv(input_file, header=None)\n"
     ]
    },
    {
     "name": "stdout",
     "output_type": "stream",
     "text": [
      "Processed and saved: D:/jenny/Documents/FAUS_Study/Thesis/My_dataset/Raw_data/UNSW-NB15_2.csv\n",
      "Processed and saved: D:/jenny/Documents/FAUS_Study/Thesis/My_dataset/Raw_data/UNSW-NB15_3.csv\n",
      "Processed and saved: D:/jenny/Documents/FAUS_Study/Thesis/My_dataset/Raw_data/UNSW-NB15_4.csv\n",
      "Processing complete for specified files.\n"
     ]
    }
   ],
   "source": [
    "import pandas as pd\n",
    "import os\n",
    "\n",
    "# Define input and output directories\n",
    "input_dir = r\"D:/jenny/Documents/FAUS_Study/Thesis/My_dataset/Raw_data/\"\n",
    "output_dir = r\"D:/jenny/Documents/FAUS_Study/Thesis/My_dataset/Raw_data/\"\n",
    "features_file = r\"D:/jenny/Documents/FAUS_Study/Thesis/UNSW-NB15/CSV Files/NUSW-NB15_features.csv\"\n",
    "\n",
    "# Ensure the output directory exists\n",
    "os.makedirs(output_dir, exist_ok=True)\n",
    "\n",
    "# Load the features file\n",
    "features = pd.read_csv(features_file, encoding=\"latin1\")\n",
    "\n",
    "# Extract the feature names\n",
    "column_names = features[\"Name\"].tolist()\n",
    "\n",
    "# Specify the files to process\n",
    "files_to_process = [\"UNSW-NB15_1.csv\", \"UNSW-NB15_2.csv\", \"UNSW-NB15_3.csv\", \"UNSW-NB15_4.csv\"]\n",
    "\n",
    "# Process each specified file\n",
    "for file_name in files_to_process:\n",
    "    input_file = os.path.join(input_dir, file_name)\n",
    "    output_file = os.path.join(output_dir, file_name)\n",
    "    \n",
    "    # Check if the input file exists\n",
    "    if os.path.exists(input_file):\n",
    "        # Load the data file\n",
    "        data = pd.read_csv(input_file, header=None)\n",
    "        \n",
    "        # Add headers\n",
    "        data.columns = column_names\n",
    "\n",
    "        # Save the updated file\n",
    "        data.to_csv(output_file, index=False)\n",
    "        print(f\"Processed and saved: {output_file}\")\n",
    "    else:\n",
    "        print(f\"File not found: {input_file}\")\n",
    "\n",
    "print(\"Processing complete for specified files.\")\n"
   ]
  },
  {
   "cell_type": "code",
   "execution_count": 6,
   "metadata": {},
   "outputs": [
    {
     "name": "stdout",
     "output_type": "stream",
     "text": [
      "Processing file: D:/jenny/Documents/FAUS_Study/Thesis/My_dataset/Raw_data/UNSW-NB15_1.csv\n"
     ]
    },
    {
     "name": "stderr",
     "output_type": "stream",
     "text": [
      "C:\\Users\\jenny\\AppData\\Local\\Temp\\ipykernel_11412\\1564041751.py:30: DtypeWarning: Columns (1,3,47) have mixed types. Specify dtype option on import or set low_memory=False.\n",
      "  data = pd.read_csv(file_path)\n"
     ]
    },
    {
     "name": "stdout",
     "output_type": "stream",
     "text": [
      "normal_df =              srcip  sport          dstip dsport proto state       dur  sbytes  \\\n",
      "0       59.166.0.0   1390  149.171.126.6     53   udp   CON  0.001055     132   \n",
      "1       59.166.0.0  33661  149.171.126.9   1024   udp   CON  0.036133     528   \n",
      "2       59.166.0.6   1464  149.171.126.7     53   udp   CON  0.001119     146   \n",
      "3       59.166.0.5   3593  149.171.126.5     53   udp   CON  0.001209     132   \n",
      "4       59.166.0.3  49664  149.171.126.0     53   udp   CON  0.001169     146   \n",
      "...            ...    ...            ...    ...   ...   ...       ...     ...   \n",
      "677781  59.166.0.8  12520  149.171.126.6  31010   tcp   FIN  0.020383     320   \n",
      "677782  59.166.0.0  18895  149.171.126.9     80   tcp   FIN  1.402957   19410   \n",
      "677783  59.166.0.0  30103  149.171.126.5   5190   tcp   FIN  0.007108    2158   \n",
      "677784  59.166.0.6  30388  149.171.126.5    111   udp   CON  0.004435     568   \n",
      "677785  59.166.0.0   6055  149.171.126.5  54145   tcp   FIN  0.072974    4238   \n",
      "\n",
      "         dbytes  sttl  ...  ct_ftp_cmd  ct_srv_src  ct_srv_dst ct_dst_ltm  \\\n",
      "0           164    31  ...           0           3           7          1   \n",
      "1           304    31  ...           0           2           4          2   \n",
      "2           178    31  ...           0          12           8          1   \n",
      "3           164    31  ...           0           6           9          1   \n",
      "4           178    31  ...           0           7           9          1   \n",
      "...         ...   ...  ...         ...         ...         ...        ...   \n",
      "677781     1874    31  ...           0           8          20          7   \n",
      "677782  1087890    31  ...           0           1           1          2   \n",
      "677783     2464    31  ...           0          13          13          6   \n",
      "677784      304    31  ...           0          10          13          6   \n",
      "677785    60788    31  ...           0          13          13          6   \n",
      "\n",
      "        ct_src_ ltm  ct_src_dport_ltm  ct_dst_sport_ltm  ct_dst_src_ltm  \\\n",
      "0                 3                 1                 1               1   \n",
      "1                 3                 1                 1               2   \n",
      "2                 2                 2                 1               1   \n",
      "3                 1                 1                 1               1   \n",
      "4                 1                 1                 1               1   \n",
      "...             ...               ...               ...             ...   \n",
      "677781            5                 1                 1               4   \n",
      "677782            7                 2                 2               2   \n",
      "677783            7                 2                 1               2   \n",
      "677784            5                 1                 1               3   \n",
      "677785            7                 1                 1               2   \n",
      "\n",
      "        attack_cat  Label  \n",
      "0              NaN      0  \n",
      "1              NaN      0  \n",
      "2              NaN      0  \n",
      "3              NaN      0  \n",
      "4              NaN      0  \n",
      "...            ...    ...  \n",
      "677781         NaN      0  \n",
      "677782         NaN      0  \n",
      "677783         NaN      0  \n",
      "677784         NaN      0  \n",
      "677785         NaN      0  \n",
      "\n",
      "[677786 rows x 49 columns]\n",
      "attack_df =               srcip  sport           dstip dsport proto state        dur  \\\n",
      "0      175.45.176.3  21223  149.171.126.18  32780   udp   INT   0.000021   \n",
      "1      175.45.176.2  23357  149.171.126.16     80   tcp   FIN   0.240139   \n",
      "2      175.45.176.0  13284  149.171.126.16     80   tcp   FIN   2.390390   \n",
      "3      175.45.176.2  13792  149.171.126.16   5555   tcp   FIN   0.175190   \n",
      "4      175.45.176.2  26939  149.171.126.10     80   tcp   FIN   0.190600   \n",
      "...             ...    ...             ...    ...   ...   ...        ...   \n",
      "22210  175.45.176.1  58463  149.171.126.15    179   tcp   FIN  31.461020   \n",
      "22211  175.45.176.1  58460  149.171.126.15    179   tcp   FIN  57.995934   \n",
      "22212  175.45.176.1  58967  149.171.126.15    179   tcp   FIN  32.361782   \n",
      "22213  175.45.176.1  58485  149.171.126.15    179   tcp   FIN   0.476639   \n",
      "22214  175.45.176.1  58935  149.171.126.15    179   tcp   FIN   0.343431   \n",
      "\n",
      "       sbytes  dbytes  sttl  ...  ct_ftp_cmd  ct_srv_src  ct_srv_dst  \\\n",
      "0         728       0   254  ...           0           1           1   \n",
      "1         918   25552    62  ...           0           3           2   \n",
      "2        1362     268   254  ...           0           5           2   \n",
      "3        8168     268   254  ...           0           1           1   \n",
      "4         844     268   254  ...           0           3           1   \n",
      "...       ...     ...   ...  ...         ...         ...         ...   \n",
      "22210     924     708   254  ...           0           6           6   \n",
      "22211    1362     536   254  ...           0           6           6   \n",
      "22212    1128     622   254  ...           0           6           6   \n",
      "22213     470     354   254  ...           0           8           8   \n",
      "22214     550     268   254  ...           0           5           5   \n",
      "\n",
      "      ct_dst_ltm  ct_src_ ltm  ct_src_dport_ltm  ct_dst_sport_ltm  \\\n",
      "0              1            1                 1                 1   \n",
      "1              2            1                 1                 1   \n",
      "2              2            1                 1                 1   \n",
      "3              1            1                 1                 1   \n",
      "4              1            1                 1                 1   \n",
      "...          ...          ...               ...               ...   \n",
      "22210          2            2                 2                 1   \n",
      "22211          2            2                 2                 1   \n",
      "22212          2            2                 2                 1   \n",
      "22213          2            2                 2                 1   \n",
      "22214          3            3                 3                 1   \n",
      "\n",
      "       ct_dst_src_ltm      attack_cat  Label  \n",
      "0                   1        Exploits      1  \n",
      "1                   1        Exploits      1  \n",
      "2                   1  Reconnaissance      1  \n",
      "3                   1        Exploits      1  \n",
      "4                   1        Exploits      1  \n",
      "...               ...             ...    ...  \n",
      "22210               2         Fuzzers      1  \n",
      "22211               2         Fuzzers      1  \n",
      "22212               2         Fuzzers      1  \n",
      "22213               2         Fuzzers      1  \n",
      "22214               3         Fuzzers      1  \n",
      "\n",
      "[22215 rows x 49 columns]\n",
      "Processing file: D:/jenny/Documents/FAUS_Study/Thesis/My_dataset/Raw_data/UNSW-NB15_2.csv\n"
     ]
    },
    {
     "name": "stderr",
     "output_type": "stream",
     "text": [
      "C:\\Users\\jenny\\AppData\\Local\\Temp\\ipykernel_11412\\1564041751.py:30: DtypeWarning: Columns (3,39,47) have mixed types. Specify dtype option on import or set low_memory=False.\n",
      "  data = pd.read_csv(file_path)\n"
     ]
    },
    {
     "name": "stdout",
     "output_type": "stream",
     "text": [
      "normal_df =                   srcip  sport          dstip dsport proto state       dur  \\\n",
      "0            59.166.0.0   1390  149.171.126.6     53   udp   CON  0.001055   \n",
      "1            59.166.0.0  33661  149.171.126.9   1024   udp   CON  0.036133   \n",
      "2            59.166.0.6   1464  149.171.126.7     53   udp   CON  0.001119   \n",
      "3            59.166.0.5   3593  149.171.126.5     53   udp   CON  0.001209   \n",
      "4            59.166.0.3  49664  149.171.126.0     53   udp   CON  0.001169   \n",
      "...                 ...    ...            ...    ...   ...   ...       ...   \n",
      "1325033  149.171.126.18   1043   175.45.176.3     53   udp   INT  0.000005   \n",
      "1325034  149.171.126.18   1043   175.45.176.3     53   udp   INT  0.000005   \n",
      "1325035  149.171.126.18   1043   175.45.176.3     53   udp   INT  0.000005   \n",
      "1325036  149.171.126.18   1043   175.45.176.3     53   udp   INT  0.000005   \n",
      "1325037      59.166.0.1  18247  149.171.126.4   7662   tcp   FIN  0.119596   \n",
      "\n",
      "         sbytes  dbytes  sttl  ...  ct_ftp_cmd  ct_srv_src  ct_srv_dst  \\\n",
      "0           132     164    31  ...           0           3           7   \n",
      "1           528     304    31  ...           0           2           4   \n",
      "2           146     178    31  ...           0          12           8   \n",
      "3           132     164    31  ...           0           6           9   \n",
      "4           146     178    31  ...           0           7           9   \n",
      "...         ...     ...   ...  ...         ...         ...         ...   \n",
      "1325033     264       0    60  ...                      19          19   \n",
      "1325034     264       0    60  ...                      19          19   \n",
      "1325035     264       0    60  ...                      19          19   \n",
      "1325036     264       0    60  ...                      19          19   \n",
      "1325037    4550   68342    31  ...                       6           2   \n",
      "\n",
      "        ct_dst_ltm  ct_src_ ltm  ct_src_dport_ltm  ct_dst_sport_ltm  \\\n",
      "0                1            3                 1                 1   \n",
      "1                2            3                 1                 1   \n",
      "2                1            2                 2                 1   \n",
      "3                1            1                 1                 1   \n",
      "4                1            1                 1                 1   \n",
      "...            ...          ...               ...               ...   \n",
      "1325033         19           19                19                19   \n",
      "1325034         19           19                19                19   \n",
      "1325035         19           19                19                19   \n",
      "1325036         19           19                19                19   \n",
      "1325037          2            5                 1                 1   \n",
      "\n",
      "         ct_dst_src_ltm  attack_cat  Label  \n",
      "0                     1         NaN      0  \n",
      "1                     2         NaN      0  \n",
      "2                     1         NaN      0  \n",
      "3                     1         NaN      0  \n",
      "4                     1         NaN      0  \n",
      "...                 ...         ...    ...  \n",
      "1325033              19         NaN      0  \n",
      "1325034              19         NaN      0  \n",
      "1325035              19         NaN      0  \n",
      "1325036              19         NaN      0  \n",
      "1325037               2         NaN      0  \n",
      "\n",
      "[1325038 rows x 49 columns]\n",
      "attack_df =               srcip  sport           dstip dsport proto state       dur  \\\n",
      "0      175.45.176.3  21223  149.171.126.18  32780   udp   INT  0.000021   \n",
      "1      175.45.176.2  23357  149.171.126.16     80   tcp   FIN  0.240139   \n",
      "2      175.45.176.0  13284  149.171.126.16     80   tcp   FIN  2.390390   \n",
      "3      175.45.176.2  13792  149.171.126.16   5555   tcp   FIN  0.175190   \n",
      "4      175.45.176.2  26939  149.171.126.10     80   tcp   FIN  0.190600   \n",
      "...             ...    ...             ...    ...   ...   ...       ...   \n",
      "74959  175.45.176.3   1043  149.171.126.18     53   udp   INT  0.000003   \n",
      "74960  175.45.176.1  13540  149.171.126.10     80   tcp   FIN  3.393675   \n",
      "74961  175.45.176.0  34233  149.171.126.15   1723   tcp   FIN  0.586488   \n",
      "74962  175.45.176.1  61247  149.171.126.17    110   tcp   FIN  2.014088   \n",
      "74963  175.45.176.1   6870  149.171.126.17     80   tcp   FIN  0.771105   \n",
      "\n",
      "       sbytes  dbytes  sttl  ...  ct_ftp_cmd  ct_srv_src  ct_srv_dst  \\\n",
      "0         728       0   254  ...           0           1           1   \n",
      "1         918   25552    62  ...           0           3           2   \n",
      "2        1362     268   254  ...           0           5           2   \n",
      "3        8168     268   254  ...           0           1           1   \n",
      "4         844     268   254  ...           0           3           1   \n",
      "...       ...     ...   ...  ...         ...         ...         ...   \n",
      "74959     114       0   254  ...                      34          34   \n",
      "74960    1194    3802    62  ...                       2           1   \n",
      "74961     756     268   254  ...                       6           2   \n",
      "74962     978    2844    62  ...                       1           1   \n",
      "74963     840    2026    62  ...                       2           1   \n",
      "\n",
      "      ct_dst_ltm  ct_src_ ltm  ct_src_dport_ltm  ct_dst_sport_ltm  \\\n",
      "0              1            1                 1                 1   \n",
      "1              2            1                 1                 1   \n",
      "2              2            1                 1                 1   \n",
      "3              1            1                 1                 1   \n",
      "4              1            1                 1                 1   \n",
      "...          ...          ...               ...               ...   \n",
      "74959         19           19                19                19   \n",
      "74960          1            1                 1                 1   \n",
      "74961          1            2                 1                 1   \n",
      "74962          1            1                 1                 1   \n",
      "74963          1            1                 1                 1   \n",
      "\n",
      "       ct_dst_src_ltm      attack_cat  Label  \n",
      "0                   1        Exploits      1  \n",
      "1                   1        Exploits      1  \n",
      "2                   1  Reconnaissance      1  \n",
      "3                   1        Exploits      1  \n",
      "4                   1        Exploits      1  \n",
      "...               ...             ...    ...  \n",
      "74959              34         Generic      1  \n",
      "74960               1         Generic      1  \n",
      "74961               2        Fuzzers       1  \n",
      "74962               2        Exploits      1  \n",
      "74963               2             DoS      1  \n",
      "\n",
      "[74964 rows x 49 columns]\n",
      "Processing file: D:/jenny/Documents/FAUS_Study/Thesis/My_dataset/Raw_data/UNSW-NB15_3.csv\n",
      "normal_df =               srcip  sport          dstip dsport proto state       dur  \\\n",
      "0        59.166.0.0   1390  149.171.126.6     53   udp   CON  0.001055   \n",
      "1        59.166.0.0  33661  149.171.126.9   1024   udp   CON  0.036133   \n",
      "2        59.166.0.6   1464  149.171.126.7     53   udp   CON  0.001119   \n",
      "3        59.166.0.5   3593  149.171.126.5     53   udp   CON  0.001209   \n",
      "4        59.166.0.3  49664  149.171.126.0     53   udp   CON  0.001169   \n",
      "...             ...    ...            ...    ...   ...   ...       ...   \n",
      "1867609  59.166.0.0   2111  149.171.126.5     53   udp   CON  0.001035   \n",
      "1867610  59.166.0.5  49044  149.171.126.3  30639   tcp   FIN  0.220630   \n",
      "1867611  59.166.0.6  37717  149.171.126.7  35667   tcp   FIN  0.031576   \n",
      "1867612  59.166.0.2   1768  149.171.126.7  64122   tcp   FIN  0.096835   \n",
      "1867613  59.166.0.9   7045  149.171.126.7     25   tcp   FIN  0.201886   \n",
      "\n",
      "         sbytes  dbytes  sttl  ...  ct_ftp_cmd  ct_srv_src  ct_srv_dst  \\\n",
      "0           132     164    31  ...           0           3           7   \n",
      "1           528     304    31  ...           0           2           4   \n",
      "2           146     178    31  ...           0          12           8   \n",
      "3           132     164    31  ...           0           6           9   \n",
      "4           146     178    31  ...           0           7           9   \n",
      "...         ...     ...   ...  ...         ...         ...         ...   \n",
      "1867609     146     178    31  ...                       1           3   \n",
      "1867610     424    8824    31  ...                       3           3   \n",
      "1867611    2646   25564    31  ...                       7           6   \n",
      "1867612    4862   82782    31  ...                       6           6   \n",
      "1867613   37552    3380    31  ...                       2           2   \n",
      "\n",
      "        ct_dst_ltm  ct_src_ ltm  ct_src_dport_ltm  ct_dst_sport_ltm  \\\n",
      "0                1            3                 1                 1   \n",
      "1                2            3                 1                 1   \n",
      "2                1            2                 2                 1   \n",
      "3                1            1                 1                 1   \n",
      "4                1            1                 1                 1   \n",
      "...            ...          ...               ...               ...   \n",
      "1867609          4            3                 1                 1   \n",
      "1867610          3            3                 1                 1   \n",
      "1867611          7            4                 1                 1   \n",
      "1867612          7            7                 1                 1   \n",
      "1867613          7            4                 1                 1   \n",
      "\n",
      "         ct_dst_src_ltm  attack_cat  Label  \n",
      "0                     1         NaN      0  \n",
      "1                     2         NaN      0  \n",
      "2                     1         NaN      0  \n",
      "3                     1         NaN      0  \n",
      "4                     1         NaN      0  \n",
      "...                 ...         ...    ...  \n",
      "1867609               4         NaN      0  \n",
      "1867610               4         NaN      0  \n",
      "1867611               3         NaN      0  \n",
      "1867612               2         NaN      0  \n",
      "1867613               3         NaN      0  \n",
      "\n",
      "[1867614 rows x 49 columns]\n",
      "attack_df =                srcip  sport           dstip dsport proto state       dur  \\\n",
      "0       175.45.176.3  21223  149.171.126.18  32780   udp   INT  0.000021   \n",
      "1       175.45.176.2  23357  149.171.126.16     80   tcp   FIN  0.240139   \n",
      "2       175.45.176.0  13284  149.171.126.16     80   tcp   FIN  2.390390   \n",
      "3       175.45.176.2  13792  149.171.126.16   5555   tcp   FIN  0.175190   \n",
      "4       175.45.176.2  26939  149.171.126.10     80   tcp   FIN  0.190600   \n",
      "...              ...    ...             ...    ...   ...   ...       ...   \n",
      "232384  175.45.176.2  64771  149.171.126.16    111   tcp   FIN  0.662373   \n",
      "232385  175.45.176.2   7579  149.171.126.13     25   tcp   FIN  1.210303   \n",
      "232386  175.45.176.1  17386  149.171.126.11   6071   tcp   FIN  0.291164   \n",
      "232387  175.45.176.3  36130  149.171.126.16   2140   udp   CON  0.011751   \n",
      "232388  175.45.176.1  24448  149.171.126.11   5250   tcp   FIN  0.176514   \n",
      "\n",
      "        sbytes  dbytes  sttl  ...  ct_ftp_cmd  ct_srv_src  ct_srv_dst  \\\n",
      "0          728       0   254  ...           0           1           1   \n",
      "1          918   25552    62  ...           0           3           2   \n",
      "2         1362     268   254  ...           0           5           2   \n",
      "3         8168     268   254  ...           0           1           1   \n",
      "4          844     268   254  ...           0           3           1   \n",
      "...        ...     ...   ...  ...         ...         ...         ...   \n",
      "232384     564     354   254  ...                       2           1   \n",
      "232385  172937    2606    62  ...                       1           1   \n",
      "232386     732     468   254  ...                       1           1   \n",
      "232387      76     132   254  ...                       1           1   \n",
      "232388   10778     268   254  ...                       1           1   \n",
      "\n",
      "       ct_dst_ltm  ct_src_ ltm  ct_src_dport_ltm  ct_dst_sport_ltm  \\\n",
      "0               1            1                 1                 1   \n",
      "1               2            1                 1                 1   \n",
      "2               2            1                 1                 1   \n",
      "3               1            1                 1                 1   \n",
      "4               1            1                 1                 1   \n",
      "...           ...          ...               ...               ...   \n",
      "232384          1            2                 1                 1   \n",
      "232385          1            2                 1                 1   \n",
      "232386          1            1                 1                 1   \n",
      "232387          1            1                 1                 1   \n",
      "232388          1            1                 1                 1   \n",
      "\n",
      "        ct_dst_src_ltm        attack_cat  Label  \n",
      "0                    1          Exploits      1  \n",
      "1                    1          Exploits      1  \n",
      "2                    1    Reconnaissance      1  \n",
      "3                    1          Exploits      1  \n",
      "4                    1          Exploits      1  \n",
      "...                ...               ...    ...  \n",
      "232384               1   Reconnaissance       1  \n",
      "232385               1          Exploits      1  \n",
      "232386               2           Generic      1  \n",
      "232387               1          Backdoor      1  \n",
      "232388               2           Generic      1  \n",
      "\n",
      "[232389 rows x 49 columns]\n",
      "Processing file: D:/jenny/Documents/FAUS_Study/Thesis/My_dataset/Raw_data/UNSW-NB15_4.csv\n",
      "normal_df =               srcip  sport          dstip dsport proto state       dur  \\\n",
      "0        59.166.0.0   1390  149.171.126.6     53   udp   CON  0.001055   \n",
      "1        59.166.0.0  33661  149.171.126.9   1024   udp   CON  0.036133   \n",
      "2        59.166.0.6   1464  149.171.126.7     53   udp   CON  0.001119   \n",
      "3        59.166.0.5   3593  149.171.126.5     53   udp   CON  0.001209   \n",
      "4        59.166.0.3  49664  149.171.126.0     53   udp   CON  0.001169   \n",
      "...             ...    ...            ...    ...   ...   ...       ...   \n",
      "2218759  59.166.0.1  38606  149.171.126.9     80   tcp   CON  0.564998   \n",
      "2218760  59.166.0.5  33094  149.171.126.7  43433   tcp   FIN  0.087306   \n",
      "2218761  59.166.0.7  20848  149.171.126.4     21   tcp   CON  0.365058   \n",
      "2218762  59.166.0.3  21511  149.171.126.9     21   tcp   CON  6.335154   \n",
      "2218763  59.166.0.9  35433  149.171.126.0     80   tcp   CON  2.200934   \n",
      "\n",
      "         sbytes  dbytes  sttl  ...  ct_ftp_cmd  ct_srv_src  ct_srv_dst  \\\n",
      "0           132     164    31  ...           0           3           7   \n",
      "1           528     304    31  ...           0           2           4   \n",
      "2           146     178    31  ...           0          12           8   \n",
      "3           132     164    31  ...           0           6           9   \n",
      "4           146     178    31  ...           0           7           9   \n",
      "...         ...     ...   ...  ...         ...         ...         ...   \n",
      "2218759   14106  772406    31  ...                       2           1   \n",
      "2218760     320    1828    31  ...                       1           2   \n",
      "2218761     456     346    31  ...           2           2           2   \n",
      "2218762    1802    2088    31  ...           2           2           2   \n",
      "2218763    3498  166054    31  ...                       1           1   \n",
      "\n",
      "        ct_dst_ltm  ct_src_ ltm  ct_src_dport_ltm  ct_dst_sport_ltm  \\\n",
      "0                1            3                 1                 1   \n",
      "1                2            3                 1                 1   \n",
      "2                1            2                 2                 1   \n",
      "3                1            1                 1                 1   \n",
      "4                1            1                 1                 1   \n",
      "...            ...          ...               ...               ...   \n",
      "2218759          4            2                 2                 2   \n",
      "2218760          3            3                 1                 1   \n",
      "2218761          2            2                 2                 2   \n",
      "2218762          4            2                 2                 2   \n",
      "2218763          2            4                 2                 2   \n",
      "\n",
      "         ct_dst_src_ltm  attack_cat  Label  \n",
      "0                     1         NaN      0  \n",
      "1                     2         NaN      0  \n",
      "2                     1         NaN      0  \n",
      "3                     1         NaN      0  \n",
      "4                     1         NaN      0  \n",
      "...                 ...         ...    ...  \n",
      "2218759               2         NaN      0  \n",
      "2218760               3         NaN      0  \n",
      "2218761               2         NaN      0  \n",
      "2218762               2         NaN      0  \n",
      "2218763               2         NaN      0  \n",
      "\n",
      "[2218764 rows x 49 columns]\n",
      "attack_df =                srcip  sport           dstip dsport proto state       dur  \\\n",
      "0       175.45.176.3  21223  149.171.126.18  32780   udp   INT  0.000021   \n",
      "1       175.45.176.2  23357  149.171.126.16     80   tcp   FIN  0.240139   \n",
      "2       175.45.176.0  13284  149.171.126.16     80   tcp   FIN  2.390390   \n",
      "3       175.45.176.2  13792  149.171.126.16   5555   tcp   FIN  0.175190   \n",
      "4       175.45.176.2  26939  149.171.126.10     80   tcp   FIN  0.190600   \n",
      "...              ...    ...             ...    ...   ...   ...       ...   \n",
      "321278  175.45.176.0  47439  149.171.126.10     53   udp   INT  0.000001   \n",
      "321279  175.45.176.0  17293  149.171.126.17    110   tcp   CON  0.942984   \n",
      "321280  175.45.176.0  33654  149.171.126.12     80   tcp   CON  2.579405   \n",
      "321281  175.45.176.0  33654  149.171.126.12     80   tcp   CON  2.579405   \n",
      "321282  175.45.176.0  17293  149.171.126.17    110   tcp   CON  0.942984   \n",
      "\n",
      "        sbytes  dbytes  sttl  ...  ct_ftp_cmd  ct_srv_src  ct_srv_dst  \\\n",
      "0          728       0   254  ...           0           1           1   \n",
      "1          918   25552    62  ...           0           3           2   \n",
      "2         1362     268   254  ...           0           5           2   \n",
      "3         8168     268   254  ...           0           1           1   \n",
      "4          844     268   254  ...           0           3           1   \n",
      "...        ...     ...   ...  ...         ...         ...         ...   \n",
      "321278     114       0   254  ...                      15          15   \n",
      "321279     574     676    62  ...                       2           1   \n",
      "321280  269883    1300    62  ...                       2           1   \n",
      "321281  269883    1300    62  ...                       1           1   \n",
      "321282     574     676    62  ...                       1           1   \n",
      "\n",
      "       ct_dst_ltm  ct_src_ ltm  ct_src_dport_ltm  ct_dst_sport_ltm  \\\n",
      "0               1            1                 1                 1   \n",
      "1               2            1                 1                 1   \n",
      "2               2            1                 1                 1   \n",
      "3               1            1                 1                 1   \n",
      "4               1            1                 1                 1   \n",
      "...           ...          ...               ...               ...   \n",
      "321278         15           15                15                15   \n",
      "321279          2            4                 2                 2   \n",
      "321280          2            4                 2                 2   \n",
      "321281          2            4                 2                 2   \n",
      "321282          2            4                 2                 2   \n",
      "\n",
      "        ct_dst_src_ltm      attack_cat  Label  \n",
      "0                    1        Exploits      1  \n",
      "1                    1        Exploits      1  \n",
      "2                    1  Reconnaissance      1  \n",
      "3                    1        Exploits      1  \n",
      "4                    1        Exploits      1  \n",
      "...                ...             ...    ...  \n",
      "321278              15         Generic      1  \n",
      "321279               2        Exploits      1  \n",
      "321280               2             DoS      1  \n",
      "321281               2             DoS      1  \n",
      "321282               2        Exploits      1  \n",
      "\n",
      "[321283 rows x 49 columns]\n",
      "Normal data saved to: D:/jenny/Documents/FAUS_Study/Thesis/My_dataset/Normal_data/UNSW-NB15_normal.csv\n",
      "Attack data saved to: D:/jenny/Documents/FAUS_Study/Thesis/My_dataset/Attacked_data/UNSW-NB15_attack.csv\n"
     ]
    }
   ],
   "source": [
    "'''\n",
    "******************************************************************************************************\n",
    "\n",
    "Distinguish between normal and attacked data\n",
    "\n",
    "******************************************************************************************************\n",
    "'''\n",
    "\n",
    "import pandas as pd\n",
    "import os\n",
    "\n",
    "# Define input directory (where modified files are stored) and output file paths\n",
    "input_dir = r\"D:/jenny/Documents/FAUS_Study/Thesis/My_dataset/Raw_data/\"\n",
    "output_normal_file = r\"D:/jenny/Documents/FAUS_Study/Thesis/My_dataset/Normal_data/UNSW-NB15_normal.csv\"\n",
    "output_attack_file = r\"D:/jenny/Documents/FAUS_Study/Thesis/My_dataset/Attacked_data/UNSW-NB15_attack.csv\"\n",
    "\n",
    "# Initialize empty dataframes for normal and attack datasets\n",
    "normal_df = pd.DataFrame()\n",
    "attack_df = pd.DataFrame()\n",
    "\n",
    "# List all CSV files in the input directory\n",
    "data_files = [file for file in os.listdir(input_dir) if file.endswith(\".csv\")]\n",
    "\n",
    "# Process each file\n",
    "for file_name in data_files:\n",
    "    file_path = os.path.join(input_dir, file_name)\n",
    "    print(f\"Processing file: {file_path}\")\n",
    "    \n",
    "    # Load the file\n",
    "    data = pd.read_csv(file_path)\n",
    "    \n",
    "    # Check if the required 'label' column exists\n",
    "    if \"Label\" in data.columns:\n",
    "        # Split into normal and attack data\n",
    "        normal_data = data[data[\"Label\"] == 0]\n",
    "        attack_data = data[data[\"Label\"] == 1]\n",
    "        \n",
    "        # Append to the combined normal and attack datasets\n",
    "        normal_df = pd.concat([normal_df, normal_data], ignore_index=True)\n",
    "        print(f\"normal_df = {normal_df}\")\n",
    "        attack_df = pd.concat([attack_df, attack_data], ignore_index=True)\n",
    "        print(f\"attack_df = {attack_df}\")\n",
    "    else:\n",
    "        print(f\"Warning: 'label' column not found in file {file_name}. Skipping.\")\n",
    "\n",
    "# Save the final datasets\n",
    "normal_df.to_csv(output_normal_file, index=False)\n",
    "attack_df.to_csv(output_attack_file, index=False)\n",
    "\n",
    "print(f\"Normal data saved to: {output_normal_file}\")\n",
    "print(f\"Attack data saved to: {output_attack_file}\")\n"
   ]
  },
  {
   "cell_type": "code",
   "execution_count": 8,
   "metadata": {},
   "outputs": [
    {
     "name": "stderr",
     "output_type": "stream",
     "text": [
      "C:\\Users\\jenny\\AppData\\Local\\Temp\\ipykernel_11412\\2422122497.py:20: DtypeWarning: Columns (39) have mixed types. Specify dtype option on import or set low_memory=False.\n",
      "  data = pd.read_csv(output_attack_file)\n"
     ]
    },
    {
     "name": "stdout",
     "output_type": "stream",
     "text": [
      "Columns in data: Index(['srcip', 'sport', 'dstip', 'dsport', 'proto', 'state', 'dur', 'sbytes',\n",
      "       'dbytes', 'sttl', 'dttl', 'sloss', 'dloss', 'service', 'Sload', 'Dload',\n",
      "       'Spkts', 'Dpkts', 'swin', 'dwin', 'stcpb', 'dtcpb', 'smeansz',\n",
      "       'dmeansz', 'trans_depth', 'res_bdy_len', 'Sjit', 'Djit', 'Stime',\n",
      "       'Ltime', 'Sintpkt', 'Dintpkt', 'tcprtt', 'synack', 'ackdat',\n",
      "       'is_sm_ips_ports', 'ct_state_ttl', 'ct_flw_http_mthd', 'is_ftp_login',\n",
      "       'ct_ftp_cmd', 'ct_srv_src', 'ct_srv_dst', 'ct_dst_ltm', 'ct_src_ ltm',\n",
      "       'ct_src_dport_ltm', 'ct_dst_sport_ltm', 'ct_dst_src_ltm', 'attack_cat',\n",
      "       'Label'],\n",
      "      dtype='object')\n",
      "Unique values in 'attack_cat': ['Exploits' 'Reconnaissance' 'DoS' 'Generic' 'Shellcode' ' Fuzzers'\n",
      " 'Worms' 'Backdoors' 'Analysis' ' Reconnaissance ' 'Backdoor' ' Fuzzers '\n",
      " ' Shellcode ']\n",
      "Backdoor data count: 534\n",
      "              srcip  sport           dstip  dsport proto state       dur  \\\n",
      "1405   175.45.176.1  29335  149.171.126.18     514   tcp   FIN  1.288097   \n",
      "1507   175.45.176.2  64680  149.171.126.15    4444   tcp   FIN  2.674214   \n",
      "1671   175.45.176.2  18778  149.171.126.19    6667   tcp   FIN  0.578658   \n",
      "1842   175.45.176.1  43589  149.171.126.13      80   tcp   FIN  0.630359   \n",
      "1867   175.45.176.1   3794  149.171.126.16    2140   udp   CON  0.151786   \n",
      "...             ...    ...             ...     ...   ...   ...       ...   \n",
      "20930  175.45.176.0  22974  149.171.126.11    1012   tcp   FIN  1.000215   \n",
      "21083  175.45.176.2   5945  149.171.126.19   45759   tcp   FIN  2.385713   \n",
      "21234  175.45.176.2  59359  149.171.126.18    1014   tcp   FIN  0.312529   \n",
      "21464  175.45.176.0   2137  149.171.126.15      80   tcp   FIN  0.688562   \n",
      "22050  175.45.176.1  37794  149.171.126.10    9999   tcp   FIN  0.417329   \n",
      "\n",
      "       sbytes  dbytes  sttl  ...  ct_ftp_cmd  ct_srv_src  ct_srv_dst  \\\n",
      "1405      576     354   254  ...           0           4           1   \n",
      "1507      620     354   254  ...           0           4           1   \n",
      "1671      364     516   254  ...           0           1           1   \n",
      "1842     1582     268   254  ...           0           1           1   \n",
      "1867       76     122   254  ...           0           3           1   \n",
      "...       ...     ...   ...  ...         ...         ...         ...   \n",
      "20930     558     564   254  ...           0           6           6   \n",
      "21083    6470    7536   254  ...           0           9           1   \n",
      "21234     472     564   254  ...           0           2           1   \n",
      "21464     846     268   254  ...           0           3           2   \n",
      "22050     468    3316   254  ...           0           4           1   \n",
      "\n",
      "      ct_dst_ltm  ct_src_ ltm  ct_src_dport_ltm  ct_dst_sport_ltm  \\\n",
      "1405           1            5                 1                 1   \n",
      "1507           2            3                 1                 1   \n",
      "1671           1            1                 1                 1   \n",
      "1842           1            1                 1                 1   \n",
      "1867           1            1                 1                 1   \n",
      "...          ...          ...               ...               ...   \n",
      "20930          2            2                 1                 1   \n",
      "21083          1            3                 1                 1   \n",
      "21234          1            1                 1                 1   \n",
      "21464          1            1                 1                 1   \n",
      "22050          1            2                 1                 1   \n",
      "\n",
      "       ct_dst_src_ltm  attack_cat  Label  \n",
      "1405                1   Backdoors      1  \n",
      "1507                1   Backdoors      1  \n",
      "1671                1   Backdoors      1  \n",
      "1842                1   Backdoors      1  \n",
      "1867                1   Backdoors      1  \n",
      "...               ...         ...    ...  \n",
      "20930               2   Backdoors      1  \n",
      "21083               1   Backdoors      1  \n",
      "21234               1   Backdoors      1  \n",
      "21464               1   Backdoors      1  \n",
      "22050               1   Backdoors      1  \n",
      "\n",
      "[534 rows x 49 columns]\n",
      "Reconnaissance data count: 13987\n",
      "               srcip  sport           dstip  dsport proto state       dur  \\\n",
      "2       175.45.176.0  13284  149.171.126.16      80   tcp   FIN  2.390390   \n",
      "13      175.45.176.3  22359  149.171.126.11     111   udp   INT  0.000017   \n",
      "17      175.45.176.0  27804  149.171.126.16     111   tcp   FIN  0.695382   \n",
      "22      175.45.176.1  47096  149.171.126.16     111   tcp   FIN  0.625212   \n",
      "23      175.45.176.3   9002  149.171.126.19     111   tcp   FIN  0.629429   \n",
      "...              ...    ...             ...     ...   ...   ...       ...   \n",
      "321178  175.45.176.0  63176  149.171.126.10     111   tcp   FIN  1.019217   \n",
      "321208  175.45.176.2  48625  149.171.126.17     111   tcp   FIN  0.809181   \n",
      "321217  175.45.176.2  40354  149.171.126.13     111   udp   INT  0.000006   \n",
      "321256  175.45.176.1   8250  149.171.126.10     111   tcp   FIN  0.903137   \n",
      "321261  175.45.176.2  64395  149.171.126.18     111   tcp   FIN  1.072302   \n",
      "\n",
      "        sbytes  dbytes  sttl  ...  ct_ftp_cmd  ct_srv_src  ct_srv_dst  \\\n",
      "2         1362     268   254  ...           0           5           2   \n",
      "13         168       0   254  ...           0           2           1   \n",
      "17         564     354   254  ...           0           3           2   \n",
      "22         564     354   254  ...           0           1           2   \n",
      "23         564     354   254  ...           0           2           1   \n",
      "...        ...     ...   ...  ...         ...         ...         ...   \n",
      "321178     564     354   254  ...                       1           1   \n",
      "321208     564     354   254  ...                       1           1   \n",
      "321217     168       0   254  ...                       1           1   \n",
      "321256     564     354   254  ...                       1           1   \n",
      "321261     564     354   254  ...                       1           1   \n",
      "\n",
      "       ct_dst_ltm  ct_src_ ltm  ct_src_dport_ltm  ct_dst_sport_ltm  \\\n",
      "2               2            1                 1                 1   \n",
      "13              1            1                 1                 1   \n",
      "17              1            1                 1                 1   \n",
      "22              1            1                 1                 1   \n",
      "23              1            1                 1                 1   \n",
      "...           ...          ...               ...               ...   \n",
      "321178          1            1                 1                 1   \n",
      "321208          1            1                 1                 1   \n",
      "321217          1            1                 1                 1   \n",
      "321256          1            1                 1                 1   \n",
      "321261          1            1                 1                 1   \n",
      "\n",
      "        ct_dst_src_ltm      attack_cat  Label  \n",
      "2                    1  Reconnaissance      1  \n",
      "13                   1  Reconnaissance      1  \n",
      "17                   1  Reconnaissance      1  \n",
      "22                   1  Reconnaissance      1  \n",
      "23                   1  Reconnaissance      1  \n",
      "...                ...             ...    ...  \n",
      "321178              23  Reconnaissance      1  \n",
      "321208               1  Reconnaissance      1  \n",
      "321217               1  Reconnaissance      1  \n",
      "321256               1  Reconnaissance      1  \n",
      "321261               1  Reconnaissance      1  \n",
      "\n",
      "[13987 rows x 49 columns]\n"
     ]
    }
   ],
   "source": [
    "'''\n",
    "******************************************************************************************************\n",
    "\n",
    "Distinguish between normal and attacked data\n",
    "\n",
    "******************************************************************************************************\n",
    "'''\n",
    "\n",
    "import pandas as pd\n",
    "import os\n",
    "\n",
    "# Define input directory (where modified files are stored) and output file paths\n",
    "input_dir = r\"D:/jenny/Documents/FAUS_Study/Thesis/My_dataset/Test_data/\"\n",
    "output_normal_file = r\"D:/jenny/Documents/FAUS_Study/Thesis/My_dataset/Test_data/Normal_data/UNSW-NB15_normal.csv\"\n",
    "output_attack_file = r\"D:/jenny/Documents/FAUS_Study/Thesis/My_dataset/Attacked_data/UNSW-NB15_attack.csv\"\n",
    "backdoor_file = r\"D:/jenny/Documents/FAUS_Study/Thesis/My_dataset/Test_data/Attacked_data/UNSW-NB15_backdoor_only_test.csv\"\n",
    "rec_file = r\"D:/jenny/Documents/FAUS_Study/Thesis/My_dataset/Test_data/Attacked_data/UNSW-NB15_reconnaissance_only_test.csv\"\n",
    "\n",
    "# Load the data\n",
    "data = pd.read_csv(output_attack_file)\n",
    "\n",
    "# Debugging: Display column names and unique values in attack_cat\n",
    "print(f\"Columns in data: {data.columns}\")\n",
    "if \"attack_cat\" in data.columns:\n",
    "    print(f\"Unique values in 'attack_cat': {data['attack_cat'].unique()}\")\n",
    "else:\n",
    "    print(\"Column 'attack_cat' not found!\")\n",
    "\n",
    "# Clean column names and values if necessary\n",
    "data.columns = data.columns.str.strip()  # Remove spaces from column names\n",
    "data[\"attack_cat\"] = data[\"attack_cat\"].astype(str).str.strip()  # Clean the 'attack_cat' values\n",
    "\n",
    "# Filter data\n",
    "backdoor_attack_data = data[data[\"attack_cat\"] == \"Backdoors\"]\n",
    "print(f\"Backdoor data count: {len(backdoor_attack_data)}\")\n",
    "backdoor_attack_data.to_csv(backdoor_file, index=False)\n",
    "print(backdoor_attack_data)  # Display filtered rows\n",
    "\n",
    "reconnaissance_attack_data = data[data[\"attack_cat\"] == \"Reconnaissance\"]\n",
    "print(f\"Reconnaissance data count: {len(reconnaissance_attack_data)}\")\n",
    "reconnaissance_attack_data.to_csv(rec_file, index=False)\n",
    "print(reconnaissance_attack_data)"
   ]
  },
  {
   "cell_type": "code",
   "execution_count": 21,
   "metadata": {},
   "outputs": [
    {
     "name": "stdout",
     "output_type": "stream",
     "text": [
      "total sample = 650\n",
      "520\n",
      "130\n",
      "Test data saved to D:/jenny/Documents/FAUS_Study/Thesis/My_dataset/Test_data/Nor20_back80/test_data_n20_backdoor80.csv\n"
     ]
    }
   ],
   "source": [
    "import pandas as pd\n",
    "import os\n",
    "\n",
    "def create_test_data(normal_file, backdoor_file, total_samples, ratio_normal, ratio_backdoor, output_dir=\".\"):\n",
    "    \"\"\"\n",
    "    Create a test data file by concatenating normal and backdoor data with specified ratios.\n",
    "    \n",
    "    Args:\n",
    "        normal_file (str): Path to the normal data CSV file.\n",
    "        backdoor_file (str): Path to the backdoor data CSV file.\n",
    "        total_samples (int): Total number of samples in the test data.\n",
    "        ratio_normal (float): Ratio of normal data in the test data (e.g., 0.5 for 50%).\n",
    "        ratio_backdoor (float): Ratio of backdoor data in the test data (e.g., 0.5 for 50%).\n",
    "        output_dir (str): Directory where the test data file will be saved.\n",
    "        \n",
    "    Returns:\n",
    "        str: Path to the saved test data file.\n",
    "    \"\"\"\n",
    "    # Load the data\n",
    "    normal_data = pd.read_csv(normal_file)\n",
    "    backdoor_data = pd.read_csv(backdoor_file)\n",
    "    print(f\"total sample = {total_samples}\")\n",
    "    \n",
    "    # Calculate the number of samples for each dataset\n",
    "    num_normal = int(total_samples * ratio_normal)\n",
    "    num_backdoor = int(total_samples * ratio_backdoor)\n",
    "    print(num_backdoor)\n",
    "    print(num_normal)\n",
    "    \n",
    "    # Check if there are enough samples in the input files\n",
    "    if num_normal > len(normal_data):\n",
    "        raise ValueError(f\"Not enough normal data. Requested: {num_normal}, Available: {len(normal_data)}\")\n",
    "    if num_backdoor > len(backdoor_data):\n",
    "        raise ValueError(f\"Not enough backdoor data. Requested: {num_backdoor}, Available: {len(backdoor_data)}\")\n",
    "    \n",
    "    # Sample the data\n",
    "    sampled_normal = normal_data.sample(n=num_normal, random_state=42)\n",
    "    sampled_backdoor = backdoor_data.sample(n=num_backdoor, random_state=42)\n",
    "    \n",
    "    # Concatenate the data\n",
    "    test_data = pd.concat([sampled_normal, sampled_backdoor], ignore_index=True)\n",
    "    \n",
    "    # Shuffle the data\n",
    "    test_data = test_data.sample(frac=1, random_state=42).reset_index(drop=True)\n",
    "    \n",
    "    # Construct the output filename\n",
    "    output_filename = f\"test_data_n{int(ratio_normal * 100)}_backdoor{int(ratio_backdoor * 100)}.csv\"\n",
    "    output_path = os.path.join(output_dir, output_filename)\n",
    "    \n",
    "    # Save the test data\n",
    "    test_data.to_csv(output_path, index=False)\n",
    "    print(f\"Test data saved to {output_path}\")\n",
    "    \n",
    "    return output_path\n",
    "\n",
    "\n",
    "# Example usage\n",
    "if __name__ == \"__main__\":\n",
    "    # Define input files and parameters\n",
    "    normal_file = \"D:/jenny/Documents/FAUS_Study/Thesis/My_dataset/Test_data/Normal_data/UNSW-NB15_normal_test.csv\"  # Replace with the path to your normal.csv file\n",
    "    backdoor_file = \"D:/jenny/Documents/FAUS_Study/Thesis/My_dataset/Test_data/Attacked_data/UNSW-NB15_backdoor_only_test.csv\"  # Replace with the path to your backdoor.csv file\n",
    "    total_samples = 650 #total number of test samples\n",
    "    ratio_normal = 0.2  # Ratio of normal data\n",
    "    ratio_backdoor = 0.8  # Ratio of backdoor data\n",
    "    output_dir = \"D:/jenny/Documents/FAUS_Study/Thesis/My_dataset/Test_data/Nor20_back80/\"  # Directory to save the output file\n",
    "    \n",
    "    # Create the test data\n",
    "    create_test_data(normal_file, backdoor_file, total_samples, ratio_normal, ratio_backdoor, output_dir)\n"
   ]
  },
  {
   "cell_type": "code",
   "execution_count": 1,
   "metadata": {},
   "outputs": [
    {
     "name": "stderr",
     "output_type": "stream",
     "text": [
      "C:\\Users\\jenny\\AppData\\Local\\Temp\\ipykernel_11412\\1359315352.py:14: DtypeWarning: Columns (1,3,47) have mixed types. Specify dtype option on import or set low_memory=False.\n",
      "  data_1 = pd.read_csv(file_1)\n",
      "C:\\Users\\jenny\\AppData\\Local\\Temp\\ipykernel_11412\\1359315352.py:15: DtypeWarning: Columns (3,39,47) have mixed types. Specify dtype option on import or set low_memory=False.\n",
      "  data_2 = pd.read_csv(file_2)\n"
     ]
    },
    {
     "name": "stdout",
     "output_type": "stream",
     "text": [
      "Train data saved to D:/jenny/Documents/FAUS_Study/Thesis/My_dataset/Train_data/train_data.csv\n",
      "Test data saved to D:/jenny/Documents/FAUS_Study/Thesis/My_dataset/Test_data/test_data.csv\n"
     ]
    }
   ],
   "source": [
    "import pandas as pd\n",
    "\n",
    "# File paths for the datasets\n",
    "file_1 = \"D:/jenny/Documents/FAUS_Study/Thesis/My_dataset/Raw_data/UNSW-NB15_1.csv\"  \n",
    "file_2 = \"D:/jenny/Documents/FAUS_Study/Thesis/My_dataset/Raw_data/UNSW-NB15_2.csv\"  \n",
    "file_3 = \"D:/jenny/Documents/FAUS_Study/Thesis/My_dataset/Raw_data/UNSW-NB15_3.csv\"  \n",
    "file_4 = \"D:/jenny/Documents/FAUS_Study/Thesis/My_dataset/Raw_data/UNSW-NB15_4.csv\"  \n",
    "\n",
    "# Output file paths\n",
    "train_output_file = \"D:/jenny/Documents/FAUS_Study/Thesis/My_dataset/Train_data/train_data.csv\"\n",
    "test_output_file = \"D:/jenny/Documents/FAUS_Study/Thesis/My_dataset/Test_data/test_data.csv\"\n",
    "\n",
    "# Load the data\n",
    "data_1 = pd.read_csv(file_1)\n",
    "data_2 = pd.read_csv(file_2)\n",
    "data_3 = pd.read_csv(file_3)\n",
    "data_4 = pd.read_csv(file_4)\n",
    "\n",
    "# Concatenate _1 and _2 for training\n",
    "train_data = pd.concat([data_1, data_2], ignore_index=True)\n",
    "\n",
    "# Concatenate _3 and _4 for testing\n",
    "test_data = pd.concat([data_3, data_4], ignore_index=True)\n",
    "\n",
    "# Save the concatenated data\n",
    "train_data.to_csv(train_output_file, index=False)\n",
    "print(f\"Train data saved to {train_output_file}\")\n",
    "\n",
    "test_data.to_csv(test_output_file, index=False)\n",
    "print(f\"Test data saved to {test_output_file}\")\n"
   ]
  },
  {
   "cell_type": "code",
   "execution_count": 2,
   "metadata": {},
   "outputs": [
    {
     "name": "stdout",
     "output_type": "stream",
     "text": [
      "Data for srcip '59.166.0.1' saved to D:/jenny/Documents/FAUS_Study/Thesis/My_dataset/Test_data/Normal_data/Device_data/device_1_data.csv\n",
      "Data for srcip '59.166.0.3' saved to D:/jenny/Documents/FAUS_Study/Thesis/My_dataset/Test_data/Normal_data/Device_data/device_2_data.csv\n",
      "Data for srcip '59.166.0.8' saved to D:/jenny/Documents/FAUS_Study/Thesis/My_dataset/Test_data/Normal_data/Device_data/device_3_data.csv\n",
      "Data for srcip '149.171.126.18' saved to D:/jenny/Documents/FAUS_Study/Thesis/My_dataset/Test_data/Normal_data/Device_data/device_4_data.csv\n",
      "Data for srcip '175.45.176.0' saved to D:/jenny/Documents/FAUS_Study/Thesis/My_dataset/Test_data/Normal_data/Device_data/device_5_data.csv\n",
      "Data for srcip '59.166.0.7' saved to D:/jenny/Documents/FAUS_Study/Thesis/My_dataset/Test_data/Normal_data/Device_data/device_6_data.csv\n",
      "Data for srcip '59.166.0.6' saved to D:/jenny/Documents/FAUS_Study/Thesis/My_dataset/Test_data/Normal_data/Device_data/device_7_data.csv\n",
      "Data for srcip '175.45.176.1' saved to D:/jenny/Documents/FAUS_Study/Thesis/My_dataset/Test_data/Normal_data/Device_data/device_8_data.csv\n",
      "Data for srcip '59.166.0.4' saved to D:/jenny/Documents/FAUS_Study/Thesis/My_dataset/Test_data/Normal_data/Device_data/device_9_data.csv\n",
      "Data for srcip '59.166.0.2' saved to D:/jenny/Documents/FAUS_Study/Thesis/My_dataset/Test_data/Normal_data/Device_data/device_10_data.csv\n",
      "Data for srcip '59.166.0.5' saved to D:/jenny/Documents/FAUS_Study/Thesis/My_dataset/Test_data/Normal_data/Device_data/device_11_data.csv\n",
      "Data for srcip '59.166.0.9' saved to D:/jenny/Documents/FAUS_Study/Thesis/My_dataset/Test_data/Normal_data/Device_data/device_12_data.csv\n",
      "Data for srcip '59.166.0.0' saved to D:/jenny/Documents/FAUS_Study/Thesis/My_dataset/Test_data/Normal_data/Device_data/device_13_data.csv\n",
      "Data for srcip '10.40.85.10' saved to D:/jenny/Documents/FAUS_Study/Thesis/My_dataset/Test_data/Normal_data/Device_data/device_14_data.csv\n",
      "Data for srcip '10.40.85.30' saved to D:/jenny/Documents/FAUS_Study/Thesis/My_dataset/Test_data/Normal_data/Device_data/device_15_data.csv\n",
      "Data for srcip '10.40.85.1' saved to D:/jenny/Documents/FAUS_Study/Thesis/My_dataset/Test_data/Normal_data/Device_data/device_16_data.csv\n",
      "Data for srcip '149.171.126.12' saved to D:/jenny/Documents/FAUS_Study/Thesis/My_dataset/Test_data/Normal_data/Device_data/device_17_data.csv\n",
      "Data for srcip '10.40.182.3' saved to D:/jenny/Documents/FAUS_Study/Thesis/My_dataset/Test_data/Normal_data/Device_data/device_18_data.csv\n",
      "Data for srcip '10.40.170.2' saved to D:/jenny/Documents/FAUS_Study/Thesis/My_dataset/Test_data/Normal_data/Device_data/device_19_data.csv\n",
      "Data for srcip '175.45.176.2' saved to D:/jenny/Documents/FAUS_Study/Thesis/My_dataset/Test_data/Normal_data/Device_data/device_20_data.csv\n",
      "Data for srcip '10.40.182.1' saved to D:/jenny/Documents/FAUS_Study/Thesis/My_dataset/Test_data/Normal_data/Device_data/device_21_data.csv\n",
      "Data for srcip '10.40.182.6' saved to D:/jenny/Documents/FAUS_Study/Thesis/My_dataset/Test_data/Normal_data/Device_data/device_22_data.csv\n",
      "Data for srcip '175.45.176.3' saved to D:/jenny/Documents/FAUS_Study/Thesis/My_dataset/Test_data/Normal_data/Device_data/device_23_data.csv\n",
      "Data for srcip '149.171.126.13' saved to D:/jenny/Documents/FAUS_Study/Thesis/My_dataset/Test_data/Normal_data/Device_data/device_24_data.csv\n",
      "Data for srcip '149.171.126.4' saved to D:/jenny/Documents/FAUS_Study/Thesis/My_dataset/Test_data/Normal_data/Device_data/device_25_data.csv\n",
      "Data for srcip '149.171.126.1' saved to D:/jenny/Documents/FAUS_Study/Thesis/My_dataset/Test_data/Normal_data/Device_data/device_26_data.csv\n",
      "Data for srcip '149.171.126.15' saved to D:/jenny/Documents/FAUS_Study/Thesis/My_dataset/Test_data/Normal_data/Device_data/device_27_data.csv\n",
      "Data for srcip '149.171.126.17' saved to D:/jenny/Documents/FAUS_Study/Thesis/My_dataset/Test_data/Normal_data/Device_data/device_28_data.csv\n",
      "Data for srcip '149.171.126.11' saved to D:/jenny/Documents/FAUS_Study/Thesis/My_dataset/Test_data/Normal_data/Device_data/device_29_data.csv\n",
      "Data for srcip '149.171.126.6' saved to D:/jenny/Documents/FAUS_Study/Thesis/My_dataset/Test_data/Normal_data/Device_data/device_30_data.csv\n",
      "Data for srcip '149.171.126.10' saved to D:/jenny/Documents/FAUS_Study/Thesis/My_dataset/Test_data/Normal_data/Device_data/device_31_data.csv\n",
      "Data for srcip '149.171.126.0' saved to D:/jenny/Documents/FAUS_Study/Thesis/My_dataset/Test_data/Normal_data/Device_data/device_32_data.csv\n",
      "Data for srcip '149.171.126.3' saved to D:/jenny/Documents/FAUS_Study/Thesis/My_dataset/Test_data/Normal_data/Device_data/device_33_data.csv\n",
      "Data for srcip '149.171.126.16' saved to D:/jenny/Documents/FAUS_Study/Thesis/My_dataset/Test_data/Normal_data/Device_data/device_34_data.csv\n",
      "Data for srcip '149.171.126.19' saved to D:/jenny/Documents/FAUS_Study/Thesis/My_dataset/Test_data/Normal_data/Device_data/device_35_data.csv\n",
      "Data for srcip '149.171.126.14' saved to D:/jenny/Documents/FAUS_Study/Thesis/My_dataset/Test_data/Normal_data/Device_data/device_36_data.csv\n",
      "Data for srcip '149.171.126.9' saved to D:/jenny/Documents/FAUS_Study/Thesis/My_dataset/Test_data/Normal_data/Device_data/device_37_data.csv\n",
      "Data for srcip '149.171.126.5' saved to D:/jenny/Documents/FAUS_Study/Thesis/My_dataset/Test_data/Normal_data/Device_data/device_38_data.csv\n",
      "Data for srcip '149.171.126.8' saved to D:/jenny/Documents/FAUS_Study/Thesis/My_dataset/Test_data/Normal_data/Device_data/device_39_data.csv\n",
      "Data for srcip '149.171.126.7' saved to D:/jenny/Documents/FAUS_Study/Thesis/My_dataset/Test_data/Normal_data/Device_data/device_40_data.csv\n",
      "Data for srcip '149.171.126.2' saved to D:/jenny/Documents/FAUS_Study/Thesis/My_dataset/Test_data/Normal_data/Device_data/device_41_data.csv\n",
      "Data segregation completed. Files are saved in the 'D:/jenny/Documents/FAUS_Study/Thesis/My_dataset/Test_data/Normal_data/Device_data/' directory.\n"
     ]
    }
   ],
   "source": [
    "# Data segration depending on Srcip for creating local devices.\n",
    "import pandas as pd\n",
    "import os\n",
    "\n",
    "# Input file containing normal data\n",
    "input_file = \"D:/jenny/Documents/FAUS_Study/Thesis/My_dataset/Test_data/Normal_data/UNSW-NB15_normal_test.csv\"  # Replace with the path to your normal data file\n",
    "output_dir = \"D:/jenny/Documents/FAUS_Study/Thesis/My_dataset/Test_data/Normal_data/Device_data/\"  # Directory to store the segregated files\n",
    "\n",
    "# Create the output directory if it doesn't exist\n",
    "os.makedirs(output_dir, exist_ok=True)\n",
    "\n",
    "# Load the dataset\n",
    "data = pd.read_csv(input_file)\n",
    "\n",
    "# Ensure the 'srcip' column exists\n",
    "if \"srcip\" not in data.columns:\n",
    "    raise ValueError(\"The dataset does not contain the 'srcip' column.\")\n",
    "\n",
    "# Get the unique source IPs\n",
    "unique_srcips = data[\"srcip\"].unique()\n",
    "\n",
    "# Loop through each unique source IP, filter data, and save to a CSV\n",
    "for idx, srcip in enumerate(unique_srcips, start=1):\n",
    "    # Filter data for the current source IP\n",
    "    device_data = data[data[\"srcip\"] == srcip]\n",
    "    \n",
    "    # Define the output file name\n",
    "    output_file = os.path.join(output_dir, f\"device_{idx}_data.csv\")\n",
    "    \n",
    "    # Save the data to the CSV\n",
    "    device_data.to_csv(output_file, index=False)\n",
    "    print(f\"Data for srcip '{srcip}' saved to {output_file}\")\n",
    "\n",
    "print(f\"Data segregation completed. Files are saved in the '{output_dir}' directory.\")\n"
   ]
  },
  {
   "cell_type": "code",
   "execution_count": 1,
   "metadata": {},
   "outputs": [
    {
     "name": "stdout",
     "output_type": "stream",
     "text": [
      "--- Round 1 ---\n",
      "Training on device 1...\n"
     ]
    },
    {
     "name": "stderr",
     "output_type": "stream",
     "text": [
      "C:\\Users\\jenny\\AppData\\Local\\Temp\\ipykernel_11432\\601465253.py:19: DtypeWarning: Columns (39) have mixed types. Specify dtype option on import or set low_memory=False.\n",
      "  data = pd.read_csv(file_path)\n",
      "d:\\jenny\\Documents\\FAUS_Study\\Thesis\\Working_Directory\\env\\Lib\\site-packages\\keras\\src\\layers\\core\\dense.py:87: UserWarning: Do not pass an `input_shape`/`input_dim` argument to a layer. When using Sequential models, prefer using an `Input(shape)` object as the first layer in the model instead.\n",
      "  super().__init__(activity_regularizer=activity_regularizer, **kwargs)\n"
     ]
    },
    {
     "name": "stdout",
     "output_type": "stream",
     "text": [
      "Training on device 2...\n"
     ]
    },
    {
     "name": "stderr",
     "output_type": "stream",
     "text": [
      "C:\\Users\\jenny\\AppData\\Local\\Temp\\ipykernel_11432\\601465253.py:19: DtypeWarning: Columns (39) have mixed types. Specify dtype option on import or set low_memory=False.\n",
      "  data = pd.read_csv(file_path)\n",
      "d:\\jenny\\Documents\\FAUS_Study\\Thesis\\Working_Directory\\env\\Lib\\site-packages\\keras\\src\\layers\\core\\dense.py:87: UserWarning: Do not pass an `input_shape`/`input_dim` argument to a layer. When using Sequential models, prefer using an `Input(shape)` object as the first layer in the model instead.\n",
      "  super().__init__(activity_regularizer=activity_regularizer, **kwargs)\n"
     ]
    },
    {
     "name": "stdout",
     "output_type": "stream",
     "text": [
      "Training on device 3...\n"
     ]
    },
    {
     "name": "stderr",
     "output_type": "stream",
     "text": [
      "C:\\Users\\jenny\\AppData\\Local\\Temp\\ipykernel_11432\\601465253.py:19: DtypeWarning: Columns (39) have mixed types. Specify dtype option on import or set low_memory=False.\n",
      "  data = pd.read_csv(file_path)\n",
      "d:\\jenny\\Documents\\FAUS_Study\\Thesis\\Working_Directory\\env\\Lib\\site-packages\\keras\\src\\layers\\core\\dense.py:87: UserWarning: Do not pass an `input_shape`/`input_dim` argument to a layer. When using Sequential models, prefer using an `Input(shape)` object as the first layer in the model instead.\n",
      "  super().__init__(activity_regularizer=activity_regularizer, **kwargs)\n"
     ]
    },
    {
     "name": "stdout",
     "output_type": "stream",
     "text": [
      "Training on device 4...\n"
     ]
    },
    {
     "name": "stderr",
     "output_type": "stream",
     "text": [
      "C:\\Users\\jenny\\AppData\\Local\\Temp\\ipykernel_11432\\601465253.py:19: DtypeWarning: Columns (39) have mixed types. Specify dtype option on import or set low_memory=False.\n",
      "  data = pd.read_csv(file_path)\n",
      "d:\\jenny\\Documents\\FAUS_Study\\Thesis\\Working_Directory\\env\\Lib\\site-packages\\keras\\src\\layers\\core\\dense.py:87: UserWarning: Do not pass an `input_shape`/`input_dim` argument to a layer. When using Sequential models, prefer using an `Input(shape)` object as the first layer in the model instead.\n",
      "  super().__init__(activity_regularizer=activity_regularizer, **kwargs)\n"
     ]
    },
    {
     "name": "stdout",
     "output_type": "stream",
     "text": [
      "Training on device 5...\n"
     ]
    },
    {
     "name": "stderr",
     "output_type": "stream",
     "text": [
      "d:\\jenny\\Documents\\FAUS_Study\\Thesis\\Working_Directory\\env\\Lib\\site-packages\\keras\\src\\layers\\core\\dense.py:87: UserWarning: Do not pass an `input_shape`/`input_dim` argument to a layer. When using Sequential models, prefer using an `Input(shape)` object as the first layer in the model instead.\n",
      "  super().__init__(activity_regularizer=activity_regularizer, **kwargs)\n"
     ]
    },
    {
     "name": "stdout",
     "output_type": "stream",
     "text": [
      "Training on device 6...\n"
     ]
    },
    {
     "name": "stderr",
     "output_type": "stream",
     "text": [
      "C:\\Users\\jenny\\AppData\\Local\\Temp\\ipykernel_11432\\601465253.py:19: DtypeWarning: Columns (39) have mixed types. Specify dtype option on import or set low_memory=False.\n",
      "  data = pd.read_csv(file_path)\n",
      "d:\\jenny\\Documents\\FAUS_Study\\Thesis\\Working_Directory\\env\\Lib\\site-packages\\keras\\src\\layers\\core\\dense.py:87: UserWarning: Do not pass an `input_shape`/`input_dim` argument to a layer. When using Sequential models, prefer using an `Input(shape)` object as the first layer in the model instead.\n",
      "  super().__init__(activity_regularizer=activity_regularizer, **kwargs)\n"
     ]
    },
    {
     "name": "stdout",
     "output_type": "stream",
     "text": [
      "Training on device 7...\n"
     ]
    },
    {
     "name": "stderr",
     "output_type": "stream",
     "text": [
      "d:\\jenny\\Documents\\FAUS_Study\\Thesis\\Working_Directory\\env\\Lib\\site-packages\\keras\\src\\layers\\core\\dense.py:87: UserWarning: Do not pass an `input_shape`/`input_dim` argument to a layer. When using Sequential models, prefer using an `Input(shape)` object as the first layer in the model instead.\n",
      "  super().__init__(activity_regularizer=activity_regularizer, **kwargs)\n"
     ]
    },
    {
     "name": "stdout",
     "output_type": "stream",
     "text": [
      "Training on device 8...\n"
     ]
    },
    {
     "name": "stderr",
     "output_type": "stream",
     "text": [
      "C:\\Users\\jenny\\AppData\\Local\\Temp\\ipykernel_11432\\601465253.py:19: DtypeWarning: Columns (39) have mixed types. Specify dtype option on import or set low_memory=False.\n",
      "  data = pd.read_csv(file_path)\n",
      "d:\\jenny\\Documents\\FAUS_Study\\Thesis\\Working_Directory\\env\\Lib\\site-packages\\keras\\src\\layers\\core\\dense.py:87: UserWarning: Do not pass an `input_shape`/`input_dim` argument to a layer. When using Sequential models, prefer using an `Input(shape)` object as the first layer in the model instead.\n",
      "  super().__init__(activity_regularizer=activity_regularizer, **kwargs)\n"
     ]
    },
    {
     "name": "stdout",
     "output_type": "stream",
     "text": [
      "Training on device 9...\n"
     ]
    },
    {
     "name": "stderr",
     "output_type": "stream",
     "text": [
      "C:\\Users\\jenny\\AppData\\Local\\Temp\\ipykernel_11432\\601465253.py:19: DtypeWarning: Columns (39) have mixed types. Specify dtype option on import or set low_memory=False.\n",
      "  data = pd.read_csv(file_path)\n",
      "d:\\jenny\\Documents\\FAUS_Study\\Thesis\\Working_Directory\\env\\Lib\\site-packages\\keras\\src\\layers\\core\\dense.py:87: UserWarning: Do not pass an `input_shape`/`input_dim` argument to a layer. When using Sequential models, prefer using an `Input(shape)` object as the first layer in the model instead.\n",
      "  super().__init__(activity_regularizer=activity_regularizer, **kwargs)\n"
     ]
    },
    {
     "name": "stdout",
     "output_type": "stream",
     "text": [
      "Training on device 10...\n"
     ]
    },
    {
     "name": "stderr",
     "output_type": "stream",
     "text": [
      "C:\\Users\\jenny\\AppData\\Local\\Temp\\ipykernel_11432\\601465253.py:19: DtypeWarning: Columns (39) have mixed types. Specify dtype option on import or set low_memory=False.\n",
      "  data = pd.read_csv(file_path)\n",
      "d:\\jenny\\Documents\\FAUS_Study\\Thesis\\Working_Directory\\env\\Lib\\site-packages\\keras\\src\\layers\\core\\dense.py:87: UserWarning: Do not pass an `input_shape`/`input_dim` argument to a layer. When using Sequential models, prefer using an `Input(shape)` object as the first layer in the model instead.\n",
      "  super().__init__(activity_regularizer=activity_regularizer, **kwargs)\n"
     ]
    },
    {
     "name": "stdout",
     "output_type": "stream",
     "text": [
      "Training on device 11...\n"
     ]
    },
    {
     "name": "stderr",
     "output_type": "stream",
     "text": [
      "C:\\Users\\jenny\\AppData\\Local\\Temp\\ipykernel_11432\\601465253.py:19: DtypeWarning: Columns (39) have mixed types. Specify dtype option on import or set low_memory=False.\n",
      "  data = pd.read_csv(file_path)\n",
      "d:\\jenny\\Documents\\FAUS_Study\\Thesis\\Working_Directory\\env\\Lib\\site-packages\\keras\\src\\layers\\core\\dense.py:87: UserWarning: Do not pass an `input_shape`/`input_dim` argument to a layer. When using Sequential models, prefer using an `Input(shape)` object as the first layer in the model instead.\n",
      "  super().__init__(activity_regularizer=activity_regularizer, **kwargs)\n"
     ]
    },
    {
     "name": "stdout",
     "output_type": "stream",
     "text": [
      "Training on device 12...\n"
     ]
    },
    {
     "name": "stderr",
     "output_type": "stream",
     "text": [
      "C:\\Users\\jenny\\AppData\\Local\\Temp\\ipykernel_11432\\601465253.py:19: DtypeWarning: Columns (39) have mixed types. Specify dtype option on import or set low_memory=False.\n",
      "  data = pd.read_csv(file_path)\n",
      "d:\\jenny\\Documents\\FAUS_Study\\Thesis\\Working_Directory\\env\\Lib\\site-packages\\keras\\src\\layers\\core\\dense.py:87: UserWarning: Do not pass an `input_shape`/`input_dim` argument to a layer. When using Sequential models, prefer using an `Input(shape)` object as the first layer in the model instead.\n",
      "  super().__init__(activity_regularizer=activity_regularizer, **kwargs)\n"
     ]
    },
    {
     "name": "stdout",
     "output_type": "stream",
     "text": [
      "Training on device 13...\n"
     ]
    },
    {
     "name": "stderr",
     "output_type": "stream",
     "text": [
      "d:\\jenny\\Documents\\FAUS_Study\\Thesis\\Working_Directory\\env\\Lib\\site-packages\\keras\\src\\layers\\core\\dense.py:87: UserWarning: Do not pass an `input_shape`/`input_dim` argument to a layer. When using Sequential models, prefer using an `Input(shape)` object as the first layer in the model instead.\n",
      "  super().__init__(activity_regularizer=activity_regularizer, **kwargs)\n"
     ]
    },
    {
     "name": "stdout",
     "output_type": "stream",
     "text": [
      "Training on device 14...\n"
     ]
    },
    {
     "name": "stderr",
     "output_type": "stream",
     "text": [
      "d:\\jenny\\Documents\\FAUS_Study\\Thesis\\Working_Directory\\env\\Lib\\site-packages\\keras\\src\\layers\\core\\dense.py:87: UserWarning: Do not pass an `input_shape`/`input_dim` argument to a layer. When using Sequential models, prefer using an `Input(shape)` object as the first layer in the model instead.\n",
      "  super().__init__(activity_regularizer=activity_regularizer, **kwargs)\n"
     ]
    },
    {
     "name": "stdout",
     "output_type": "stream",
     "text": [
      "Training on device 15...\n"
     ]
    },
    {
     "name": "stderr",
     "output_type": "stream",
     "text": [
      "d:\\jenny\\Documents\\FAUS_Study\\Thesis\\Working_Directory\\env\\Lib\\site-packages\\keras\\src\\layers\\core\\dense.py:87: UserWarning: Do not pass an `input_shape`/`input_dim` argument to a layer. When using Sequential models, prefer using an `Input(shape)` object as the first layer in the model instead.\n",
      "  super().__init__(activity_regularizer=activity_regularizer, **kwargs)\n"
     ]
    },
    {
     "name": "stdout",
     "output_type": "stream",
     "text": [
      "Training on device 16...\n"
     ]
    },
    {
     "name": "stderr",
     "output_type": "stream",
     "text": [
      "d:\\jenny\\Documents\\FAUS_Study\\Thesis\\Working_Directory\\env\\Lib\\site-packages\\keras\\src\\layers\\core\\dense.py:87: UserWarning: Do not pass an `input_shape`/`input_dim` argument to a layer. When using Sequential models, prefer using an `Input(shape)` object as the first layer in the model instead.\n",
      "  super().__init__(activity_regularizer=activity_regularizer, **kwargs)\n"
     ]
    },
    {
     "name": "stdout",
     "output_type": "stream",
     "text": [
      "Training on device 17...\n"
     ]
    },
    {
     "name": "stderr",
     "output_type": "stream",
     "text": [
      "d:\\jenny\\Documents\\FAUS_Study\\Thesis\\Working_Directory\\env\\Lib\\site-packages\\keras\\src\\layers\\core\\dense.py:87: UserWarning: Do not pass an `input_shape`/`input_dim` argument to a layer. When using Sequential models, prefer using an `Input(shape)` object as the first layer in the model instead.\n",
      "  super().__init__(activity_regularizer=activity_regularizer, **kwargs)\n"
     ]
    },
    {
     "name": "stdout",
     "output_type": "stream",
     "text": [
      "Training on device 18...\n"
     ]
    },
    {
     "name": "stderr",
     "output_type": "stream",
     "text": [
      "d:\\jenny\\Documents\\FAUS_Study\\Thesis\\Working_Directory\\env\\Lib\\site-packages\\keras\\src\\layers\\core\\dense.py:87: UserWarning: Do not pass an `input_shape`/`input_dim` argument to a layer. When using Sequential models, prefer using an `Input(shape)` object as the first layer in the model instead.\n",
      "  super().__init__(activity_regularizer=activity_regularizer, **kwargs)\n"
     ]
    },
    {
     "name": "stdout",
     "output_type": "stream",
     "text": [
      "Training on device 19...\n"
     ]
    },
    {
     "name": "stderr",
     "output_type": "stream",
     "text": [
      "d:\\jenny\\Documents\\FAUS_Study\\Thesis\\Working_Directory\\env\\Lib\\site-packages\\keras\\src\\layers\\core\\dense.py:87: UserWarning: Do not pass an `input_shape`/`input_dim` argument to a layer. When using Sequential models, prefer using an `Input(shape)` object as the first layer in the model instead.\n",
      "  super().__init__(activity_regularizer=activity_regularizer, **kwargs)\n"
     ]
    },
    {
     "name": "stdout",
     "output_type": "stream",
     "text": [
      "Training on device 20...\n"
     ]
    },
    {
     "name": "stderr",
     "output_type": "stream",
     "text": [
      "d:\\jenny\\Documents\\FAUS_Study\\Thesis\\Working_Directory\\env\\Lib\\site-packages\\keras\\src\\layers\\core\\dense.py:87: UserWarning: Do not pass an `input_shape`/`input_dim` argument to a layer. When using Sequential models, prefer using an `Input(shape)` object as the first layer in the model instead.\n",
      "  super().__init__(activity_regularizer=activity_regularizer, **kwargs)\n"
     ]
    },
    {
     "name": "stdout",
     "output_type": "stream",
     "text": [
      "Training on device 21...\n"
     ]
    },
    {
     "name": "stderr",
     "output_type": "stream",
     "text": [
      "d:\\jenny\\Documents\\FAUS_Study\\Thesis\\Working_Directory\\env\\Lib\\site-packages\\keras\\src\\layers\\core\\dense.py:87: UserWarning: Do not pass an `input_shape`/`input_dim` argument to a layer. When using Sequential models, prefer using an `Input(shape)` object as the first layer in the model instead.\n",
      "  super().__init__(activity_regularizer=activity_regularizer, **kwargs)\n"
     ]
    },
    {
     "name": "stdout",
     "output_type": "stream",
     "text": [
      "Training on device 22...\n"
     ]
    },
    {
     "name": "stderr",
     "output_type": "stream",
     "text": [
      "d:\\jenny\\Documents\\FAUS_Study\\Thesis\\Working_Directory\\env\\Lib\\site-packages\\keras\\src\\layers\\core\\dense.py:87: UserWarning: Do not pass an `input_shape`/`input_dim` argument to a layer. When using Sequential models, prefer using an `Input(shape)` object as the first layer in the model instead.\n",
      "  super().__init__(activity_regularizer=activity_regularizer, **kwargs)\n"
     ]
    },
    {
     "name": "stdout",
     "output_type": "stream",
     "text": [
      "Training on device 23...\n"
     ]
    },
    {
     "name": "stderr",
     "output_type": "stream",
     "text": [
      "d:\\jenny\\Documents\\FAUS_Study\\Thesis\\Working_Directory\\env\\Lib\\site-packages\\keras\\src\\layers\\core\\dense.py:87: UserWarning: Do not pass an `input_shape`/`input_dim` argument to a layer. When using Sequential models, prefer using an `Input(shape)` object as the first layer in the model instead.\n",
      "  super().__init__(activity_regularizer=activity_regularizer, **kwargs)\n"
     ]
    },
    {
     "name": "stdout",
     "output_type": "stream",
     "text": [
      "Training on device 24...\n"
     ]
    },
    {
     "name": "stderr",
     "output_type": "stream",
     "text": [
      "d:\\jenny\\Documents\\FAUS_Study\\Thesis\\Working_Directory\\env\\Lib\\site-packages\\keras\\src\\layers\\core\\dense.py:87: UserWarning: Do not pass an `input_shape`/`input_dim` argument to a layer. When using Sequential models, prefer using an `Input(shape)` object as the first layer in the model instead.\n",
      "  super().__init__(activity_regularizer=activity_regularizer, **kwargs)\n"
     ]
    },
    {
     "name": "stdout",
     "output_type": "stream",
     "text": [
      "Training on device 25...\n"
     ]
    },
    {
     "name": "stderr",
     "output_type": "stream",
     "text": [
      "d:\\jenny\\Documents\\FAUS_Study\\Thesis\\Working_Directory\\env\\Lib\\site-packages\\keras\\src\\layers\\core\\dense.py:87: UserWarning: Do not pass an `input_shape`/`input_dim` argument to a layer. When using Sequential models, prefer using an `Input(shape)` object as the first layer in the model instead.\n",
      "  super().__init__(activity_regularizer=activity_regularizer, **kwargs)\n"
     ]
    },
    {
     "name": "stdout",
     "output_type": "stream",
     "text": [
      "Training on device 26...\n"
     ]
    },
    {
     "name": "stderr",
     "output_type": "stream",
     "text": [
      "d:\\jenny\\Documents\\FAUS_Study\\Thesis\\Working_Directory\\env\\Lib\\site-packages\\keras\\src\\layers\\core\\dense.py:87: UserWarning: Do not pass an `input_shape`/`input_dim` argument to a layer. When using Sequential models, prefer using an `Input(shape)` object as the first layer in the model instead.\n",
      "  super().__init__(activity_regularizer=activity_regularizer, **kwargs)\n"
     ]
    },
    {
     "name": "stdout",
     "output_type": "stream",
     "text": [
      "Training on device 27...\n"
     ]
    },
    {
     "name": "stderr",
     "output_type": "stream",
     "text": [
      "d:\\jenny\\Documents\\FAUS_Study\\Thesis\\Working_Directory\\env\\Lib\\site-packages\\keras\\src\\layers\\core\\dense.py:87: UserWarning: Do not pass an `input_shape`/`input_dim` argument to a layer. When using Sequential models, prefer using an `Input(shape)` object as the first layer in the model instead.\n",
      "  super().__init__(activity_regularizer=activity_regularizer, **kwargs)\n"
     ]
    },
    {
     "name": "stdout",
     "output_type": "stream",
     "text": [
      "Training on device 28...\n"
     ]
    },
    {
     "name": "stderr",
     "output_type": "stream",
     "text": [
      "d:\\jenny\\Documents\\FAUS_Study\\Thesis\\Working_Directory\\env\\Lib\\site-packages\\keras\\src\\layers\\core\\dense.py:87: UserWarning: Do not pass an `input_shape`/`input_dim` argument to a layer. When using Sequential models, prefer using an `Input(shape)` object as the first layer in the model instead.\n",
      "  super().__init__(activity_regularizer=activity_regularizer, **kwargs)\n"
     ]
    },
    {
     "name": "stdout",
     "output_type": "stream",
     "text": [
      "Training on device 29...\n"
     ]
    },
    {
     "name": "stderr",
     "output_type": "stream",
     "text": [
      "d:\\jenny\\Documents\\FAUS_Study\\Thesis\\Working_Directory\\env\\Lib\\site-packages\\keras\\src\\layers\\core\\dense.py:87: UserWarning: Do not pass an `input_shape`/`input_dim` argument to a layer. When using Sequential models, prefer using an `Input(shape)` object as the first layer in the model instead.\n",
      "  super().__init__(activity_regularizer=activity_regularizer, **kwargs)\n"
     ]
    },
    {
     "name": "stdout",
     "output_type": "stream",
     "text": [
      "Training on device 30...\n"
     ]
    },
    {
     "name": "stderr",
     "output_type": "stream",
     "text": [
      "d:\\jenny\\Documents\\FAUS_Study\\Thesis\\Working_Directory\\env\\Lib\\site-packages\\keras\\src\\layers\\core\\dense.py:87: UserWarning: Do not pass an `input_shape`/`input_dim` argument to a layer. When using Sequential models, prefer using an `Input(shape)` object as the first layer in the model instead.\n",
      "  super().__init__(activity_regularizer=activity_regularizer, **kwargs)\n"
     ]
    },
    {
     "name": "stdout",
     "output_type": "stream",
     "text": [
      "Training on device 31...\n"
     ]
    },
    {
     "name": "stderr",
     "output_type": "stream",
     "text": [
      "d:\\jenny\\Documents\\FAUS_Study\\Thesis\\Working_Directory\\env\\Lib\\site-packages\\keras\\src\\layers\\core\\dense.py:87: UserWarning: Do not pass an `input_shape`/`input_dim` argument to a layer. When using Sequential models, prefer using an `Input(shape)` object as the first layer in the model instead.\n",
      "  super().__init__(activity_regularizer=activity_regularizer, **kwargs)\n"
     ]
    },
    {
     "name": "stdout",
     "output_type": "stream",
     "text": [
      "Training on device 32...\n"
     ]
    },
    {
     "name": "stderr",
     "output_type": "stream",
     "text": [
      "d:\\jenny\\Documents\\FAUS_Study\\Thesis\\Working_Directory\\env\\Lib\\site-packages\\keras\\src\\layers\\core\\dense.py:87: UserWarning: Do not pass an `input_shape`/`input_dim` argument to a layer. When using Sequential models, prefer using an `Input(shape)` object as the first layer in the model instead.\n",
      "  super().__init__(activity_regularizer=activity_regularizer, **kwargs)\n"
     ]
    },
    {
     "name": "stdout",
     "output_type": "stream",
     "text": [
      "Training on device 33...\n"
     ]
    },
    {
     "name": "stderr",
     "output_type": "stream",
     "text": [
      "d:\\jenny\\Documents\\FAUS_Study\\Thesis\\Working_Directory\\env\\Lib\\site-packages\\keras\\src\\layers\\core\\dense.py:87: UserWarning: Do not pass an `input_shape`/`input_dim` argument to a layer. When using Sequential models, prefer using an `Input(shape)` object as the first layer in the model instead.\n",
      "  super().__init__(activity_regularizer=activity_regularizer, **kwargs)\n"
     ]
    },
    {
     "name": "stdout",
     "output_type": "stream",
     "text": [
      "Training on device 34...\n"
     ]
    },
    {
     "name": "stderr",
     "output_type": "stream",
     "text": [
      "d:\\jenny\\Documents\\FAUS_Study\\Thesis\\Working_Directory\\env\\Lib\\site-packages\\keras\\src\\layers\\core\\dense.py:87: UserWarning: Do not pass an `input_shape`/`input_dim` argument to a layer. When using Sequential models, prefer using an `Input(shape)` object as the first layer in the model instead.\n",
      "  super().__init__(activity_regularizer=activity_regularizer, **kwargs)\n"
     ]
    },
    {
     "name": "stdout",
     "output_type": "stream",
     "text": [
      "Training on device 35...\n"
     ]
    },
    {
     "name": "stderr",
     "output_type": "stream",
     "text": [
      "d:\\jenny\\Documents\\FAUS_Study\\Thesis\\Working_Directory\\env\\Lib\\site-packages\\keras\\src\\layers\\core\\dense.py:87: UserWarning: Do not pass an `input_shape`/`input_dim` argument to a layer. When using Sequential models, prefer using an `Input(shape)` object as the first layer in the model instead.\n",
      "  super().__init__(activity_regularizer=activity_regularizer, **kwargs)\n"
     ]
    },
    {
     "name": "stdout",
     "output_type": "stream",
     "text": [
      "Training on device 36...\n"
     ]
    },
    {
     "name": "stderr",
     "output_type": "stream",
     "text": [
      "d:\\jenny\\Documents\\FAUS_Study\\Thesis\\Working_Directory\\env\\Lib\\site-packages\\keras\\src\\layers\\core\\dense.py:87: UserWarning: Do not pass an `input_shape`/`input_dim` argument to a layer. When using Sequential models, prefer using an `Input(shape)` object as the first layer in the model instead.\n",
      "  super().__init__(activity_regularizer=activity_regularizer, **kwargs)\n"
     ]
    },
    {
     "name": "stdout",
     "output_type": "stream",
     "text": [
      "Training on device 37...\n"
     ]
    },
    {
     "name": "stderr",
     "output_type": "stream",
     "text": [
      "d:\\jenny\\Documents\\FAUS_Study\\Thesis\\Working_Directory\\env\\Lib\\site-packages\\keras\\src\\layers\\core\\dense.py:87: UserWarning: Do not pass an `input_shape`/`input_dim` argument to a layer. When using Sequential models, prefer using an `Input(shape)` object as the first layer in the model instead.\n",
      "  super().__init__(activity_regularizer=activity_regularizer, **kwargs)\n"
     ]
    },
    {
     "name": "stdout",
     "output_type": "stream",
     "text": [
      "Training on device 38...\n"
     ]
    },
    {
     "name": "stderr",
     "output_type": "stream",
     "text": [
      "d:\\jenny\\Documents\\FAUS_Study\\Thesis\\Working_Directory\\env\\Lib\\site-packages\\keras\\src\\layers\\core\\dense.py:87: UserWarning: Do not pass an `input_shape`/`input_dim` argument to a layer. When using Sequential models, prefer using an `Input(shape)` object as the first layer in the model instead.\n",
      "  super().__init__(activity_regularizer=activity_regularizer, **kwargs)\n"
     ]
    },
    {
     "name": "stdout",
     "output_type": "stream",
     "text": [
      "Training on device 39...\n"
     ]
    },
    {
     "name": "stderr",
     "output_type": "stream",
     "text": [
      "d:\\jenny\\Documents\\FAUS_Study\\Thesis\\Working_Directory\\env\\Lib\\site-packages\\keras\\src\\layers\\core\\dense.py:87: UserWarning: Do not pass an `input_shape`/`input_dim` argument to a layer. When using Sequential models, prefer using an `Input(shape)` object as the first layer in the model instead.\n",
      "  super().__init__(activity_regularizer=activity_regularizer, **kwargs)\n"
     ]
    },
    {
     "name": "stdout",
     "output_type": "stream",
     "text": [
      "Training on device 40...\n",
      "Warning: Insufficient data in D:/jenny/Documents/FAUS_Study/Thesis/My_dataset/Train_data/Normal_data/Device_data/device_40_data.csv. Skipping this device.\n",
      "Training on device 41...\n",
      "Warning: Insufficient data in D:/jenny/Documents/FAUS_Study/Thesis/My_dataset/Train_data/Normal_data/Device_data/device_41_data.csv. Skipping this device.\n",
      "Aggregating updates...\n",
      "Federated Learning Round Complete!\n"
     ]
    }
   ],
   "source": [
    "'''\n",
    "Federated learning algorithm\n",
    "\n",
    "'''\n",
    "\n",
    "import pandas as pd\n",
    "import numpy as np\n",
    "from sklearn.model_selection import train_test_split\n",
    "from sklearn.preprocessing import MinMaxScaler\n",
    "from tensorflow.keras.models import Sequential\n",
    "from tensorflow.keras.layers import Dense\n",
    "from tensorflow.keras.optimizers import SGD\n",
    "\n",
    "# Load segregated device data paths\n",
    "device_paths = [f\"D:/jenny/Documents/FAUS_Study/Thesis/My_dataset/Train_data/Normal_data/Device_data/device_{i}_data.csv\" for i in range(1, 42)]  # Example paths for 41 devices\n",
    "\n",
    "# Helper function to load and preprocess data\n",
    "def load_and_preprocess_data(file_path):\n",
    "    data = pd.read_csv(file_path)\n",
    "    \n",
    "    # Define required features\n",
    "    features = [\n",
    "        \"dur\", \"sbytes\", \"dbytes\", \"Sload\", \"Dload\", \"Spkts\", \"Dpkts\", \n",
    "        \"smeansz\", \"dmeansz\", \"sloss\", \"dloss\", \"Sintpkt\", \"Dintpkt\", \n",
    "        \"swin\", \"dwin\", \"tcprtt\", \"synack\", \"ackdat\", \n",
    "        \"ct_srv_src\", \"ct_srv_dst\", \"ct_dst_ltm\", \"ct_src_ ltm\",\"Label\"\n",
    "    ]\n",
    "    data.columns = data.columns.str.strip()  # Remove spaces from column names\n",
    "    # Ensure the dataset contains all required features\n",
    "    missing_features = [f for f in features if f not in data.columns]\n",
    "    if missing_features:\n",
    "        print(f\"Warning: Missing features {missing_features} in {file_path}. Skipping this device.\")\n",
    "        return None, None, None, None\n",
    "    \n",
    "    X = data[features]\n",
    "    y = data.get(\"Label\", None)  # Ensure \"Label\" column exists\n",
    "    if y is None:\n",
    "        print(f\"Warning: 'Label' column is missing in {file_path}. Skipping this device.\")\n",
    "        return None, None, None, None\n",
    "    \n",
    "    # Handle small datasets by enforcing a minimum number of samples\n",
    "    if len(X) < 2:  # Arbitrary threshold for minimum samples\n",
    "        print(f\"Warning: Insufficient data in {file_path}. Skipping this device.\")\n",
    "        return None, None, None, None\n",
    "    \n",
    "    # Scale features\n",
    "    scaler = MinMaxScaler()\n",
    "    X_scaled = scaler.fit_transform(X)\n",
    "    \n",
    "    # Split into training and testing datasets\n",
    "    try:\n",
    "        X_train, X_test, y_train, y_test = train_test_split(\n",
    "            X_scaled, y, test_size=0.2, random_state=42, stratify=y\n",
    "        )\n",
    "    except ValueError as e:\n",
    "        print(f\"Error during train-test split for {file_path}: {e}\")\n",
    "        return None, None, None, None\n",
    "    \n",
    "    return X_train, X_test, y_train, y_test\n",
    "\n",
    "# Define the neural network model\n",
    "def create_model(input_dim):\n",
    "    model = Sequential([\n",
    "        Dense(64, activation='relu', input_dim=input_dim),\n",
    "        Dense(32, activation='relu'),\n",
    "        Dense(1, activation='sigmoid')  # Binary classification\n",
    "    ])\n",
    "    model.compile(optimizer=SGD(learning_rate=0.01), loss='binary_crossentropy', metrics=['accuracy'])\n",
    "    return model\n",
    "\n",
    "# Federated Learning Simulation\n",
    "global_weights = None\n",
    "n_rounds = 1  # One round for this step\n",
    "device_models = []\n",
    "aggregated_weights = None\n",
    "\n",
    "for round_num in range(n_rounds):\n",
    "    print(f\"--- Round {round_num + 1} ---\")\n",
    "    client_updates = []\n",
    "    \n",
    "    for device_idx, device_path in enumerate(device_paths):\n",
    "        print(f\"Training on device {device_idx + 1}...\")\n",
    "        \n",
    "        # Load and preprocess device data\n",
    "        X_train, X_test, y_train, y_test = load_and_preprocess_data(device_path)\n",
    "        if X_train is None:  # Skip if data loading failed\n",
    "            continue\n",
    "        \n",
    "        # Create and train the model\n",
    "        input_dim = X_train.shape[1]\n",
    "        model = create_model(input_dim)\n",
    "        \n",
    "        if global_weights is not None:\n",
    "            model.set_weights(global_weights)  # Load global weights\n",
    "        \n",
    "        model.fit(X_train, y_train, epochs=5, batch_size=32, verbose=0)\n",
    "        client_updates.append(model.get_weights())\n",
    "        device_models.append(model)\n",
    "    \n",
    "    # Skip aggregation if no clients contributed\n",
    "    if not client_updates:\n",
    "        print(\"No clients contributed in this round. Exiting.\")\n",
    "        break\n",
    "    \n",
    "    # Federated Averaging: Aggregate weights\n",
    "    print(\"Aggregating updates...\")\n",
    "    aggregated_weights = [np.mean([client_weights[layer] for client_weights in client_updates], axis=0)\n",
    "                          for layer in range(len(client_updates[0]))]\n",
    "    global_weights = aggregated_weights  # Set new global weights\n",
    "    \n",
    "    # Update device models with the new global weights\n",
    "    for model in device_models:\n",
    "        model.set_weights(global_weights)\n",
    "\n",
    "print(\"Federated Learning Round Complete!\")\n"
   ]
  },
  {
   "cell_type": "code",
   "execution_count": 2,
   "metadata": {},
   "outputs": [
    {
     "name": "stdout",
     "output_type": "stream",
     "text": [
      "\n",
      "Evaluating model for device 1...\n",
      "Device 1 model performance:\n",
      "\u001b[1m436/436\u001b[0m \u001b[32m━━━━━━━━━━━━━━━━━━━━\u001b[0m\u001b[37m\u001b[0m \u001b[1m2s\u001b[0m 4ms/step\n",
      "Accuracy: 1.0\n",
      "Confusion Matrix:\n",
      "[[13931]]\n",
      "Classification Report:\n",
      "              precision    recall  f1-score   support\n",
      "\n",
      "           0       1.00      1.00      1.00     13931\n",
      "\n",
      "    accuracy                           1.00     13931\n",
      "   macro avg       1.00      1.00      1.00     13931\n",
      "weighted avg       1.00      1.00      1.00     13931\n",
      "\n",
      "\n",
      "Evaluating model for device 2...\n"
     ]
    },
    {
     "name": "stderr",
     "output_type": "stream",
     "text": [
      "d:\\jenny\\Documents\\FAUS_Study\\Thesis\\Working_Directory\\env\\Lib\\site-packages\\sklearn\\metrics\\_classification.py:407: UserWarning: A single label was found in 'y_true' and 'y_pred'. For the confusion matrix to have the correct shape, use the 'labels' parameter to pass all known labels.\n",
      "  warnings.warn(\n"
     ]
    },
    {
     "name": "stdout",
     "output_type": "stream",
     "text": [
      "Device 2 model performance:\n",
      "\u001b[1m430/430\u001b[0m \u001b[32m━━━━━━━━━━━━━━━━━━━━\u001b[0m\u001b[37m\u001b[0m \u001b[1m1s\u001b[0m 2ms/step\n",
      "Accuracy: 1.0\n",
      "Confusion Matrix:\n",
      "[[13740]]\n",
      "Classification Report:\n",
      "              precision    recall  f1-score   support\n",
      "\n",
      "           0       1.00      1.00      1.00     13740\n",
      "\n",
      "    accuracy                           1.00     13740\n",
      "   macro avg       1.00      1.00      1.00     13740\n",
      "weighted avg       1.00      1.00      1.00     13740\n",
      "\n",
      "\n",
      "Evaluating model for device 3...\n"
     ]
    },
    {
     "name": "stderr",
     "output_type": "stream",
     "text": [
      "d:\\jenny\\Documents\\FAUS_Study\\Thesis\\Working_Directory\\env\\Lib\\site-packages\\sklearn\\metrics\\_classification.py:407: UserWarning: A single label was found in 'y_true' and 'y_pred'. For the confusion matrix to have the correct shape, use the 'labels' parameter to pass all known labels.\n",
      "  warnings.warn(\n"
     ]
    },
    {
     "name": "stdout",
     "output_type": "stream",
     "text": [
      "Device 3 model performance:\n",
      "\u001b[1m410/410\u001b[0m \u001b[32m━━━━━━━━━━━━━━━━━━━━\u001b[0m\u001b[37m\u001b[0m \u001b[1m1s\u001b[0m 2ms/step\n",
      "Accuracy: 1.0\n",
      "Confusion Matrix:\n",
      "[[13093]]\n",
      "Classification Report:\n",
      "              precision    recall  f1-score   support\n",
      "\n",
      "           0       1.00      1.00      1.00     13093\n",
      "\n",
      "    accuracy                           1.00     13093\n",
      "   macro avg       1.00      1.00      1.00     13093\n",
      "weighted avg       1.00      1.00      1.00     13093\n",
      "\n",
      "\n",
      "Evaluating model for device 4...\n"
     ]
    },
    {
     "name": "stderr",
     "output_type": "stream",
     "text": [
      "d:\\jenny\\Documents\\FAUS_Study\\Thesis\\Working_Directory\\env\\Lib\\site-packages\\sklearn\\metrics\\_classification.py:407: UserWarning: A single label was found in 'y_true' and 'y_pred'. For the confusion matrix to have the correct shape, use the 'labels' parameter to pass all known labels.\n",
      "  warnings.warn(\n"
     ]
    },
    {
     "name": "stdout",
     "output_type": "stream",
     "text": [
      "Device 4 model performance:\n",
      "\u001b[1m405/405\u001b[0m \u001b[32m━━━━━━━━━━━━━━━━━━━━\u001b[0m\u001b[37m\u001b[0m \u001b[1m1s\u001b[0m 3ms/step\n",
      "Accuracy: 1.0\n",
      "Confusion Matrix:\n",
      "[[12952]]\n",
      "Classification Report:\n",
      "              precision    recall  f1-score   support\n",
      "\n",
      "           0       1.00      1.00      1.00     12952\n",
      "\n",
      "    accuracy                           1.00     12952\n",
      "   macro avg       1.00      1.00      1.00     12952\n",
      "weighted avg       1.00      1.00      1.00     12952\n",
      "\n",
      "\n",
      "Evaluating model for device 5...\n",
      "Device 5 model performance:\n"
     ]
    },
    {
     "name": "stderr",
     "output_type": "stream",
     "text": [
      "d:\\jenny\\Documents\\FAUS_Study\\Thesis\\Working_Directory\\env\\Lib\\site-packages\\sklearn\\metrics\\_classification.py:407: UserWarning: A single label was found in 'y_true' and 'y_pred'. For the confusion matrix to have the correct shape, use the 'labels' parameter to pass all known labels.\n",
      "  warnings.warn(\n"
     ]
    },
    {
     "name": "stdout",
     "output_type": "stream",
     "text": [
      "\u001b[1m36/36\u001b[0m \u001b[32m━━━━━━━━━━━━━━━━━━━━\u001b[0m\u001b[37m\u001b[0m \u001b[1m0s\u001b[0m 6ms/step\n",
      "Accuracy: 1.0\n",
      "Confusion Matrix:\n",
      "[[1129]]\n",
      "Classification Report:\n",
      "              precision    recall  f1-score   support\n",
      "\n",
      "           0       1.00      1.00      1.00      1129\n",
      "\n",
      "    accuracy                           1.00      1129\n",
      "   macro avg       1.00      1.00      1.00      1129\n",
      "weighted avg       1.00      1.00      1.00      1129\n",
      "\n",
      "\n",
      "Evaluating model for device 6...\n"
     ]
    },
    {
     "name": "stderr",
     "output_type": "stream",
     "text": [
      "d:\\jenny\\Documents\\FAUS_Study\\Thesis\\Working_Directory\\env\\Lib\\site-packages\\sklearn\\metrics\\_classification.py:407: UserWarning: A single label was found in 'y_true' and 'y_pred'. For the confusion matrix to have the correct shape, use the 'labels' parameter to pass all known labels.\n",
      "  warnings.warn(\n"
     ]
    },
    {
     "name": "stdout",
     "output_type": "stream",
     "text": [
      "Device 6 model performance:\n",
      "\u001b[1m413/413\u001b[0m \u001b[32m━━━━━━━━━━━━━━━━━━━━\u001b[0m\u001b[37m\u001b[0m \u001b[1m1s\u001b[0m 2ms/step\n",
      "Accuracy: 1.0\n",
      "Confusion Matrix:\n",
      "[[13206]]\n",
      "Classification Report:\n",
      "              precision    recall  f1-score   support\n",
      "\n",
      "           0       1.00      1.00      1.00     13206\n",
      "\n",
      "    accuracy                           1.00     13206\n",
      "   macro avg       1.00      1.00      1.00     13206\n",
      "weighted avg       1.00      1.00      1.00     13206\n",
      "\n",
      "\n",
      "Evaluating model for device 7...\n"
     ]
    },
    {
     "name": "stderr",
     "output_type": "stream",
     "text": [
      "d:\\jenny\\Documents\\FAUS_Study\\Thesis\\Working_Directory\\env\\Lib\\site-packages\\sklearn\\metrics\\_classification.py:407: UserWarning: A single label was found in 'y_true' and 'y_pred'. For the confusion matrix to have the correct shape, use the 'labels' parameter to pass all known labels.\n",
      "  warnings.warn(\n"
     ]
    },
    {
     "name": "stdout",
     "output_type": "stream",
     "text": [
      "Device 7 model performance:\n",
      "\u001b[1m413/413\u001b[0m \u001b[32m━━━━━━━━━━━━━━━━━━━━\u001b[0m\u001b[37m\u001b[0m \u001b[1m1s\u001b[0m 2ms/step\n",
      "Accuracy: 1.0\n",
      "Confusion Matrix:\n",
      "[[13195]]\n",
      "Classification Report:\n",
      "              precision    recall  f1-score   support\n",
      "\n",
      "           0       1.00      1.00      1.00     13195\n",
      "\n",
      "    accuracy                           1.00     13195\n",
      "   macro avg       1.00      1.00      1.00     13195\n",
      "weighted avg       1.00      1.00      1.00     13195\n",
      "\n",
      "\n",
      "Evaluating model for device 8...\n",
      "Device 8 model performance:\n"
     ]
    },
    {
     "name": "stderr",
     "output_type": "stream",
     "text": [
      "d:\\jenny\\Documents\\FAUS_Study\\Thesis\\Working_Directory\\env\\Lib\\site-packages\\sklearn\\metrics\\_classification.py:407: UserWarning: A single label was found in 'y_true' and 'y_pred'. For the confusion matrix to have the correct shape, use the 'labels' parameter to pass all known labels.\n",
      "  warnings.warn(\n"
     ]
    },
    {
     "name": "stdout",
     "output_type": "stream",
     "text": [
      "\u001b[1m40/40\u001b[0m \u001b[32m━━━━━━━━━━━━━━━━━━━━\u001b[0m\u001b[37m\u001b[0m \u001b[1m0s\u001b[0m 4ms/step\n",
      "Accuracy: 1.0\n",
      "Confusion Matrix:\n",
      "[[1273]]\n",
      "Classification Report:\n",
      "              precision    recall  f1-score   support\n",
      "\n",
      "           0       1.00      1.00      1.00      1273\n",
      "\n",
      "    accuracy                           1.00      1273\n",
      "   macro avg       1.00      1.00      1.00      1273\n",
      "weighted avg       1.00      1.00      1.00      1273\n",
      "\n",
      "\n",
      "Evaluating model for device 9...\n"
     ]
    },
    {
     "name": "stderr",
     "output_type": "stream",
     "text": [
      "d:\\jenny\\Documents\\FAUS_Study\\Thesis\\Working_Directory\\env\\Lib\\site-packages\\sklearn\\metrics\\_classification.py:407: UserWarning: A single label was found in 'y_true' and 'y_pred'. For the confusion matrix to have the correct shape, use the 'labels' parameter to pass all known labels.\n",
      "  warnings.warn(\n"
     ]
    },
    {
     "name": "stdout",
     "output_type": "stream",
     "text": [
      "Device 9 model performance:\n",
      "\u001b[1m436/436\u001b[0m \u001b[32m━━━━━━━━━━━━━━━━━━━━\u001b[0m\u001b[37m\u001b[0m \u001b[1m1s\u001b[0m 2ms/step\n",
      "Accuracy: 1.0\n",
      "Confusion Matrix:\n",
      "[[13934]]\n",
      "Classification Report:\n",
      "              precision    recall  f1-score   support\n",
      "\n",
      "           0       1.00      1.00      1.00     13934\n",
      "\n",
      "    accuracy                           1.00     13934\n",
      "   macro avg       1.00      1.00      1.00     13934\n",
      "weighted avg       1.00      1.00      1.00     13934\n",
      "\n",
      "\n",
      "Evaluating model for device 10...\n"
     ]
    },
    {
     "name": "stderr",
     "output_type": "stream",
     "text": [
      "d:\\jenny\\Documents\\FAUS_Study\\Thesis\\Working_Directory\\env\\Lib\\site-packages\\sklearn\\metrics\\_classification.py:407: UserWarning: A single label was found in 'y_true' and 'y_pred'. For the confusion matrix to have the correct shape, use the 'labels' parameter to pass all known labels.\n",
      "  warnings.warn(\n"
     ]
    },
    {
     "name": "stdout",
     "output_type": "stream",
     "text": [
      "Device 10 model performance:\n",
      "\u001b[1m430/430\u001b[0m \u001b[32m━━━━━━━━━━━━━━━━━━━━\u001b[0m\u001b[37m\u001b[0m \u001b[1m1s\u001b[0m 2ms/step\n",
      "Accuracy: 1.0\n",
      "Confusion Matrix:\n",
      "[[13731]]\n",
      "Classification Report:\n",
      "              precision    recall  f1-score   support\n",
      "\n",
      "           0       1.00      1.00      1.00     13731\n",
      "\n",
      "    accuracy                           1.00     13731\n",
      "   macro avg       1.00      1.00      1.00     13731\n",
      "weighted avg       1.00      1.00      1.00     13731\n",
      "\n",
      "\n",
      "Evaluating model for device 11...\n"
     ]
    },
    {
     "name": "stderr",
     "output_type": "stream",
     "text": [
      "d:\\jenny\\Documents\\FAUS_Study\\Thesis\\Working_Directory\\env\\Lib\\site-packages\\sklearn\\metrics\\_classification.py:407: UserWarning: A single label was found in 'y_true' and 'y_pred'. For the confusion matrix to have the correct shape, use the 'labels' parameter to pass all known labels.\n",
      "  warnings.warn(\n"
     ]
    },
    {
     "name": "stdout",
     "output_type": "stream",
     "text": [
      "Device 11 model performance:\n",
      "\u001b[1m433/433\u001b[0m \u001b[32m━━━━━━━━━━━━━━━━━━━━\u001b[0m\u001b[37m\u001b[0m \u001b[1m1s\u001b[0m 2ms/step\n",
      "Accuracy: 1.0\n",
      "Confusion Matrix:\n",
      "[[13832]]\n",
      "Classification Report:\n",
      "              precision    recall  f1-score   support\n",
      "\n",
      "           0       1.00      1.00      1.00     13832\n",
      "\n",
      "    accuracy                           1.00     13832\n",
      "   macro avg       1.00      1.00      1.00     13832\n",
      "weighted avg       1.00      1.00      1.00     13832\n",
      "\n",
      "\n",
      "Evaluating model for device 12...\n"
     ]
    },
    {
     "name": "stderr",
     "output_type": "stream",
     "text": [
      "d:\\jenny\\Documents\\FAUS_Study\\Thesis\\Working_Directory\\env\\Lib\\site-packages\\sklearn\\metrics\\_classification.py:407: UserWarning: A single label was found in 'y_true' and 'y_pred'. For the confusion matrix to have the correct shape, use the 'labels' parameter to pass all known labels.\n",
      "  warnings.warn(\n"
     ]
    },
    {
     "name": "stdout",
     "output_type": "stream",
     "text": [
      "Device 12 model performance:\n",
      "\u001b[1m419/419\u001b[0m \u001b[32m━━━━━━━━━━━━━━━━━━━━\u001b[0m\u001b[37m\u001b[0m \u001b[1m1s\u001b[0m 2ms/step\n",
      "Accuracy: 1.0\n",
      "Confusion Matrix:\n",
      "[[13389]]\n",
      "Classification Report:\n",
      "              precision    recall  f1-score   support\n",
      "\n",
      "           0       1.00      1.00      1.00     13389\n",
      "\n",
      "    accuracy                           1.00     13389\n",
      "   macro avg       1.00      1.00      1.00     13389\n",
      "weighted avg       1.00      1.00      1.00     13389\n",
      "\n",
      "\n",
      "Evaluating model for device 13...\n"
     ]
    },
    {
     "name": "stderr",
     "output_type": "stream",
     "text": [
      "d:\\jenny\\Documents\\FAUS_Study\\Thesis\\Working_Directory\\env\\Lib\\site-packages\\sklearn\\metrics\\_classification.py:407: UserWarning: A single label was found in 'y_true' and 'y_pred'. For the confusion matrix to have the correct shape, use the 'labels' parameter to pass all known labels.\n",
      "  warnings.warn(\n"
     ]
    },
    {
     "name": "stdout",
     "output_type": "stream",
     "text": [
      "Device 13 model performance:\n",
      "\u001b[1m429/429\u001b[0m \u001b[32m━━━━━━━━━━━━━━━━━━━━\u001b[0m\u001b[37m\u001b[0m \u001b[1m1s\u001b[0m 2ms/step\n",
      "Accuracy: 1.0\n",
      "Confusion Matrix:\n",
      "[[13718]]\n",
      "Classification Report:\n",
      "              precision    recall  f1-score   support\n",
      "\n",
      "           0       1.00      1.00      1.00     13718\n",
      "\n",
      "    accuracy                           1.00     13718\n",
      "   macro avg       1.00      1.00      1.00     13718\n",
      "weighted avg       1.00      1.00      1.00     13718\n",
      "\n",
      "\n",
      "Evaluating model for device 14...\n",
      "Device 14 model performance:\n",
      "\u001b[1m1/4\u001b[0m \u001b[32m━━━━━\u001b[0m\u001b[37m━━━━━━━━━━━━━━━\u001b[0m \u001b[1m0s\u001b[0m 52ms/step"
     ]
    },
    {
     "name": "stderr",
     "output_type": "stream",
     "text": [
      "d:\\jenny\\Documents\\FAUS_Study\\Thesis\\Working_Directory\\env\\Lib\\site-packages\\sklearn\\metrics\\_classification.py:407: UserWarning: A single label was found in 'y_true' and 'y_pred'. For the confusion matrix to have the correct shape, use the 'labels' parameter to pass all known labels.\n",
      "  warnings.warn(\n"
     ]
    },
    {
     "name": "stdout",
     "output_type": "stream",
     "text": [
      "\u001b[1m4/4\u001b[0m \u001b[32m━━━━━━━━━━━━━━━━━━━━\u001b[0m\u001b[37m\u001b[0m \u001b[1m0s\u001b[0m 40ms/step\n",
      "Accuracy: 1.0\n",
      "Confusion Matrix:\n",
      "[[114]]\n",
      "Classification Report:\n",
      "              precision    recall  f1-score   support\n",
      "\n",
      "           0       1.00      1.00      1.00       114\n",
      "\n",
      "    accuracy                           1.00       114\n",
      "   macro avg       1.00      1.00      1.00       114\n",
      "weighted avg       1.00      1.00      1.00       114\n",
      "\n",
      "\n",
      "Evaluating model for device 15...\n"
     ]
    },
    {
     "name": "stderr",
     "output_type": "stream",
     "text": [
      "d:\\jenny\\Documents\\FAUS_Study\\Thesis\\Working_Directory\\env\\Lib\\site-packages\\sklearn\\metrics\\_classification.py:407: UserWarning: A single label was found in 'y_true' and 'y_pred'. For the confusion matrix to have the correct shape, use the 'labels' parameter to pass all known labels.\n",
      "  warnings.warn(\n"
     ]
    },
    {
     "name": "stdout",
     "output_type": "stream",
     "text": [
      "Device 15 model performance:\n",
      "WARNING:tensorflow:5 out of the last 434 calls to <function TensorFlowTrainer.make_predict_function.<locals>.one_step_on_data_distributed at 0x000001E7DF11D9E0> triggered tf.function retracing. Tracing is expensive and the excessive number of tracings could be due to (1) creating @tf.function repeatedly in a loop, (2) passing tensors with different shapes, (3) passing Python objects instead of tensors. For (1), please define your @tf.function outside of the loop. For (2), @tf.function has reduce_retracing=True option that can avoid unnecessary retracing. For (3), please refer to https://www.tensorflow.org/guide/function#controlling_retracing and https://www.tensorflow.org/api_docs/python/tf/function for  more details.\n",
      "\u001b[1m1/4\u001b[0m \u001b[32m━━━━━\u001b[0m\u001b[37m━━━━━━━━━━━━━━━\u001b[0m \u001b[1m0s\u001b[0m 76ms/stepWARNING:tensorflow:6 out of the last 437 calls to <function TensorFlowTrainer.make_predict_function.<locals>.one_step_on_data_distributed at 0x000001E7DF11D9E0> triggered tf.function retracing. Tracing is expensive and the excessive number of tracings could be due to (1) creating @tf.function repeatedly in a loop, (2) passing tensors with different shapes, (3) passing Python objects instead of tensors. For (1), please define your @tf.function outside of the loop. For (2), @tf.function has reduce_retracing=True option that can avoid unnecessary retracing. For (3), please refer to https://www.tensorflow.org/guide/function#controlling_retracing and https://www.tensorflow.org/api_docs/python/tf/function for  more details.\n",
      "\u001b[1m4/4\u001b[0m \u001b[32m━━━━━━━━━━━━━━━━━━━━\u001b[0m\u001b[37m\u001b[0m \u001b[1m0s\u001b[0m 32ms/step\n",
      "Accuracy: 1.0\n",
      "Confusion Matrix:\n",
      "[[106]]\n",
      "Classification Report:\n",
      "              precision    recall  f1-score   support\n",
      "\n",
      "           0       1.00      1.00      1.00       106\n",
      "\n",
      "    accuracy                           1.00       106\n",
      "   macro avg       1.00      1.00      1.00       106\n",
      "weighted avg       1.00      1.00      1.00       106\n",
      "\n",
      "\n",
      "Evaluating model for device 16...\n",
      "Device 16 model performance:\n"
     ]
    },
    {
     "name": "stderr",
     "output_type": "stream",
     "text": [
      "d:\\jenny\\Documents\\FAUS_Study\\Thesis\\Working_Directory\\env\\Lib\\site-packages\\sklearn\\metrics\\_classification.py:407: UserWarning: A single label was found in 'y_true' and 'y_pred'. For the confusion matrix to have the correct shape, use the 'labels' parameter to pass all known labels.\n",
      "  warnings.warn(\n"
     ]
    },
    {
     "name": "stdout",
     "output_type": "stream",
     "text": [
      "\u001b[1m7/7\u001b[0m \u001b[32m━━━━━━━━━━━━━━━━━━━━\u001b[0m\u001b[37m\u001b[0m \u001b[1m0s\u001b[0m 18ms/step\n",
      "Accuracy: 1.0\n",
      "Confusion Matrix:\n",
      "[[201]]\n",
      "Classification Report:\n",
      "              precision    recall  f1-score   support\n",
      "\n",
      "           0       1.00      1.00      1.00       201\n",
      "\n",
      "    accuracy                           1.00       201\n",
      "   macro avg       1.00      1.00      1.00       201\n",
      "weighted avg       1.00      1.00      1.00       201\n",
      "\n",
      "\n",
      "Evaluating model for device 17...\n",
      "Device 17 model performance:\n"
     ]
    },
    {
     "name": "stderr",
     "output_type": "stream",
     "text": [
      "d:\\jenny\\Documents\\FAUS_Study\\Thesis\\Working_Directory\\env\\Lib\\site-packages\\sklearn\\metrics\\_classification.py:407: UserWarning: A single label was found in 'y_true' and 'y_pred'. For the confusion matrix to have the correct shape, use the 'labels' parameter to pass all known labels.\n",
      "  warnings.warn(\n"
     ]
    },
    {
     "name": "stdout",
     "output_type": "stream",
     "text": [
      "\u001b[1m1/1\u001b[0m \u001b[32m━━━━━━━━━━━━━━━━━━━━\u001b[0m\u001b[37m\u001b[0m \u001b[1m0s\u001b[0m 151ms/step\n",
      "Accuracy: 1.0\n",
      "Confusion Matrix:\n",
      "[[16]]\n",
      "Classification Report:\n",
      "              precision    recall  f1-score   support\n",
      "\n",
      "           0       1.00      1.00      1.00        16\n",
      "\n",
      "    accuracy                           1.00        16\n",
      "   macro avg       1.00      1.00      1.00        16\n",
      "weighted avg       1.00      1.00      1.00        16\n",
      "\n",
      "\n",
      "Evaluating model for device 18...\n",
      "Device 18 model performance:\n"
     ]
    },
    {
     "name": "stderr",
     "output_type": "stream",
     "text": [
      "d:\\jenny\\Documents\\FAUS_Study\\Thesis\\Working_Directory\\env\\Lib\\site-packages\\sklearn\\metrics\\_classification.py:407: UserWarning: A single label was found in 'y_true' and 'y_pred'. For the confusion matrix to have the correct shape, use the 'labels' parameter to pass all known labels.\n",
      "  warnings.warn(\n"
     ]
    },
    {
     "name": "stdout",
     "output_type": "stream",
     "text": [
      "\u001b[1m4/4\u001b[0m \u001b[32m━━━━━━━━━━━━━━━━━━━━\u001b[0m\u001b[37m\u001b[0m \u001b[1m0s\u001b[0m 40ms/step\n",
      "Accuracy: 1.0\n",
      "Confusion Matrix:\n",
      "[[106]]\n",
      "Classification Report:\n",
      "              precision    recall  f1-score   support\n",
      "\n",
      "           0       1.00      1.00      1.00       106\n",
      "\n",
      "    accuracy                           1.00       106\n",
      "   macro avg       1.00      1.00      1.00       106\n",
      "weighted avg       1.00      1.00      1.00       106\n",
      "\n",
      "\n",
      "Evaluating model for device 19...\n",
      "Device 19 model performance:\n"
     ]
    },
    {
     "name": "stderr",
     "output_type": "stream",
     "text": [
      "d:\\jenny\\Documents\\FAUS_Study\\Thesis\\Working_Directory\\env\\Lib\\site-packages\\sklearn\\metrics\\_classification.py:407: UserWarning: A single label was found in 'y_true' and 'y_pred'. For the confusion matrix to have the correct shape, use the 'labels' parameter to pass all known labels.\n",
      "  warnings.warn(\n"
     ]
    },
    {
     "name": "stdout",
     "output_type": "stream",
     "text": [
      "\u001b[1m4/4\u001b[0m \u001b[32m━━━━━━━━━━━━━━━━━━━━\u001b[0m\u001b[37m\u001b[0m \u001b[1m0s\u001b[0m 38ms/step\n",
      "Accuracy: 1.0\n",
      "Confusion Matrix:\n",
      "[[104]]\n",
      "Classification Report:\n",
      "              precision    recall  f1-score   support\n",
      "\n",
      "           0       1.00      1.00      1.00       104\n",
      "\n",
      "    accuracy                           1.00       104\n",
      "   macro avg       1.00      1.00      1.00       104\n",
      "weighted avg       1.00      1.00      1.00       104\n",
      "\n",
      "\n",
      "Evaluating model for device 20...\n",
      "Device 20 model performance:"
     ]
    },
    {
     "name": "stderr",
     "output_type": "stream",
     "text": [
      "d:\\jenny\\Documents\\FAUS_Study\\Thesis\\Working_Directory\\env\\Lib\\site-packages\\sklearn\\metrics\\_classification.py:407: UserWarning: A single label was found in 'y_true' and 'y_pred'. For the confusion matrix to have the correct shape, use the 'labels' parameter to pass all known labels.\n",
      "  warnings.warn(\n"
     ]
    },
    {
     "name": "stdout",
     "output_type": "stream",
     "text": [
      "\n",
      "\u001b[1m44/44\u001b[0m \u001b[32m━━━━━━━━━━━━━━━━━━━━\u001b[0m\u001b[37m\u001b[0m \u001b[1m0s\u001b[0m 3ms/step\n",
      "Accuracy: 1.0\n",
      "Confusion Matrix:\n",
      "[[1406]]\n",
      "Classification Report:\n",
      "              precision    recall  f1-score   support\n",
      "\n",
      "           0       1.00      1.00      1.00      1406\n",
      "\n",
      "    accuracy                           1.00      1406\n",
      "   macro avg       1.00      1.00      1.00      1406\n",
      "weighted avg       1.00      1.00      1.00      1406\n",
      "\n",
      "\n",
      "Evaluating model for device 21...\n",
      "Device 21 model performance:\n",
      "\u001b[1m1/7\u001b[0m \u001b[32m━━\u001b[0m\u001b[37m━━━━━━━━━━━━━━━━━━\u001b[0m \u001b[1m0s\u001b[0m 58ms/step"
     ]
    },
    {
     "name": "stderr",
     "output_type": "stream",
     "text": [
      "d:\\jenny\\Documents\\FAUS_Study\\Thesis\\Working_Directory\\env\\Lib\\site-packages\\sklearn\\metrics\\_classification.py:407: UserWarning: A single label was found in 'y_true' and 'y_pred'. For the confusion matrix to have the correct shape, use the 'labels' parameter to pass all known labels.\n",
      "  warnings.warn(\n"
     ]
    },
    {
     "name": "stdout",
     "output_type": "stream",
     "text": [
      "\u001b[1m7/7\u001b[0m \u001b[32m━━━━━━━━━━━━━━━━━━━━\u001b[0m\u001b[37m\u001b[0m \u001b[1m0s\u001b[0m 28ms/step\n",
      "Accuracy: 1.0\n",
      "Confusion Matrix:\n",
      "[[194]]\n",
      "Classification Report:\n",
      "              precision    recall  f1-score   support\n",
      "\n",
      "           0       1.00      1.00      1.00       194\n",
      "\n",
      "    accuracy                           1.00       194\n",
      "   macro avg       1.00      1.00      1.00       194\n",
      "weighted avg       1.00      1.00      1.00       194\n",
      "\n",
      "\n",
      "Evaluating model for device 22...\n",
      "Device 22 model performance:\n"
     ]
    },
    {
     "name": "stderr",
     "output_type": "stream",
     "text": [
      "d:\\jenny\\Documents\\FAUS_Study\\Thesis\\Working_Directory\\env\\Lib\\site-packages\\sklearn\\metrics\\_classification.py:407: UserWarning: A single label was found in 'y_true' and 'y_pred'. For the confusion matrix to have the correct shape, use the 'labels' parameter to pass all known labels.\n",
      "  warnings.warn(\n"
     ]
    },
    {
     "name": "stdout",
     "output_type": "stream",
     "text": [
      "\u001b[1m17/17\u001b[0m \u001b[32m━━━━━━━━━━━━━━━━━━━━\u001b[0m\u001b[37m\u001b[0m \u001b[1m0s\u001b[0m 6ms/step\n",
      "Accuracy: 1.0\n",
      "Confusion Matrix:\n",
      "[[518]]\n",
      "Classification Report:\n",
      "              precision    recall  f1-score   support\n",
      "\n",
      "           0       1.00      1.00      1.00       518\n",
      "\n",
      "    accuracy                           1.00       518\n",
      "   macro avg       1.00      1.00      1.00       518\n",
      "weighted avg       1.00      1.00      1.00       518\n",
      "\n",
      "\n",
      "Evaluating model for device 23...\n"
     ]
    },
    {
     "name": "stderr",
     "output_type": "stream",
     "text": [
      "d:\\jenny\\Documents\\FAUS_Study\\Thesis\\Working_Directory\\env\\Lib\\site-packages\\sklearn\\metrics\\_classification.py:407: UserWarning: A single label was found in 'y_true' and 'y_pred'. For the confusion matrix to have the correct shape, use the 'labels' parameter to pass all known labels.\n",
      "  warnings.warn(\n"
     ]
    },
    {
     "name": "stdout",
     "output_type": "stream",
     "text": [
      "Device 23 model performance:\n",
      "\u001b[1m49/49\u001b[0m \u001b[32m━━━━━━━━━━━━━━━━━━━━\u001b[0m\u001b[37m\u001b[0m \u001b[1m0s\u001b[0m 4ms/step\n",
      "Accuracy: 1.0\n",
      "Confusion Matrix:\n",
      "[[1550]]\n",
      "Classification Report:\n",
      "              precision    recall  f1-score   support\n",
      "\n",
      "           0       1.00      1.00      1.00      1550\n",
      "\n",
      "    accuracy                           1.00      1550\n",
      "   macro avg       1.00      1.00      1.00      1550\n",
      "weighted avg       1.00      1.00      1.00      1550\n",
      "\n",
      "\n",
      "Evaluating model for device 24...\n",
      "Device 24 model performance:\n"
     ]
    },
    {
     "name": "stderr",
     "output_type": "stream",
     "text": [
      "d:\\jenny\\Documents\\FAUS_Study\\Thesis\\Working_Directory\\env\\Lib\\site-packages\\sklearn\\metrics\\_classification.py:407: UserWarning: A single label was found in 'y_true' and 'y_pred'. For the confusion matrix to have the correct shape, use the 'labels' parameter to pass all known labels.\n",
      "  warnings.warn(\n"
     ]
    },
    {
     "name": "stdout",
     "output_type": "stream",
     "text": [
      "\u001b[1m2/2\u001b[0m \u001b[32m━━━━━━━━━━━━━━━━━━━━\u001b[0m\u001b[37m\u001b[0m \u001b[1m0s\u001b[0m 104ms/step\n",
      "Accuracy: 1.0\n",
      "Confusion Matrix:\n",
      "[[43]]\n",
      "Classification Report:\n",
      "              precision    recall  f1-score   support\n",
      "\n",
      "           0       1.00      1.00      1.00        43\n",
      "\n",
      "    accuracy                           1.00        43\n",
      "   macro avg       1.00      1.00      1.00        43\n",
      "weighted avg       1.00      1.00      1.00        43\n",
      "\n",
      "\n",
      "Evaluating model for device 25...\n",
      "Device 25 model performance:\n"
     ]
    },
    {
     "name": "stderr",
     "output_type": "stream",
     "text": [
      "d:\\jenny\\Documents\\FAUS_Study\\Thesis\\Working_Directory\\env\\Lib\\site-packages\\sklearn\\metrics\\_classification.py:407: UserWarning: A single label was found in 'y_true' and 'y_pred'. For the confusion matrix to have the correct shape, use the 'labels' parameter to pass all known labels.\n",
      "  warnings.warn(\n"
     ]
    },
    {
     "name": "stdout",
     "output_type": "stream",
     "text": [
      "\u001b[1m1/1\u001b[0m \u001b[32m━━━━━━━━━━━━━━━━━━━━\u001b[0m\u001b[37m\u001b[0m \u001b[1m0s\u001b[0m 129ms/step\n",
      "Accuracy: 1.0\n",
      "Confusion Matrix:\n",
      "[[2]]\n",
      "Classification Report:\n",
      "              precision    recall  f1-score   support\n",
      "\n",
      "           0       1.00      1.00      1.00         2\n",
      "\n",
      "    accuracy                           1.00         2\n",
      "   macro avg       1.00      1.00      1.00         2\n",
      "weighted avg       1.00      1.00      1.00         2\n",
      "\n",
      "\n",
      "Evaluating model for device 26...\n",
      "Device 26 model performance:\n"
     ]
    },
    {
     "name": "stderr",
     "output_type": "stream",
     "text": [
      "d:\\jenny\\Documents\\FAUS_Study\\Thesis\\Working_Directory\\env\\Lib\\site-packages\\sklearn\\metrics\\_classification.py:407: UserWarning: A single label was found in 'y_true' and 'y_pred'. For the confusion matrix to have the correct shape, use the 'labels' parameter to pass all known labels.\n",
      "  warnings.warn(\n"
     ]
    },
    {
     "name": "stdout",
     "output_type": "stream",
     "text": [
      "\u001b[1m1/1\u001b[0m \u001b[32m━━━━━━━━━━━━━━━━━━━━\u001b[0m\u001b[37m\u001b[0m \u001b[1m0s\u001b[0m 180ms/step\n",
      "Accuracy: 1.0\n",
      "Confusion Matrix:\n",
      "[[2]]\n",
      "Classification Report:\n",
      "              precision    recall  f1-score   support\n",
      "\n",
      "           0       1.00      1.00      1.00         2\n",
      "\n",
      "    accuracy                           1.00         2\n",
      "   macro avg       1.00      1.00      1.00         2\n",
      "weighted avg       1.00      1.00      1.00         2\n",
      "\n",
      "\n",
      "Evaluating model for device 27...\n"
     ]
    },
    {
     "name": "stderr",
     "output_type": "stream",
     "text": [
      "d:\\jenny\\Documents\\FAUS_Study\\Thesis\\Working_Directory\\env\\Lib\\site-packages\\sklearn\\metrics\\_classification.py:407: UserWarning: A single label was found in 'y_true' and 'y_pred'. For the confusion matrix to have the correct shape, use the 'labels' parameter to pass all known labels.\n",
      "  warnings.warn(\n"
     ]
    },
    {
     "name": "stdout",
     "output_type": "stream",
     "text": [
      "Device 27 model performance:\n",
      "\u001b[1m281/281\u001b[0m \u001b[32m━━━━━━━━━━━━━━━━━━━━\u001b[0m\u001b[37m\u001b[0m \u001b[1m1s\u001b[0m 2ms/step\n",
      "Accuracy: 1.0\n",
      "Confusion Matrix:\n",
      "[[8975]]\n",
      "Classification Report:\n",
      "              precision    recall  f1-score   support\n",
      "\n",
      "           0       1.00      1.00      1.00      8975\n",
      "\n",
      "    accuracy                           1.00      8975\n",
      "   macro avg       1.00      1.00      1.00      8975\n",
      "weighted avg       1.00      1.00      1.00      8975\n",
      "\n",
      "\n",
      "Evaluating model for device 28...\n",
      "Device 28 model performance:\n"
     ]
    },
    {
     "name": "stderr",
     "output_type": "stream",
     "text": [
      "d:\\jenny\\Documents\\FAUS_Study\\Thesis\\Working_Directory\\env\\Lib\\site-packages\\sklearn\\metrics\\_classification.py:407: UserWarning: A single label was found in 'y_true' and 'y_pred'. For the confusion matrix to have the correct shape, use the 'labels' parameter to pass all known labels.\n",
      "  warnings.warn(\n"
     ]
    },
    {
     "name": "stdout",
     "output_type": "stream",
     "text": [
      "\u001b[1m1/1\u001b[0m \u001b[32m━━━━━━━━━━━━━━━━━━━━\u001b[0m\u001b[37m\u001b[0m \u001b[1m0s\u001b[0m 223ms/step\n",
      "Accuracy: 1.0\n",
      "Confusion Matrix:\n",
      "[[3]]\n",
      "Classification Report:\n",
      "              precision    recall  f1-score   support\n",
      "\n",
      "           0       1.00      1.00      1.00         3\n",
      "\n",
      "    accuracy                           1.00         3\n",
      "   macro avg       1.00      1.00      1.00         3\n",
      "weighted avg       1.00      1.00      1.00         3\n",
      "\n",
      "\n",
      "Evaluating model for device 29...\n",
      "Device 29 model performance:\n"
     ]
    },
    {
     "name": "stderr",
     "output_type": "stream",
     "text": [
      "d:\\jenny\\Documents\\FAUS_Study\\Thesis\\Working_Directory\\env\\Lib\\site-packages\\sklearn\\metrics\\_classification.py:407: UserWarning: A single label was found in 'y_true' and 'y_pred'. For the confusion matrix to have the correct shape, use the 'labels' parameter to pass all known labels.\n",
      "  warnings.warn(\n"
     ]
    },
    {
     "name": "stdout",
     "output_type": "stream",
     "text": [
      "\u001b[1m1/1\u001b[0m \u001b[32m━━━━━━━━━━━━━━━━━━━━\u001b[0m\u001b[37m\u001b[0m \u001b[1m0s\u001b[0m 123ms/step\n",
      "Accuracy: 1.0\n",
      "Confusion Matrix:\n",
      "[[3]]\n",
      "Classification Report:\n",
      "              precision    recall  f1-score   support\n",
      "\n",
      "           0       1.00      1.00      1.00         3\n",
      "\n",
      "    accuracy                           1.00         3\n",
      "   macro avg       1.00      1.00      1.00         3\n",
      "weighted avg       1.00      1.00      1.00         3\n",
      "\n",
      "\n",
      "Evaluating model for device 30...\n",
      "Device 30 model performance:\n"
     ]
    },
    {
     "name": "stderr",
     "output_type": "stream",
     "text": [
      "d:\\jenny\\Documents\\FAUS_Study\\Thesis\\Working_Directory\\env\\Lib\\site-packages\\sklearn\\metrics\\_classification.py:407: UserWarning: A single label was found in 'y_true' and 'y_pred'. For the confusion matrix to have the correct shape, use the 'labels' parameter to pass all known labels.\n",
      "  warnings.warn(\n"
     ]
    },
    {
     "name": "stdout",
     "output_type": "stream",
     "text": [
      "\u001b[1m1/1\u001b[0m \u001b[32m━━━━━━━━━━━━━━━━━━━━\u001b[0m\u001b[37m\u001b[0m \u001b[1m0s\u001b[0m 160ms/step\n",
      "Accuracy: 1.0\n",
      "Confusion Matrix:\n",
      "[[1]]\n",
      "Classification Report:\n",
      "              precision    recall  f1-score   support\n",
      "\n",
      "           0       1.00      1.00      1.00         1\n",
      "\n",
      "    accuracy                           1.00         1\n",
      "   macro avg       1.00      1.00      1.00         1\n",
      "weighted avg       1.00      1.00      1.00         1\n",
      "\n",
      "\n",
      "Evaluating model for device 31...\n"
     ]
    },
    {
     "name": "stderr",
     "output_type": "stream",
     "text": [
      "d:\\jenny\\Documents\\FAUS_Study\\Thesis\\Working_Directory\\env\\Lib\\site-packages\\sklearn\\metrics\\_classification.py:407: UserWarning: A single label was found in 'y_true' and 'y_pred'. For the confusion matrix to have the correct shape, use the 'labels' parameter to pass all known labels.\n",
      "  warnings.warn(\n"
     ]
    },
    {
     "name": "stdout",
     "output_type": "stream",
     "text": [
      "Device 31 model performance:\n",
      "\u001b[1m190/190\u001b[0m \u001b[32m━━━━━━━━━━━━━━━━━━━━\u001b[0m\u001b[37m\u001b[0m \u001b[1m1s\u001b[0m 3ms/step\n",
      "Accuracy: 1.0\n",
      "Confusion Matrix:\n",
      "[[6073]]\n",
      "Classification Report:\n",
      "              precision    recall  f1-score   support\n",
      "\n",
      "           0       1.00      1.00      1.00      6073\n",
      "\n",
      "    accuracy                           1.00      6073\n",
      "   macro avg       1.00      1.00      1.00      6073\n",
      "weighted avg       1.00      1.00      1.00      6073\n",
      "\n",
      "\n",
      "Evaluating model for device 32...\n",
      "Device 32 model performance:\n"
     ]
    },
    {
     "name": "stderr",
     "output_type": "stream",
     "text": [
      "d:\\jenny\\Documents\\FAUS_Study\\Thesis\\Working_Directory\\env\\Lib\\site-packages\\sklearn\\metrics\\_classification.py:407: UserWarning: A single label was found in 'y_true' and 'y_pred'. For the confusion matrix to have the correct shape, use the 'labels' parameter to pass all known labels.\n",
      "  warnings.warn(\n"
     ]
    },
    {
     "name": "stdout",
     "output_type": "stream",
     "text": [
      "\u001b[1m1/1\u001b[0m \u001b[32m━━━━━━━━━━━━━━━━━━━━\u001b[0m\u001b[37m\u001b[0m \u001b[1m0s\u001b[0m 135ms/step\n",
      "Accuracy: 1.0\n",
      "Confusion Matrix:\n",
      "[[1]]\n",
      "Classification Report:\n",
      "              precision    recall  f1-score   support\n",
      "\n",
      "           0       1.00      1.00      1.00         1\n",
      "\n",
      "    accuracy                           1.00         1\n",
      "   macro avg       1.00      1.00      1.00         1\n",
      "weighted avg       1.00      1.00      1.00         1\n",
      "\n",
      "\n",
      "Evaluating model for device 33...\n",
      "Device 33 model performance:\n"
     ]
    },
    {
     "name": "stderr",
     "output_type": "stream",
     "text": [
      "d:\\jenny\\Documents\\FAUS_Study\\Thesis\\Working_Directory\\env\\Lib\\site-packages\\sklearn\\metrics\\_classification.py:407: UserWarning: A single label was found in 'y_true' and 'y_pred'. For the confusion matrix to have the correct shape, use the 'labels' parameter to pass all known labels.\n",
      "  warnings.warn(\n"
     ]
    },
    {
     "name": "stdout",
     "output_type": "stream",
     "text": [
      "\u001b[1m1/1\u001b[0m \u001b[32m━━━━━━━━━━━━━━━━━━━━\u001b[0m\u001b[37m\u001b[0m \u001b[1m0s\u001b[0m 134ms/step\n",
      "Accuracy: 1.0\n",
      "Confusion Matrix:\n",
      "[[1]]\n",
      "Classification Report:\n",
      "              precision    recall  f1-score   support\n",
      "\n",
      "           0       1.00      1.00      1.00         1\n",
      "\n",
      "    accuracy                           1.00         1\n",
      "   macro avg       1.00      1.00      1.00         1\n",
      "weighted avg       1.00      1.00      1.00         1\n",
      "\n",
      "\n",
      "Evaluating model for device 34...\n",
      "Device 34 model performance:\n",
      "\u001b[1m1/1\u001b[0m \u001b[32m━━━━━━━━━━━━━━━━━━━━\u001b[0m\u001b[37m\u001b[0m \u001b[1m0s\u001b[0m 79ms/step"
     ]
    },
    {
     "name": "stderr",
     "output_type": "stream",
     "text": [
      "d:\\jenny\\Documents\\FAUS_Study\\Thesis\\Working_Directory\\env\\Lib\\site-packages\\sklearn\\metrics\\_classification.py:407: UserWarning: A single label was found in 'y_true' and 'y_pred'. For the confusion matrix to have the correct shape, use the 'labels' parameter to pass all known labels.\n",
      "  warnings.warn(\n"
     ]
    },
    {
     "name": "stdout",
     "output_type": "stream",
     "text": [
      "\u001b[1m1/1\u001b[0m \u001b[32m━━━━━━━━━━━━━━━━━━━━\u001b[0m\u001b[37m\u001b[0m \u001b[1m0s\u001b[0m 161ms/step\n",
      "Accuracy: 1.0\n",
      "Confusion Matrix:\n",
      "[[1]]\n",
      "Classification Report:\n",
      "              precision    recall  f1-score   support\n",
      "\n",
      "           0       1.00      1.00      1.00         1\n",
      "\n",
      "    accuracy                           1.00         1\n",
      "   macro avg       1.00      1.00      1.00         1\n",
      "weighted avg       1.00      1.00      1.00         1\n",
      "\n",
      "\n",
      "Evaluating model for device 35...\n",
      "Device 35 model performance:\n"
     ]
    },
    {
     "name": "stderr",
     "output_type": "stream",
     "text": [
      "d:\\jenny\\Documents\\FAUS_Study\\Thesis\\Working_Directory\\env\\Lib\\site-packages\\sklearn\\metrics\\_classification.py:407: UserWarning: A single label was found in 'y_true' and 'y_pred'. For the confusion matrix to have the correct shape, use the 'labels' parameter to pass all known labels.\n",
      "  warnings.warn(\n"
     ]
    },
    {
     "name": "stdout",
     "output_type": "stream",
     "text": [
      "\u001b[1m1/1\u001b[0m \u001b[32m━━━━━━━━━━━━━━━━━━━━\u001b[0m\u001b[37m\u001b[0m \u001b[1m0s\u001b[0m 96ms/step\n",
      "Accuracy: 1.0\n",
      "Confusion Matrix:\n",
      "[[3]]\n",
      "Classification Report:\n",
      "              precision    recall  f1-score   support\n",
      "\n",
      "           0       1.00      1.00      1.00         3\n",
      "\n",
      "    accuracy                           1.00         3\n",
      "   macro avg       1.00      1.00      1.00         3\n",
      "weighted avg       1.00      1.00      1.00         3\n",
      "\n",
      "\n",
      "Evaluating model for device 36...\n"
     ]
    },
    {
     "name": "stderr",
     "output_type": "stream",
     "text": [
      "d:\\jenny\\Documents\\FAUS_Study\\Thesis\\Working_Directory\\env\\Lib\\site-packages\\sklearn\\metrics\\_classification.py:407: UserWarning: A single label was found in 'y_true' and 'y_pred'. For the confusion matrix to have the correct shape, use the 'labels' parameter to pass all known labels.\n",
      "  warnings.warn(\n"
     ]
    },
    {
     "name": "stdout",
     "output_type": "stream",
     "text": [
      "Device 36 model performance:\n",
      "\u001b[1m257/257\u001b[0m \u001b[32m━━━━━━━━━━━━━━━━━━━━\u001b[0m\u001b[37m\u001b[0m \u001b[1m0s\u001b[0m 2ms/step\n",
      "Accuracy: 1.0\n",
      "Confusion Matrix:\n",
      "[[8210]]\n",
      "Classification Report:\n",
      "              precision    recall  f1-score   support\n",
      "\n",
      "           0       1.00      1.00      1.00      8210\n",
      "\n",
      "    accuracy                           1.00      8210\n",
      "   macro avg       1.00      1.00      1.00      8210\n",
      "weighted avg       1.00      1.00      1.00      8210\n",
      "\n",
      "\n",
      "Evaluating model for device 37...\n",
      "Warning: Insufficient data in D:/jenny/Documents/FAUS_Study/Thesis/My_dataset/Test_data/Normal_data/Device_data/device_37_data.csv. Skipping this device.\n",
      "Skipping device 37 due to insufficient or invalid data.\n",
      "\n",
      "Evaluating model for device 38...\n",
      "Device 38 model performance:\n",
      "\u001b[1m1/1\u001b[0m \u001b[32m━━━━━━━━━━━━━━━━━━━━\u001b[0m\u001b[37m\u001b[0m \u001b[1m0s\u001b[0m 58ms/step"
     ]
    },
    {
     "name": "stderr",
     "output_type": "stream",
     "text": [
      "d:\\jenny\\Documents\\FAUS_Study\\Thesis\\Working_Directory\\env\\Lib\\site-packages\\sklearn\\metrics\\_classification.py:407: UserWarning: A single label was found in 'y_true' and 'y_pred'. For the confusion matrix to have the correct shape, use the 'labels' parameter to pass all known labels.\n",
      "  warnings.warn(\n"
     ]
    },
    {
     "name": "stdout",
     "output_type": "stream",
     "text": [
      "\u001b[1m1/1\u001b[0m \u001b[32m━━━━━━━━━━━━━━━━━━━━\u001b[0m\u001b[37m\u001b[0m \u001b[1m0s\u001b[0m 96ms/step\n",
      "Accuracy: 1.0\n",
      "Confusion Matrix:\n",
      "[[1]]\n",
      "Classification Report:\n",
      "              precision    recall  f1-score   support\n",
      "\n",
      "           0       1.00      1.00      1.00         1\n",
      "\n",
      "    accuracy                           1.00         1\n",
      "   macro avg       1.00      1.00      1.00         1\n",
      "weighted avg       1.00      1.00      1.00         1\n",
      "\n",
      "\n",
      "Evaluating model for device 39...\n",
      "Device 39 model performance:\n"
     ]
    },
    {
     "name": "stderr",
     "output_type": "stream",
     "text": [
      "d:\\jenny\\Documents\\FAUS_Study\\Thesis\\Working_Directory\\env\\Lib\\site-packages\\sklearn\\metrics\\_classification.py:407: UserWarning: A single label was found in 'y_true' and 'y_pred'. For the confusion matrix to have the correct shape, use the 'labels' parameter to pass all known labels.\n",
      "  warnings.warn(\n"
     ]
    },
    {
     "name": "stdout",
     "output_type": "stream",
     "text": [
      "\u001b[1m1/1\u001b[0m \u001b[32m━━━━━━━━━━━━━━━━━━━━\u001b[0m\u001b[37m\u001b[0m \u001b[1m0s\u001b[0m 158ms/step\n",
      "Accuracy: 1.0\n",
      "Confusion Matrix:\n",
      "[[1]]\n",
      "Classification Report:\n",
      "              precision    recall  f1-score   support\n",
      "\n",
      "           0       1.00      1.00      1.00         1\n",
      "\n",
      "    accuracy                           1.00         1\n",
      "   macro avg       1.00      1.00      1.00         1\n",
      "weighted avg       1.00      1.00      1.00         1\n",
      "\n",
      "\n",
      "Evaluating model for device 40...\n",
      "Error loading data for device 40: list index out of range\n",
      "\n",
      "Evaluating model for device 41...\n",
      "Error loading data for device 41: list index out of range\n",
      "\n",
      "Evaluating global model on aggregated test data...\n"
     ]
    },
    {
     "name": "stderr",
     "output_type": "stream",
     "text": [
      "d:\\jenny\\Documents\\FAUS_Study\\Thesis\\Working_Directory\\env\\Lib\\site-packages\\sklearn\\metrics\\_classification.py:407: UserWarning: A single label was found in 'y_true' and 'y_pred'. For the confusion matrix to have the correct shape, use the 'labels' parameter to pass all known labels.\n",
      "  warnings.warn(\n"
     ]
    },
    {
     "name": "stdout",
     "output_type": "stream",
     "text": [
      "Global model performance:\n",
      "\u001b[1m  1/436\u001b[0m \u001b[37m━━━━━━━━━━━━━━━━━━━━\u001b[0m \u001b[1m23s\u001b[0m 55ms/step"
     ]
    },
    {
     "name": "stderr",
     "output_type": "stream",
     "text": [
      "d:\\jenny\\Documents\\FAUS_Study\\Thesis\\Working_Directory\\env\\Lib\\site-packages\\keras\\src\\layers\\core\\dense.py:87: UserWarning: Do not pass an `input_shape`/`input_dim` argument to a layer. When using Sequential models, prefer using an `Input(shape)` object as the first layer in the model instead.\n",
      "  super().__init__(activity_regularizer=activity_regularizer, **kwargs)\n"
     ]
    },
    {
     "name": "stdout",
     "output_type": "stream",
     "text": [
      "\u001b[1m436/436\u001b[0m \u001b[32m━━━━━━━━━━━━━━━━━━━━\u001b[0m\u001b[37m\u001b[0m \u001b[1m1s\u001b[0m 2ms/step\n",
      "Accuracy: 1.0\n",
      "Confusion Matrix:\n",
      "[[13931]]\n",
      "Classification Report:\n",
      "              precision    recall  f1-score   support\n",
      "\n",
      "           0       1.00      1.00      1.00     13931\n",
      "\n",
      "    accuracy                           1.00     13931\n",
      "   macro avg       1.00      1.00      1.00     13931\n",
      "weighted avg       1.00      1.00      1.00     13931\n",
      "\n",
      "\n",
      "Evaluation completed!\n"
     ]
    },
    {
     "name": "stderr",
     "output_type": "stream",
     "text": [
      "d:\\jenny\\Documents\\FAUS_Study\\Thesis\\Working_Directory\\env\\Lib\\site-packages\\sklearn\\metrics\\_classification.py:407: UserWarning: A single label was found in 'y_true' and 'y_pred'. For the confusion matrix to have the correct shape, use the 'labels' parameter to pass all known labels.\n",
      "  warnings.warn(\n"
     ]
    }
   ],
   "source": [
    "\"\"\"\"************************************************************************************************************\n",
    "Evalation Script for each device in the network.\n",
    "\n",
    "***************************************************************************************************************\n",
    "\"\"\"\n",
    "\n",
    "from sklearn.metrics import accuracy_score, confusion_matrix, classification_report,f1_score,precision_score,recall_score\n",
    "\n",
    "# Helper function for model evaluation\n",
    "def evaluate_model(model, X_test, y_test):\n",
    "    y_pred = model.predict(X_test)\n",
    "    y_pred = (y_pred > 0.5).astype(\"int32\")  # Threshold for binary classification\n",
    "    accuracy = accuracy_score(y_test, y_pred)\n",
    "    print(f\"Accuracy: {accuracy}\")\n",
    "    print(\"Confusion Matrix:\")\n",
    "    print(confusion_matrix(y_test, y_pred))\n",
    "    print(\"Classification Report:\")\n",
    "    print(classification_report(y_test, y_pred))\n",
    "\n",
    "# Ensure that device_paths and device_models are available\n",
    "device_paths = [f\"D:/jenny/Documents/FAUS_Study/Thesis/My_dataset/Test_data/Normal_data/Device_data/device_{i}_data.csv\" for i in range(1, 42)]  # Example paths for 41 devices\n",
    "\n",
    "# Check if device models are available from the federated learning process\n",
    "if 'device_models' not in globals():\n",
    "    print(\"Device models not found. Please run the federated learning first.\")\n",
    "else:\n",
    "    # Evaluate device models\n",
    "    for device_idx, device_path in enumerate(device_paths):\n",
    "        print(f\"\\nEvaluating model for device {device_idx + 1}...\")\n",
    "        \n",
    "        # Load and preprocess the data for this device (same as federated learning)\n",
    "        try:\n",
    "            X_train, X_test, y_train, y_test = load_and_preprocess_data(device_path)\n",
    "            \n",
    "            # Check if the test data is valid (not None and not empty)\n",
    "            if X_test is not None and len(X_test) > 0:\n",
    "                device_model = device_models[device_idx]\n",
    "                print(f\"Device {device_idx + 1} model performance:\")\n",
    "                evaluate_model(device_model, X_test, y_test)  # Evaluate using test data\n",
    "            else:\n",
    "                print(f\"Skipping device {device_idx + 1} due to insufficient or invalid data.\")\n",
    "        except Exception as e:\n",
    "            print(f\"Error loading data for device {device_idx + 1}: {str(e)}\")\n",
    "\n",
    "    # Evaluate global model (if applicable)\n",
    "    if global_weights is not None:\n",
    "        print(\"\\nEvaluating global model on aggregated test data...\")\n",
    "        \n",
    "        # Use test data from the first device (or you can aggregate test data from all devices)\n",
    "        try:\n",
    "            X_train, X_test, y_train, y_test = load_and_preprocess_data(device_paths[0])  # Use the first device's test data\n",
    "            \n",
    "            # Check if the global test data is valid (not None and not empty)\n",
    "            if X_test is not None and len(X_test) > 0:\n",
    "                global_model = create_model(X_test.shape[1])\n",
    "                global_model.set_weights(global_weights)\n",
    "                print(\"Global model performance:\")\n",
    "                evaluate_model(global_model, X_test, y_test)  # Evaluate using aggregated global model\n",
    "            else:\n",
    "                print(\"Skipping global model evaluation due to insufficient or invalid test data.\")\n",
    "        except Exception as e:\n",
    "            print(f\"Error loading data for global model evaluation: {str(e)}\")\n",
    "\n",
    "print(\"\\nEvaluation completed!\")"
   ]
  }
 ],
 "metadata": {
  "kernelspec": {
   "display_name": "env",
   "language": "python",
   "name": "python3"
  },
  "language_info": {
   "codemirror_mode": {
    "name": "ipython",
    "version": 3
   },
   "file_extension": ".py",
   "mimetype": "text/x-python",
   "name": "python",
   "nbconvert_exporter": "python",
   "pygments_lexer": "ipython3",
   "version": "3.11.2"
  }
 },
 "nbformat": 4,
 "nbformat_minor": 2
}
